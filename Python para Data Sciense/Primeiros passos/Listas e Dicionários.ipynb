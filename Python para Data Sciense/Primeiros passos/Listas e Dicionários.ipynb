{
 "cells": [
  {
   "cell_type": "markdown",
   "metadata": {},
   "source": [
    "LISTAS"
   ]
  },
  {
   "cell_type": "code",
   "execution_count": null,
   "metadata": {},
   "outputs": [],
   "source": [
    "#LISTAS\n",
    "\n",
    "# Lista e seus Indices\n",
    "lista = ['Fabrício Daniel', 9.5, 9.0, 8.0, True]\n",
    "print(lista)\n",
    "print(lista[1])\n",
    "print(lista[3])\n",
    "print(lista[-5])\n",
    "print(lista[-1])\n",
    "\n",
    "\n",
    "for elemento in lista:\n",
    "    print(elemento)\n",
    "\n",
    "lista[3] = 10.0\n",
    "print(lista)"
   ]
  },
  {
   "cell_type": "code",
   "execution_count": null,
   "metadata": {},
   "outputs": [],
   "source": [
    "#Manipulação de listas com os indíces\n",
    "media = (lista[1] + lista[2] + lista[3]) / 3\n",
    "print(media)"
   ]
  },
  {
   "cell_type": "code",
   "execution_count": null,
   "metadata": {},
   "outputs": [],
   "source": [
    "#Manipulação de listas com Strings\n",
    "duvida = 'Quem veio antes? O ovo? Ou foi a serpente?'\n",
    "lista_palavras = duvida.split('?')\n",
    "print(lista_palavras)"
   ]
  },
  {
   "cell_type": "code",
   "execution_count": null,
   "metadata": {},
   "outputs": [],
   "source": [
    "linguagem = 'Python'\n",
    "print(linguagem[0], linguagem[1], linguagem[2], linguagem[-3], linguagem[-2], linguagem[-1])\n"
   ]
  },
  {
   "cell_type": "code",
   "execution_count": null,
   "metadata": {},
   "outputs": [],
   "source": [
    "duvida = 'Quem veio antes? O ovo? Ou foi a serpente?'\n",
    "lista_palavras = duvida.split('?')\n",
    "print(lista_palavras)\n"
   ]
  },
  {
   "cell_type": "code",
   "execution_count": null,
   "metadata": {},
   "outputs": [],
   "source": [
    "duvida = 'Quem veio antes? O ovo? Ou foi a serpente?'\n",
    "lista_palavras = duvida.split()\n",
    "print(lista_palavras)\n"
   ]
  },
  {
   "cell_type": "code",
   "execution_count": 2,
   "metadata": {},
   "outputs": [
    {
     "name": "stdout",
     "output_type": "stream",
     "text": [
      "Tintas: vermelho, azul e amarelo. Verde: mistura de azul e amarelo. Laranja: mistura de vermelho e amarelo. Roxo: mistura de vermelho e azul\n"
     ]
    }
   ],
   "source": [
    "misturas = ['Tintas: vermelho, azul e amarelo',\n",
    "            'Verde: mistura de azul e amarelo',\n",
    "            'Laranja: mistura de vermelho e amarelo',\n",
    "            'Roxo: mistura de vermelho e azul']\n",
    "unificador = '. '\n",
    "string_misturas = unificador.join(misturas)\n",
    "print(string_misturas)"
   ]
  },
  {
   "cell_type": "code",
   "execution_count": 3,
   "metadata": {},
   "outputs": [
    {
     "name": "stdout",
     "output_type": "stream",
     "text": [
      "5\n",
      "[9.5, 9.0]\n",
      "[9.0, 8.0]\n",
      "[9.0, 8.0, True]\n",
      "['Fabricio Daniel', 9.5, 9.0]\n",
      "[9.5, 9.0, 8.0]\n",
      "[9.5, 9.0, 8.0, True]\n"
     ]
    }
   ],
   "source": [
    "# Manipulação de listas\n",
    "\n",
    "#Quantidade de elementos em uma lista\n",
    "lista = ['Fabricio Daniel', 9.5, 9.0, 8.0, True]\n",
    "print(len(lista))\n",
    "\n",
    "#Partição de uma lista\n",
    "lista = ['Fabricio Daniel', 9.5, 9.0, 8.0, True]\n",
    "print(lista[1:3])\n",
    "print(lista[2:4])\n",
    "print(lista[2:])\n",
    "print(lista[-5:-2])\n",
    "print(lista[-4:-1])\n",
    "print(lista[-4:])"
   ]
  },
  {
   "cell_type": "code",
   "execution_count": null,
   "metadata": {},
   "outputs": [],
   "source": [
    "#Métodos em uma lista\n",
    "lista = ['Fabrício Daniel', 9.5, 9.0, 8.0, True]\n",
    "media = (lista[1] + lista[2] + lista[3]) / 3\n",
    "print(f'{media:.2f}')"
   ]
  },
  {
   "cell_type": "code",
   "execution_count": null,
   "metadata": {},
   "outputs": [],
   "source": [
    "#Adicionando um elemento único ao final da lista\n",
    "lista.append(f'{media:.2f}')\n",
    "print(lista)"
   ]
  },
  {
   "cell_type": "code",
   "execution_count": null,
   "metadata": {},
   "outputs": [],
   "source": [
    "#Adicionando vários elementos agregados separadamente ao final da lista\n",
    "lista.extend([10.0, 8.0, 9.0])\n",
    "print(lista)"
   ]
  },
  {
   "cell_type": "code",
   "execution_count": null,
   "metadata": {},
   "outputs": [],
   "source": [
    "#Adicionando vários elementos agregados como um valor único\n",
    "lista.append([10.0, 8.0, 9.0])\n",
    "print(lista)"
   ]
  },
  {
   "cell_type": "code",
   "execution_count": null,
   "metadata": {},
   "outputs": [],
   "source": [
    "#Removendo elementos da lista\n",
    "lista.remove([10.0, 8.0, 9.0])\n",
    "print(lista)"
   ]
  },
  {
   "cell_type": "code",
   "execution_count": null,
   "metadata": {},
   "outputs": [],
   "source": [
    "raca_cães = ['Labrador Retriever',\n",
    "             'Bulldog Francês',\n",
    "             'Pastor Alemão',\n",
    "             'Poodle']\n",
    "\n",
    "#Insere um elemento a lista em uma determinada posição\n",
    "raca_cães.insert(1, 'Golden Retriever')\n",
    "print(raca_cães)\n",
    "\n",
    "#Remove um elemento de uma determinada posição na lista\n",
    "raca_cães.pop(1)\n",
    "print(raca_cães)\n",
    "\n",
    "#Retorna o indice de um elemento na lista\n",
    "raca_cães.index('Pastor Alemão')\n",
    "print(raca_cães)\n",
    "\n",
    "#Organiza os elementos em ordem crescente ou decrescente em uma lista\n",
    "raca_cães.sort()\n",
    "print(raca_cães)"
   ]
  },
  {
   "cell_type": "markdown",
   "metadata": {},
   "source": [
    "DICIONÁRIO"
   ]
  },
  {
   "cell_type": "code",
   "execution_count": null,
   "metadata": {},
   "outputs": [],
   "source": [
    "#DICIONÁRIOS\n",
    "#Criando um dicionário\n",
    "dicionario = {'chave_1':1, \n",
    "              'chave_2':2}\n",
    "print(dicionario)"
   ]
  },
  {
   "cell_type": "code",
   "execution_count": 1,
   "metadata": {},
   "outputs": [
    {
     "name": "stdout",
     "output_type": "stream",
     "text": [
      "{'Matricula': 2000168933, 'Dia_cadastro': 25, 'Mês_cadastro': 10, 'Turma': '2E'}\n"
     ]
    }
   ],
   "source": [
    "dicionario_cadastro = {'Matricula': 2000168933,\n",
    "                    'Dia_cadastro': 25,\n",
    "                    'Mês_cadastro': 10,\n",
    "                    'Turma': '2E'}\n",
    "print(dicionario_cadastro)\n"
   ]
  },
  {
   "cell_type": "code",
   "execution_count": 6,
   "metadata": {},
   "outputs": [
    {
     "name": "stdout",
     "output_type": "stream",
     "text": [
      "{'Matricula': 2000168933, 'Dia_cadastro': 25, 'Mês_cadastro': 10, 'Turma': '2E', 'Modalidade': 'EAD'}\n"
     ]
    }
   ],
   "source": [
    "#Cadastrando um novo elemento ao dicionário\n",
    "dicionario_cadastro['Modalidade'] = 'EAD'\n",
    "print(dicionario_cadastro)"
   ]
  },
  {
   "cell_type": "code",
   "execution_count": 5,
   "metadata": {},
   "outputs": [
    {
     "name": "stdout",
     "output_type": "stream",
     "text": [
      "{'Matricula': 2000168933, 'Dia_cadastro': 25, 'Mês_cadastro': 10, 'Turma': '2E', 'Modalidade': 'EAD'}\n"
     ]
    }
   ],
   "source": [
    "#Cadastrando um novo elemento ao dicionário\n",
    "dicionario_cadastro['Modalidade'] = 'EAD'\n",
    "print(dicionario_cadastro)"
   ]
  },
  {
   "cell_type": "code",
   "execution_count": 4,
   "metadata": {},
   "outputs": [
    {
     "name": "stdout",
     "output_type": "stream",
     "text": [
      "{'Matricula': 2000168933, 'Dia_cadastro': 25, 'Mês_cadastro': 10, 'Turma': '2E', 'Modalidade': 'EAD'}\n"
     ]
    }
   ],
   "source": [
    "#Cadastrando um novo elemento ao dicionário\n",
    "dicionario_cadastro['Modalidade'] = 'EAD'\n",
    "print(dicionario_cadastro)"
   ]
  },
  {
   "cell_type": "code",
   "execution_count": 3,
   "metadata": {},
   "outputs": [
    {
     "name": "stdout",
     "output_type": "stream",
     "text": [
      "dict_items([('Matricula', 2000168933), ('Dia_cadastro', 25), ('Mês_cadastro', 10), ('Turma', '2E')])\n",
      "dict_keys(['Matricula', 'Dia_cadastro', 'Mês_cadastro', 'Turma'])\n",
      "dict_values([2000168933, 25, 10, '2E'])\n",
      "2000168933\n",
      "25\n",
      "10\n",
      "2E\n",
      "2000168933\n",
      "25\n",
      "10\n",
      "2E\n",
      "Matricula 2000168933\n",
      "Dia_cadastro 25\n",
      "Mês_cadastro 10\n",
      "Turma 2E\n"
     ]
    }
   ],
   "source": [
    "#Consultando um elemento no dicionário\n",
    "print(dicionario_cadastro.items())\n",
    "print(dicionario_cadastro.keys())\n",
    "print(dicionario_cadastro.values())\n",
    "\n",
    "for chaves in dicionario_cadastro.keys():\n",
    "    print(dicionario_cadastro[chaves])\n",
    "\n",
    "for valores in dicionario_cadastro.values():\n",
    "    print(valores)    \n",
    "\n",
    "for chaves, valores in dicionario_cadastro.items():\n",
    "    print(chaves, valores)"
   ]
  },
  {
   "cell_type": "code",
   "execution_count": 7,
   "metadata": {},
   "outputs": [
    {
     "name": "stdout",
     "output_type": "stream",
     "text": [
      "Chave: nomes\n",
      "Elementos:\n",
      "televisão\n",
      "celular\n",
      "notebook\n",
      "geladeira\n",
      "fogão\n",
      "Chave: precos\n",
      "Elementos:\n",
      "2000\n",
      "1500\n",
      "3500\n",
      "4000\n",
      "1500\n"
     ]
    }
   ],
   "source": [
    "#Utilizando uma lista dentro de um dicionário\n",
    "loja = {'nomes': ['televisão', 'celular', 'notebook', 'geladeira', 'fogão'],\n",
    "        'precos': [2000, 1500, 3500, 4000, 1500]}\n",
    "    \n",
    "for chave, elementos in loja.items():\n",
    "  print(f'Chave: {chave}\\nElementos:')\n",
    "  for dado in elementos:\n",
    "    print(dado)   "
   ]
  },
  {
   "cell_type": "code",
   "execution_count": 8,
   "metadata": {},
   "outputs": [
    {
     "name": "stdout",
     "output_type": "stream",
     "text": [
      "700.0\n"
     ]
    }
   ],
   "source": [
    "#Outras Funções built-in\n",
    "precos = [100.0, 400.0, 200.0]\n",
    "soma = sum(precos)\n",
    "print(soma)   "
   ]
  }
 ],
 "metadata": {
  "kernelspec": {
   "display_name": ".venv",
   "language": "python",
   "name": "python3"
  },
  "language_info": {
   "codemirror_mode": {
    "name": "ipython",
    "version": 3
   },
   "file_extension": ".py",
   "mimetype": "text/x-python",
   "name": "python",
   "nbconvert_exporter": "python",
   "pygments_lexer": "ipython3",
   "version": "3.13.2"
  }
 },
 "nbformat": 4,
 "nbformat_minor": 2
}
