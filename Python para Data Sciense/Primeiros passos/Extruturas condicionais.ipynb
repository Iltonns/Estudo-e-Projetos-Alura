{
 "cells": [
  {
   "cell_type": "markdown",
   "metadata": {},
   "source": [
    "EXTRUTURAS CONDICIONAIS"
   ]
  },
  {
   "cell_type": "code",
   "execution_count": 5,
   "metadata": {},
   "outputs": [
    {
     "name": "stdout",
     "output_type": "stream",
     "text": [
      "Reprovado(a)!\n"
     ]
    }
   ],
   "source": [
    "media = float(input('Digite a média: '))\n",
    "\n",
    "if media >= 6.0:\n",
    "    print( 'Aprovado(a)!')\n",
    "elif 6.0 > media >= 4.0: # Se Média estiver entre 6.0 e 4.0\n",
    "    print('Recuperação!')\n",
    "else:\n",
    "    print('Reprovado(a)!')"
   ]
  },
  {
   "cell_type": "code",
   "execution_count": 2,
   "metadata": {},
   "outputs": [
    {
     "name": "stdout",
     "output_type": "stream",
     "text": [
      "Expressão verdadeira.\n",
      "Expressão falsa.\n",
      "Expressão verdadeira.\n"
     ]
    }
   ],
   "source": [
    "t1 = t2 = True\n",
    "f1 = f2 = False\n",
    "\n",
    "if t1 and t2:\n",
    "    print('Expressão verdadeira.')\n",
    "else:\n",
    "    print('Expressão falsa.')    \n",
    "    \n",
    "if f1 or f2:\n",
    "    print('Expressão verdadeira.')\n",
    "else:\n",
    "    print('Expressão falsa.')     \n",
    "\n",
    "if not f1:\n",
    "    print('Expressão verdadeira.')\n",
    "else:\n",
    "    print('Expressão falsa.') "
   ]
  },
  {
   "cell_type": "code",
   "execution_count": 1,
   "metadata": {},
   "outputs": [
    {
     "name": "stdout",
     "output_type": "stream",
     "text": [
      "Mariana Rodrigues está na lista!\n",
      "Marcelo Nogueira não está na lista!\n"
     ]
    }
   ],
   "source": [
    "lista = 'José da Silva, Maria Oliveira, Pedro Martins, Ana Souza, Carlos Rodrigues, Juliana Santos, Bruno Gomes, Beatriz Costa, Felipe Almeida, Mariana Fernandes, João Pinto, Luísa Nascimento, Gabriel Souza, Manuela Santos, Thiago Oliveira, Sofia Ferreira, Rafael Albuquerque, Isabella Gomes, Bruno Costa, Maria Martins, Rafaela Souza, Matheus Fernandes, Luísa Almeida, Beatriz Pinto, Mariana Rodrigues, Gabriel Nascimento, João Ferreira, Maria Albuquerque, Felipe Oliveira'\n",
    "\n",
    "nome_1 = 'Mariana Rodrigues'\n",
    "nome_2 = 'Marcelo Nogueira'\n",
    "\n",
    "if nome_1 in lista: # Se nome_1 está contida na lista\n",
    "    print(f'{nome_1} está na lista!')\n",
    "else:\n",
    "    print(f'{nome_1} não está na lista!')    \n",
    "\n",
    "if nome_2 in lista: # Se nome_2 está contida na lista\n",
    "    print(f'{nome_2} está na lista!')\n",
    "else:\n",
    "    print(f'{nome_2} não está na lista!')"
   ]
  }
 ],
 "metadata": {
  "kernelspec": {
   "display_name": ".venv",
   "language": "python",
   "name": "python3"
  },
  "language_info": {
   "codemirror_mode": {
    "name": "ipython",
    "version": 3
   },
   "file_extension": ".py",
   "mimetype": "text/x-python",
   "name": "python",
   "nbconvert_exporter": "python",
   "pygments_lexer": "ipython3",
   "version": "3.13.2"
  }
 },
 "nbformat": 4,
 "nbformat_minor": 2
}
