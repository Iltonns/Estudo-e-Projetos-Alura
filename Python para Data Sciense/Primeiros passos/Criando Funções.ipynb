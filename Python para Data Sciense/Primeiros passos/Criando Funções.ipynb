{
 "cells": [
  {
   "cell_type": "markdown",
   "metadata": {},
   "source": [
    "FUNÇÕES"
   ]
  },
  {
   "cell_type": "code",
   "execution_count": 1,
   "metadata": {},
   "outputs": [
    {
     "name": "stdout",
     "output_type": "stream",
     "text": [
      "9.0\n"
     ]
    }
   ],
   "source": [
    "# Função sem parâmetro\n",
    "def media():\n",
    "    calculo = (10 + 9 + 8) / 3\n",
    "    print(calculo)\n",
    "media()    "
   ]
  },
  {
   "cell_type": "code",
   "execution_count": 2,
   "metadata": {},
   "outputs": [
    {
     "name": "stdout",
     "output_type": "stream",
     "text": [
      "9.0\n"
     ]
    }
   ],
   "source": [
    "#Função sem parâmetro\n",
    "def media(nota_1, nota_2, nota_3):\n",
    "    calculo = (nota_1 + nota_2 + nota_3) / 3\n",
    "    print(calculo)\n",
    "media(10, 9, 8) "
   ]
  },
  {
   "cell_type": "markdown",
   "metadata": {},
   "source": [
    "FUNÇÃO COM PARÂMETRO"
   ]
  },
  {
   "cell_type": "code",
   "execution_count": 3,
   "metadata": {},
   "outputs": [
    {
     "name": "stdout",
     "output_type": "stream",
     "text": [
      "8.375\n"
     ]
    }
   ],
   "source": [
    "#Função com lista\n",
    "notas = [8.5, 9.0, 6.0, 10.0]\n",
    "\n",
    "def media(lista):\n",
    "    calculo = sum(lista) / len(lista)\n",
    "    print(calculo)\n",
    "media(notas)    \n",
    "\n",
    "# Uma função criada só pode ser definida dentro do escopo da variável"
   ]
  },
  {
   "cell_type": "code",
   "execution_count": 4,
   "metadata": {},
   "outputs": [
    {
     "name": "stdout",
     "output_type": "stream",
     "text": [
      "O(a) estudante atingiu uma média de 6.75 e foi Aprovado(a).\n"
     ]
    }
   ],
   "source": [
    "# Lista de notas do aluno\n",
    "notas = [6.0, 7.0, 9.0, 5.0]\n",
    "\n",
    "# Função que calcula a média e determina a situação do aluno\n",
    "def boletim(lista):\n",
    "    # Calcula a média: soma todas as notas e divide pelo número de notas\n",
    "    media = sum(lista) / len(lista)\n",
    "\n",
    "    # Verifica se o aluno foi aprovado (média >= 6)\n",
    "    if media >= 6:\n",
    "        situação = 'Aprovado(a)'\n",
    "    else:\n",
    "        situação = 'Reprovado(a)'    \n",
    "\n",
    "    # Retorna uma tupla com a média e a situação\n",
    "    return (media, situação)\n",
    "\n",
    "# Chama a função e desempacota os valores retornados em duas variáveis\n",
    "media, situação = boletim(notas)\n",
    "\n",
    "# Imprime o resultado formatado\n",
    "print(f'O(a) estudante atingiu uma média de {media} e foi {situação}.')"
   ]
  },
  {
   "cell_type": "code",
   "execution_count": null,
   "metadata": {},
   "outputs": [],
   "source": [
    "# a nossa função recebe uma lista do tipo list e retorna uma variável do tipo float\n",
    "# caso não recebe nenhum valor de parâmetro será passada uma lista com um único\n",
    "# elemento sendo ele zero\n",
    "def media(lista: list=[0]) -> float:\n",
    "  ''' Função para calcular a média de notas passadas por uma lista\n",
    "\n",
    "  lista: list, default [0]\n",
    "    Lista com as notas para calcular a média\n",
    "  return = calculo: float\n",
    "    Média calculada\n",
    "  '''\n",
    "  calculo = sum(lista) / len(lista)\n",
    "  return calculo\n",
    "media()\n",
    "\n",
    "\n",
    "help(media)\n"
   ]
  },
  {
   "cell_type": "markdown",
   "metadata": {},
   "source": [
    "FUNÇÃO SEM PARÂMETRO"
   ]
  },
  {
   "cell_type": "markdown",
   "metadata": {},
   "source": [
    "Criando Funções"
   ]
  },
  {
   "cell_type": "code",
   "execution_count": 2,
   "metadata": {},
   "outputs": [
    {
     "name": "stdout",
     "output_type": "stream",
     "text": [
      "8.5\n"
     ]
    }
   ],
   "source": [
    "# Comparando una função de  qualitativo no formato de função para função anônima\n",
    "# Acrescentando o qualitativo de 0.5 na nota do aluno\n",
    "nota = float(input('Digite a nota do(a) estudante: '))\n",
    "\n",
    "def qualitativo(x):\n",
    "    return x + 0.5\n",
    "print(qualitativo(nota))\n",
    "\n",
    "\n"
   ]
  },
  {
   "cell_type": "code",
   "execution_count": 3,
   "metadata": {},
   "outputs": [
    {
     "name": "stdout",
     "output_type": "stream",
     "text": [
      "7.0\n"
     ]
    }
   ],
   "source": [
    "#Testando a mesma função para uma função lambda\n",
    "nota = float(input('Digite a nota do(a) estudante: '))\n",
    "\n",
    "qualitativo = lambda x: x + 0.5\n",
    "print(qualitativo(nota))"
   ]
  },
  {
   "cell_type": "code",
   "execution_count": 4,
   "metadata": {},
   "outputs": [
    {
     "name": "stdout",
     "output_type": "stream",
     "text": [
      "O(a) estudante atingiu uma media de 7.2.\n"
     ]
    }
   ],
   "source": [
    "# Recebe três notas do usuário através do input\n",
    "# Converte cada entrada para float e armazena nas variáveis N1, N2 e N3\n",
    "N1 = nota = float(input('Digite a nota do(a) estudante: '))\n",
    "N2 = nota = float(input('Digite a nota do(a) estudante: '))\n",
    "N3 = nota = float(input('Digite a nota do(a) estudante: '))\n",
    "\n",
    "# Define uma função lambda (função anônima) para calcular média ponderada\n",
    "# x tem peso 3, y tem peso 2, e z tem peso 5\n",
    "# A soma dos pesos é 10, por isso divide-se por 10 no final\n",
    "media_ponderavel = lambda x, y, z: (x * 3 + y * 2 + z * 5)/10\n",
    "\n",
    "# Calcula a média ponderada usando as notas informadas\n",
    "media_estudante = media_ponderavel(N1, N2, N3)\n",
    "\n",
    "# Exibe o resultado formatado\n",
    "print(f'O(a) estudante atingiu uma media de {media_estudante}.')"
   ]
  },
  {
   "cell_type": "code",
   "execution_count": null,
   "metadata": {},
   "outputs": [],
   "source": [
    "# Acrescentando o qualitativo de 0.5 na nota do aluno usando a função map\n",
    "# Notas do(a) estudante\n",
    "notas = [6.0, 7.0, 9.0, 8.0]  # Define uma lista com as notas originais\n",
    "qualitativo = 0.5  # Define o valor do qualitativo a ser adicionado\n",
    "\n",
    "# Usa a função map para aplicar a função lambda em cada elemento da lista notas\n",
    "# A função lambda adiciona o qualitativo a cada nota\n",
    "notas_atualizadas = map(lambda x: x + qualitativo, notas)\n",
    "\n",
    "# Converte o objeto map para uma lista\n",
    "notas_atualizadas = list(notas_atualizadas)\n",
    "\n",
    "# Imprime a lista com as notas atualizadas\n",
    "print(notas_atualizadas)"
   ]
  }
 ],
 "metadata": {
  "kernelspec": {
   "display_name": ".venv",
   "language": "python",
   "name": "python3"
  },
  "language_info": {
   "codemirror_mode": {
    "name": "ipython",
    "version": 3
   },
   "file_extension": ".py",
   "mimetype": "text/x-python",
   "name": "python",
   "nbconvert_exporter": "python",
   "pygments_lexer": "ipython3",
   "version": "3.13.2"
  }
 },
 "nbformat": 4,
 "nbformat_minor": 2
}
