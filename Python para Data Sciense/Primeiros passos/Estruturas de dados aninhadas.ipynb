{
 "cells": [
  {
   "cell_type": "markdown",
   "id": "0fd6d752",
   "metadata": {},
   "source": [
    "LISTA DE LISTA"
   ]
  },
  {
   "cell_type": "code",
   "execution_count": null,
   "id": "933b4f3e",
   "metadata": {},
   "outputs": [
    {
     "name": "stdout",
     "output_type": "stream",
     "text": [
      "['João', 'Maria', 'José', 'Cláudia', 'Ana']\n",
      "[8.0, 9.0, 10.0, 9.0, 7.0, 6.0, 3.4, 7.0, 7.0, 5.5, 6.6, 8.0, 6.0, 10.0, 9.5]\n"
     ]
    }
   ],
   "source": [
    "\n",
    "\n",
    "\"\"\"Recebemos a demanda de transformar uma lista com o nome e as notas dos três trimestres de estudantes em uma lista simples com os nomes separados das notas e uma lista de listas com as três notas de cada estudante separadas umas das outras.\n",
    "Os dados recebidos correspondem a uma lista com os nomes e as respectivas notas de cada estudante. Vamos resolver esse desafio? Para facilitar o nosso entendimento do processo vamos trabalhar com uma turma fictícia de 5 estudantes.\"\"\"\n",
    "\n",
    "# Separando os nomes das notas\n",
    "notas_turma = ['João', 8.0, 9.0, 10.0, 'Maria', 9.0, 7.0, 6.0, 'José', 3.4, 7.0, 7.0, 'Cláudia', 5.5, 6.6, 8.0, 'Ana', 6.0, 10.0, 9.5]\n",
    "\n",
    "# Cria duas listas vazias para armazenar os nomes e notas separadamente\n",
    "nomes = []\n",
    "notas_juntas = []\n",
    "\n",
    "# Itera sobre a lista notas_turma usando índices\n",
    "for i in range(len(notas_turma)):\n",
    "    # Se o índice for divisível por 4 (posição dos nomes), adiciona à lista nomes\n",
    "    if i % 4 == 0:\n",
    "        nomes.append(notas_turma[i])\n",
    "    # Se não for divisível por 4 (posição das notas), adiciona à lista notas_juntas\n",
    "    else:\n",
    "        notas_juntas.append(notas_turma[i])    \n",
    "\n",
    "# Exibe as listas resultantes: nomes e notas_juntas\n",
    "print(nomes)\n",
    "print(notas_juntas)"
   ]
  },
  {
   "cell_type": "code",
   "execution_count": null,
   "id": "0d0952ba",
   "metadata": {},
   "outputs": [
    {
     "name": "stdout",
     "output_type": "stream",
     "text": [
      "[[8.0, 9.0, 10.0], [9.0, 7.0, 6.0], [3.4, 7.0, 7.0], [5.5, 6.6, 8.0], [6.0, 10.0, 9.5]]\n"
     ]
    }
   ],
   "source": [
    "# Criação de uma lista de listas\n",
    "notas = []  # Inicializa a lista principal que vai armazenar sublistas com 3 notas cada\n",
    "\n",
    "\n",
    "for i in range(0, len(notas_juntas), 3):  # Itera sobre os índices de 3 em 3\n",
    "    # Cria uma sublista com 3 elementos consecutivos da lista original\n",
    "    grupo_de_notas = [notas_juntas[i], notas_juntas[i+1], notas_juntas[i+2]]\n",
    "    \n",
    "    # Adiciona essa sublista à lista principal\n",
    "    notas.append(grupo_de_notas)\n",
    "\n",
    "# Exibe a lista final com os grupos de notas\n",
    "print(notas)\n"
   ]
  },
  {
   "cell_type": "markdown",
   "id": "edcad7a7",
   "metadata": {},
   "source": [
    "LISTA DE TUPLA"
   ]
  },
  {
   "cell_type": "code",
   "execution_count": null,
   "id": "ed805b1d",
   "metadata": {},
   "outputs": [
    {
     "name": "stdout",
     "output_type": "stream",
     "text": [
      "[('João', 'J883'), ('Maria', 'M893'), ('José', 'J290'), ('Cláudia', 'C38'), ('Ana', 'A506')]\n"
     ]
    }
   ],
   "source": [
    "# Nesta nova demanda, precisamos gerar uma lista de tuplas com os nomes dos estudantes e o código ID de cada um para a plataforma de análise dos dados. A criação do código consiste em concatenar a primeira letra do nome do estudante a um número aleatório de 0 a 999. Os dados recebidos correspondem a uma lista dos nomes de cada estudante.\n",
    "\n",
    "estudantes = [\"João\", \"Maria\", \"José\", \"Cláudia\", \"Ana\"]\n",
    "\n",
    "from random import randint\n",
    "\n",
    "def gera_codigo():\n",
    "    return str(randint(0,999))\n",
    "\n",
    "codigo_estudantes = []\n",
    "\n",
    "for i in range(len(estudantes)):\n",
    "    codigo_estudantes.append((estudantes[i], estudantes[i][0] + gera_codigo()))\n",
    "\n",
    "print(codigo_estudantes)  \n",
    "\n",
    "\"\"\"\n",
    "Explicação do código:\n",
    "\n",
    "1. Primeiro, definimos uma lista 'estudantes' com os nomes dos alunos\n",
    "\n",
    "2. Importamos a função randint do módulo random para gerar números aleatórios\n",
    "\n",
    "3. Definimos uma função gera_codigo() que retorna um número aleatório entre 0 e 999 como string\n",
    "\n",
    "4. Criamos uma lista vazia codigo_estudantes para armazenar as tuplas\n",
    "\n",
    "5. Iteramos sobre a lista de estudantes:\n",
    "    - Para cada estudante, criamos uma tupla contendo:\n",
    "      * O nome completo do estudante\n",
    "      * Um código formado pela primeira letra do nome + número aleatório\n",
    "\n",
    "6. O resultado final é uma lista de tuplas onde cada tupla contém:\n",
    "    (nome_do_estudante, código_identificador)\n",
    "\"\"\""
   ]
  },
  {
   "cell_type": "markdown",
   "id": "b11e6c46",
   "metadata": {},
   "source": [
    "LIST COMPREHENSION"
   ]
  },
  {
   "cell_type": "code",
   "execution_count": null,
   "id": "f8628849",
   "metadata": {},
   "outputs": [
    {
     "name": "stdout",
     "output_type": "stream",
     "text": [
      "[9.0, 7.3, 5.8, 6.7, 8.5]\n"
     ]
    }
   ],
   "source": [
    "# Compreensão de listas - List comprehension\n",
    "# Recebemos a demanda de criar uma lista com as médias dos estudantes da lista de listas que criamos na Situação 6. Lembrando que cada lista da lista de listas possui as três notas de cada estudante.\n",
    "\n",
    "# Expressão [exressão for item in lista]\n",
    "\n",
    "notas = [[8.0, 9.0, 10.0], [9.0, 7.0, 6.0], [3.4, 7.0, 7.0], [5.5, 6.6, 8.0], [6.0, 10.0, 9.5]]\n",
    "\n",
    "def media(lista: list=[0]) -> float:\n",
    "  ''' Função para calcular a média de notas passadas por uma lista\n",
    "\n",
    "  lista: list, default [0]\n",
    "    Lista com as notas para calcular a média\n",
    "  return = calculo: float\n",
    "    Média calculada\n",
    "  '''\n",
    "  \n",
    "  calculo = sum(lista) / len(lista)\n",
    "\n",
    "  return calculo\n",
    "\n",
    "medias = [round(media(nota), 1) for nota in notas]\n",
    "print(medias)\n",
    "\n",
    "\"\"\"\n",
    "Explicação do código:\n",
    "\n",
    "1. Temos uma lista de listas 'notas' onde cada sublista contém 3 notas de um estudante\n",
    "\n",
    "2. Definimos uma função 'media' que:\n",
    "    - Recebe uma lista como parâmetro (com valor default [0])\n",
    "    - Está tipada para receber list e retornar float\n",
    "    - Calcula a média somando todos os valores e dividindo pelo tamanho da lista\n",
    "    - Retorna o resultado do cálculo\n",
    "\n",
    "3. Usamos list comprehension para criar a lista 'medias':\n",
    "    - Itera sobre cada sublista em 'notas'\n",
    "    - Aplica a função media() para cada sublista\n",
    "    - Arredonda o resultado para 1 casa decimal usando round()\n",
    "    - Cria uma nova lista com todas as médias calculadas\n",
    "\n",
    "4. O resultado final é uma lista com as médias de cada estudante\n",
    "    onde cada valor representa a média das 3 notas do respectivo aluno\n",
    "\"\"\""
   ]
  },
  {
   "cell_type": "code",
   "execution_count": null,
   "id": "5902121a",
   "metadata": {},
   "outputs": [
    {
     "name": "stdout",
     "output_type": "stream",
     "text": [
      "['João', 'Ana']\n"
     ]
    }
   ],
   "source": [
    "# Agora, precisamos utilizar as médias calculadas no exemplo anterior, pareando com o nome dos estudantes. Isto será necessário para gerar uma lista que selecione aqueles estudantes que possuam uma média final maior ou igual a 8 para concorrer a uma bolsa para o próximo ano letivo.\n",
    "\n",
    "#Os dados recebidos correspondem a uma lista de tuplas com os nomes e códigos dos estudantes e a lista de médias calculadas logo acima. \n",
    "\n",
    "#Expressão [expr for item in lista if cond]\n",
    "\n",
    "nomes = [('João', 'J883'), ('Maria', 'M893'), ('José', 'J290'), ('Cláudia', 'C38'), ('Ana', 'A506')]\n",
    "medias = [9.0, 7.3, 5.8, 6.7, 8.5]\n",
    "\n",
    "#Gerando a lista de nomes (extraindo da tupla)\n",
    "nomes = [nome[0] for nome in nomes]\n",
    "\n",
    "# Gerando a lista de pessoas candidatas a bolsa\n",
    "estudantes = list(zip(nomes, medias))\n",
    "candidatos = [estudante[0] for estudante in estudantes if estudante[1] >= 8]\n",
    "print(candidatos)\n",
    "\n",
    "\"\"\"\n",
    "Explicação do código:\n",
    "\n",
    "1. Temos duas listas:\n",
    "    - nomes: uma lista de tuplas com nome e código de cada estudante\n",
    "    - medias: uma lista com as médias de cada estudante\n",
    "\n",
    "2. Extraímos apenas os nomes da lista de tuplas usando list comprehension:\n",
    "    - [nome[0] for nome in nomes] pega o primeiro elemento (nome) de cada tupla\n",
    "\n",
    "3. Criamos uma lista combinando nomes e médias usando zip():\n",
    "    - list(zip(nomes, medias)) cria uma lista de tuplas (nome, média)\n",
    "\n",
    "4. Geramos a lista de candidatos usando list comprehension com filtro:\n",
    "    - Itera sobre cada tupla em estudantes\n",
    "    - Seleciona apenas o nome (estudante[0]) se a média (estudante[1]) >= 8\n",
    "    - O resultado são os nomes dos estudantes com média >= 8\n",
    "\n",
    "5. O resultado final é uma lista com os nomes dos estudantes \n",
    "    que se qualificam para a bolsa (média >= 8)\n",
    "\"\"\""
   ]
  },
  {
   "cell_type": "code",
   "execution_count": 11,
   "id": "67cc10f2",
   "metadata": {},
   "outputs": [
    {
     "name": "stdout",
     "output_type": "stream",
     "text": [
      "['Aprovado(a)', 'Aprovado(a)', 'Reprovado(a)', 'Aprovado(a)', 'Aprovado(a)']\n",
      "[[('João', 'J883'), ('Maria', 'M893'), ('José', 'J290'), ('Cláudia', 'C38'), ('Ana', 'A506')], [[8.0, 9.0, 10.0], [9.0, 7.0, 6.0], [3.4, 7.0, 7.0], [5.5, 6.6, 8.0], [6.0, 10.0, 9.5]], [9.0, 7.3, 5.8, 6.7, 8.5], ['Aprovado(a)', 'Aprovado(a)', 'Reprovado(a)', 'Aprovado(a)', 'Aprovado(a)']]\n",
      "[[('João', 'J883'), ('Maria', 'M893'), ('José', 'J290'), ('Cláudia', 'C38'), ('Ana', 'A506')], [[8.0, 9.0, 10.0], [9.0, 7.0, 6.0], [3.4, 7.0, 7.0], [5.5, 6.6, 8.0], [6.0, 10.0, 9.5]], [9.0, 7.3, 5.8, 6.7, 8.5], ['Aprovado(a)', 'Aprovado(a)', 'Reprovado(a)', 'Aprovado(a)', 'Aprovado(a)']]\n"
     ]
    }
   ],
   "source": [
    "\"\"\"Criar uma lista da situação dos estudantes em que caso sua média seja maior ou igual a 6 receberá o valor \"Aprovado\" e caso contrário receberá o valor \"Reprovado\".\n",
    "\n",
    "Gerar uma lista de listas com:\n",
    "\n",
    "Lista de tuplas com o nome dos estudantes e seus códigos.\n",
    "\n",
    "Lista de listas com as notas de cada estudante.\n",
    "\n",
    "Lista com as médias de cada estudante.\n",
    "\n",
    "Lista da situação dos estudantes de acordo com as médias.\n",
    "\n",
    "Os dados que utilizaremos são os mesmos que geramos nas situações anteriores (nomes, notas, medias).\"\"\"\n",
    "\n",
    "nomes = [('João', 'J883'), ('Maria', 'M893'), ('José', 'J290'), ('Cláudia', 'C38'), ('Ana', 'A506')]\n",
    "notas = [[8.0, 9.0, 10.0], [9.0, 7.0, 6.0], [3.4, 7.0, 7.0], [5.5, 6.6, 8.0], [6.0, 10.0, 9.5]]\n",
    "medias = [9.0, 7.3, 5.8, 6.7, 8.5]\n",
    "\n",
    "# Gerando a lista de situação dos estudantes\n",
    "situacao = ['Aprovado(a)' if media >= 6 else 'Reprovado(a)' for media in medias]\n",
    "print(situacao)\n",
    "\n",
    "# Gerando a lista de listas com todas as informações \n",
    "cadastro = [x for x in [nomes, notas, medias, situacao]]\n",
    "print(cadastro)\n",
    "\n",
    "lista_completa = [nomes, notas, medias, situacao]\n",
    "print(lista_completa)\n",
    "\n",
    "\n",
    "\n"
   ]
  },
  {
   "cell_type": "markdown",
   "id": "0d629fd3",
   "metadata": {},
   "source": [
    "FUNÇÃO ZIP()"
   ]
  },
  {
   "cell_type": "code",
   "execution_count": 7,
   "id": "00581d48",
   "metadata": {},
   "outputs": [
    {
     "name": "stdout",
     "output_type": "stream",
     "text": [
      "[(1, 'Norte'), (2, 'Nordeste'), (3, 'Sudeste'), (4, 'Centro-Oeste'), (5, 'Sul')]\n"
     ]
    }
   ],
   "source": [
    "id = [1, 2, 3, 4, 5]\n",
    "regiao = [\"Norte\", \"Nordeste\", \"Sudeste\", \"Centro-Oeste\", \"Sul\"]\n",
    "\n",
    "mapa = list(zip(id, regiao))\n",
    "print(mapa)"
   ]
  },
  {
   "cell_type": "code",
   "execution_count": 5,
   "id": "052f57c0",
   "metadata": {},
   "outputs": [
    {
     "name": "stdout",
     "output_type": "stream",
     "text": [
      "IDs =  ['J392', 'M890', 'J681', 'C325', 'A49']\n",
      "Nomes =  ['João', 'Maria', 'José', 'Claúdia', 'Ana']\n"
     ]
    }
   ],
   "source": [
    "# Para fazer o processo contrário, de transformar uma tupla iterável em listas, basta passar o operador asterisco (*) ao lado esquerdo do nome da tupla iterável que quer extrair os dados, repassando cada tupla para uma variável.\n",
    "\n",
    "tupla_iteravel = [('J392', 'João'), ('M890', 'Maria'), ('J681', 'José'), ('C325', 'Claúdia'), ('A49', 'Ana')]\n",
    "ids, nomes  = zip(*tupla_iteravel)\n",
    "\n",
    "ids = list(ids)\n",
    "nomes = list(nomes)\n",
    "\n",
    "print(\"IDs = \", ids)\n",
    "print(\"Nomes = \", nomes)"
   ]
  },
  {
   "cell_type": "code",
   "execution_count": 6,
   "id": "efaff9da",
   "metadata": {},
   "outputs": [
    {
     "data": {
      "text/plain": [
       "[('1000', 'maçã'), ('1001', 'uva'), ('1002', 'banana'), ('1003', 'laranja')]"
      ]
     },
     "execution_count": 6,
     "metadata": {},
     "output_type": "execute_result"
    }
   ],
   "source": [
    "# Agora, se as listas de entrada têm comprimentos diferentes, a saída contém o mesmo número de tuplas que a lista de menor comprimento e os elementos restantes dos outros iteráveis serão ignorados\n",
    "\n",
    "codigos = [\"1000\", \"1001\", \"1002\", \"1003\", \"1004\", \"1005\"]\n",
    "frutas = [\"maçã\", \"uva\", \"banana\", \"laranja\"]\n",
    "\n",
    "mercadorias = list(zip(codigos, frutas))\n",
    "mercadorias"
   ]
  },
  {
   "cell_type": "code",
   "execution_count": null,
   "id": "a5269df4",
   "metadata": {},
   "outputs": [
    {
     "name": "stdout",
     "output_type": "stream",
     "text": [
      "[22.5, 24.7, 21.3, 22.9, 26.3]\n"
     ]
    }
   ],
   "source": [
    "# André recebeu uma demanda para analisar o dataset contendo informações sobre a altura e o peso de várias pessoas. Para processar esses dados, André utilizou a estrutura de list comprehension calculando e salvando também os dados de IMC\n",
    "\n",
    "alturas = [1.70, 1.80, 1.65, 1.75, 1.90]\n",
    "pesos = [65, 80, 58, 70, 95]\n",
    "\n",
    "imc = [round((peso / altura**2), 1) for altura, peso in zip(alturas, pesos)]\n",
    "print(imc)"
   ]
  },
  {
   "cell_type": "markdown",
   "id": "deb54fb7",
   "metadata": {},
   "source": [
    "DICT COMPREHENSION (Abrangencia de Dicionário)"
   ]
  },
  {
   "cell_type": "code",
   "execution_count": 5,
   "id": "5886911d",
   "metadata": {},
   "outputs": [
    {
     "name": "stdout",
     "output_type": "stream",
     "text": [
      "{'Notas': [[8.0, 9.0, 10.0], [9.0, 7.0, 6.0], [3.4, 7.0, 7.0], [5.5, 6.6, 8.0], [6.0, 10.0, 9.5]], 'Média Final': [9.0, 7.3, 5.8, 6.7, 8.5], 'Situação': ['Aprovado(a)', 'Aprovado(a)', 'Reprovado(a)', 'Aprovado(a)', 'Aprovado(a)']}\n",
      "{'Notas': [[8.0, 9.0, 10.0], [9.0, 7.0, 6.0], [3.4, 7.0, 7.0], [5.5, 6.6, 8.0], [6.0, 10.0, 9.5]], 'Média Final': [9.0, 7.3, 5.8, 6.7, 8.5], 'Situação': ['Aprovado(a)', 'Aprovado(a)', 'Reprovado(a)', 'Aprovado(a)', 'Aprovado(a)'], 'Estudante': ['João', 'Maria', 'José', 'Cláudia', 'Ana']}\n"
     ]
    }
   ],
   "source": [
    "lista_completa = [[('João', 'J883'), ('Maria', 'M893'), ('José', 'J290'), ('Cláudia', 'C38'), ('Ana', 'A506')], [[8.0, 9.0, 10.0], [9.0, 7.0, 6.0], [3.4, 7.0, 7.0], [5.5, 6.6, 8.0], [6.0, 10.0, 9.5]], [9.0, 7.3, 5.8, 6.7, 8.5], ['Aprovado(a)', 'Aprovado(a)', 'Reprovado(a)', 'Aprovado(a)', 'Aprovado(a)']]\n",
    "\n",
    "# Colunas com os tipos dos dados (exceto nome)\n",
    "coluna = ['Notas', 'Média Final', 'Situação']\n",
    "\n",
    "cadastro = {coluna[i]: lista_completa[i+1] for i in range(len(coluna))}\n",
    "print(cadastro)\n",
    "\n",
    "# Por fim adicionar o nome dos estudantes, extraindo apenas seus nomes\n",
    "cadastro['Estudante'] = [lista_completa[0][i][0] for i in range(len(lista_completa[0]))]\n",
    "print(cadastro)\n"
   ]
  }
 ],
 "metadata": {
  "kernelspec": {
   "display_name": ".venv",
   "language": "python",
   "name": "python3"
  },
  "language_info": {
   "codemirror_mode": {
    "name": "ipython",
    "version": 3
   },
   "file_extension": ".py",
   "mimetype": "text/x-python",
   "name": "python",
   "nbconvert_exporter": "python",
   "pygments_lexer": "ipython3",
   "version": "3.13.2"
  }
 },
 "nbformat": 4,
 "nbformat_minor": 5
}
