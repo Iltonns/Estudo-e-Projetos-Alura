{
 "cells": [
  {
   "cell_type": "markdown",
   "id": "80880b15",
   "metadata": {},
   "source": [
    "Try & Except"
   ]
  },
  {
   "cell_type": "code",
   "execution_count": 2,
   "id": "31aedc5c",
   "metadata": {},
   "outputs": [
    {
     "name": "stdout",
     "output_type": "stream",
     "text": [
      "[8.0, 9.0, 10.0]\n",
      "A consulta foi encerrada!\n"
     ]
    }
   ],
   "source": [
    "\"\"\"Você criou um código que lê um dicionário com as notas dos estudantes e quis retornar a lista de notas de determinado(a) estudante. Caso o(a) estudante não esteja matriculado(a) na classe devemos tratar a exceção para aparecer a mensagem \"Estudante não matriculado(a) na turma\", e se a exceção não for lançada devemos exibir a lista com as notas do(a) estudante. Vamos trabalhar nesse exemplo com a exceção Key Error que interromperá o processo desse pedaço do código. Vamos testar esse tratamento?\"\"\"\n",
    "\n",
    "\n",
    "# Código a ser executado. Caso uma exeção seja lançada, pare imediatamente.\n",
    "try:\n",
    "    notas = {'João': [8.0, 9.0, 10.0], 'Maria': [9.0, 7.0, 6.0], 'José': [3.4, 7.0, 8.0],'Cláudia': [5.5, 6.6, 8.0], 'Ana': [6.0, 10.0, 9.5], 'Joaquim': [5.5, 7.5, 9.0], 'Júlia': [6.0, 8.0, 7.0], 'Pedro': [3.0, 4.0, 6.0]}\n",
    "\n",
    "    nome = input(\"Digite o nome do(a) estudante: \")\n",
    "    resultado = notas[nome]\n",
    "\n",
    "# Se uma exceção for lançada no Try, rode esse código, senão, pule esta etapa.\n",
    "except KeyError:\n",
    "    print('Estudante não matriculado(a) na turma!')\n",
    "\n",
    "# Se não houver uma exceção lançada pelo Try, rode essa parte.\n",
    "else:\n",
    "    print(resultado)\n",
    "\n",
    "# Rode essa parte (com ou sem exeção)   \n",
    "finally: \n",
    "    print('A consulta foi encerrada!')"
   ]
  },
  {
   "cell_type": "code",
   "execution_count": 14,
   "id": "bfb20392",
   "metadata": {},
   "outputs": [
    {
     "name": "stdout",
     "output_type": "stream",
     "text": [
      "<class 'NameError'> Erro: name 'funcionario' is not defined\n",
      "Processo concluido!\n"
     ]
    }
   ],
   "source": [
    "funcionarios = {'José': 2000, 'Ana': 2200,'João': 2500, 'Maria': 3800}\n",
    "try:\n",
    "  aumento = list(map(lambda x: x * 1.1, funcionario.values()))\n",
    "except Exception as e:\n",
    "  print(type(e), f'Erro: {e}')\n",
    "else:\n",
    "  print(aumento)\n",
    "finally:\n",
    "  print(\"Processo concluido!\")\n",
    "\n",
    "# Este exemplo lança uma exceção do tipo NameError porque, por mais que o cálculo da função lambda esteja correta, uma variável com o nome funcionario não foi definida."
   ]
  },
  {
   "cell_type": "code",
   "execution_count": 20,
   "id": "d8c71a38",
   "metadata": {},
   "outputs": [
    {
     "name": "stdout",
     "output_type": "stream",
     "text": [
      "<class 'TypeError'> Erro: 'int' object is not subscriptable\n",
      "Processo concluido!\n"
     ]
    }
   ],
   "source": [
    "funcionarios = {'José': 2000, 'Ana': 2200,'João': 2500, 'Maria': 3800}\n",
    "try:\n",
    "  aumento = list(map(lambda x: x[1] * 1.1, funcionarios.values()))\n",
    "except Exception as e:\n",
    "  print(type(e), f'Erro: {e}')\n",
    "else:\n",
    "  print(aumento)\n",
    "finally:\n",
    "  print(\"Processo concluido!\")\n",
    "\n",
    "# Este exemplo lança uma exceção do tipo TypeError porque a função lambda tenta ler a posição “1” de cada salário. Como números inteiros não podem ser indexados, a exceção é lançada."
   ]
  },
  {
   "cell_type": "code",
   "execution_count": 15,
   "id": "ae5d537a",
   "metadata": {},
   "outputs": [
    {
     "name": "stdout",
     "output_type": "stream",
     "text": [
      "[2200.0, 2420.0, 2750.0, 4180.0]\n",
      "Processo concluido!\n"
     ]
    }
   ],
   "source": [
    "funcionarios = {'José': 2000, 'Ana': 2200,'João': 2500, 'Maria': 3800}\n",
    "\n",
    "try:\n",
    "  aumento = list(map(lambda x: x * 1.1, funcionarios.values()))\n",
    "except ValueError as e:\n",
    "  print(type(e), f'Erro: {e}')\n",
    "else:\n",
    "  print(aumento)\n",
    "finally:\n",
    "  print(\"Processo concluído!\")"
   ]
  },
  {
   "cell_type": "code",
   "execution_count": 16,
   "id": "3b58cee7",
   "metadata": {},
   "outputs": [
    {
     "name": "stdout",
     "output_type": "stream",
     "text": [
      "[2200.0, 2420.0, 2750.0, 4180.0]\n",
      "Processo concluido!\n"
     ]
    }
   ],
   "source": [
    "funcionarios = {'José': 2000, 'Ana': 2200,'João': 2500, 'Maria': 3800}\n",
    "try:\n",
    "  aumento = list(map(lambda x: x[1] * 1.1, funcionarios.items()))\n",
    "except ValueError as e:\n",
    "  print(type(e), f'Erro: {e}')\n",
    "else:\n",
    "  print(aumento)\n",
    "finally:\n",
    "  print(\"Processo concluído!\")\n",
    "\n",
    "#Este exemplo lança uma exceção do tipo ValueError porque a função lambda tenta ler a posição “1” de cada salário. Como números inteiros não podem ser indexados, a exceção é lançada."
   ]
  },
  {
   "cell_type": "markdown",
   "id": "b083b150",
   "metadata": {},
   "source": [
    "Raise"
   ]
  },
  {
   "cell_type": "code",
   "execution_count": null,
   "id": "6184800d",
   "metadata": {},
   "outputs": [
    {
     "name": "stdout",
     "output_type": "stream",
     "text": [
      "8.0\n",
      "A consulta foi finalizada!\n"
     ]
    }
   ],
   "source": [
    "# Define uma função para calcular a média dos valores de uma lista\n",
    "def media(lista: list=[0]) -> float:    \n",
    "    # Calcula a média dos valores da lista\n",
    "    calculo = sum(lista) / len(lista)\n",
    "\n",
    "    # Verifica se a lista possui mais de 4 notas e lança uma exceção se sim\n",
    "    if len(lista) > 4:\n",
    "        raise ValueError('A lista não pode possuir mais de 4 notas')\n",
    "\n",
    "    # Retorna o valor da média calculada\n",
    "    return calculo\n",
    "\n",
    "# Bloco try-except para tratar possíveis exceções ao calcular a média\n",
    "try:\n",
    "    notas = [8, 9, 7, 8]  # Lista de notas\n",
    "    resultado = media(notas)  # Chama a função para calcular a média\n",
    "   \n",
    "# Trata erro caso algum valor não seja numérico\n",
    "except TypeError:\n",
    "    print('Não foi possível calcular a média do(a) estudante! Só são aceitos valores numéricos!')  \n",
    "\n",
    "# Trata erro caso a lista tenha mais de 4 notas\n",
    "except ValueError as e:\n",
    "    print(e)   \n",
    "\n",
    "# Se não houver exceção, imprime o resultado da média\n",
    "else:\n",
    "    print(resultado)\n",
    "\n",
    "# Sempre executa esta mensagem ao final do processo\n",
    "finally:\n",
    "    print('A consulta foi finalizada!')      "
   ]
  }
 ],
 "metadata": {
  "kernelspec": {
   "display_name": ".venv",
   "language": "python",
   "name": "python3"
  },
  "language_info": {
   "codemirror_mode": {
    "name": "ipython",
    "version": 3
   },
   "file_extension": ".py",
   "mimetype": "text/x-python",
   "name": "python",
   "nbconvert_exporter": "python",
   "pygments_lexer": "ipython3",
   "version": "3.13.2"
  }
 },
 "nbformat": 4,
 "nbformat_minor": 5
}
