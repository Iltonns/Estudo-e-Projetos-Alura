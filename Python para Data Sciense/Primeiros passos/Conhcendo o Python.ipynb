{
 "cells": [
  {
   "cell_type": "code",
   "execution_count": 1,
   "metadata": {},
   "outputs": [
    {
     "name": "stdout",
     "output_type": "stream",
     "text": [
      "22\n",
      "9500\n",
      "5613.68\n",
      "GIOVANA ALESSANDRA DIAS SANTOS\n",
      "Olá\n"
     ]
    }
   ],
   "source": [
    "segurança = 5\n",
    "salario_segurança = 3000\n",
    "\n",
    "docente = 16\n",
    "salario_docente = 6000\n",
    "\n",
    "diretoria = 1 \n",
    "salario_diretoria = 12500\n",
    "\n",
    "total_empregado = segurança + docente + diretoria\n",
    "print(total_empregado)\n",
    "\n",
    "\n",
    "diferença_salario = salario_diretoria - salario_segurança\n",
    "print(diferença_salario)\n",
    "\n",
    "Media_ponderada = (segurança * salario_segurança + docente * salario_docente + diretoria + salario_diretoria) / (total_empregado)\n",
    "print(f\"{Media_ponderada:.2f}\")\n",
    "\n",
    "texto = 'Giovana Alessandra Dias Santos'\n",
    "texto = texto.strip().replace('y', 't').upper()\n",
    "print(texto)\n",
    "\n",
    "chr = chr(79) + chr(108) + chr(225)\n",
    "print(chr)"
   ]
  },
  {
   "cell_type": "code",
   "execution_count": 2,
   "metadata": {},
   "outputs": [
    {
     "name": "stdout",
     "output_type": "stream",
     "text": [
      "Ano de entrada 2020 - Nota do teste de ingresso 7.0\n",
      "Nome do aluno: Fabrício Daniel\n",
      "Nome do aluno é Fabrício Daniel, ele tem 15 anos e sua média é 8.450000.\n",
      "Nome do aluno é Fabrício Daniel, ele tem 15 anos e sua média é 8.45.\n",
      "Valor de x: True\n",
      "Nome do aluno: Fabrício Daniel\n",
      "Nome do aluno é Fabrício Daniel, ele tem 15 anos e sua média é 8.45.\n",
      "Estudar é um esforço constante,\n",
      "É como cultivar uma planta,\n",
      "Precisamos de dedicação e paciência,\n",
      "Para ver o fruto amadurecer.\n",
      "Quantidade\tQualidade\n",
      "5 amostras\tAlta\n",
      "3 amostras\tBaixa\n",
      "Caminho do arquivo: C:\\arquivos\\documento.csv\n",
      "Ouvi uma vez \"Os frutos do conhecimento são os mais doces e duradouros de todos.\"\n",
      "Minha professora uma vez disse 'Estudar é a chave do sucesso.' \n"
     ]
    }
   ],
   "source": [
    "ano_entrada = int(input('Escreva o ano de ingresso do(a) estudante: '))\n",
    "nota_entrada = float(input('Digite a nota do teste de ingresso: '))\n",
    "print(f'Ano de entrada {ano_entrada} - Nota do teste de ingresso {nota_entrada}')\n",
    "\n",
    "\n",
    "nome_aluno = 'Fabrício Daniel'\n",
    "print('Nome do aluno: %s' %(nome_aluno))\n",
    "\n",
    "nome_aluno = 'Fabrício Daniel'\n",
    "idade_aluno = 15\n",
    "media_aluno = 8.45\n",
    "print('Nome do aluno é %s, ele tem %d anos e sua média é %f.' %(nome_aluno, idade_aluno, media_aluno))\n",
    "\n",
    "print('Nome do aluno é %s, ele tem %d anos e sua média é %.2f.' %(nome_aluno, idade_aluno, media_aluno))\n",
    "\n",
    "x = True\n",
    "print(\"Valor de x: %s\" % str(x))\n",
    "\n",
    "nome_aluno = 'Fabrício Daniel'\n",
    "\n",
    "print('Nome do aluno: {}'.format(nome_aluno))\n",
    "\n",
    "nome_aluno = 'Fabrício Daniel'\n",
    "idade_aluno = 15\n",
    "media_aluno = 8.45\n",
    "\n",
    "print('Nome do aluno é {}, ele tem {} anos e sua média é {}.' .format(nome_aluno, idade_aluno, media_aluno))\n",
    "\n",
    "print(\"Estudar é um esforço constante,\\nÉ como cultivar uma planta,\\nPrecisamos de dedicação e paciência,\\nPara ver o fruto amadurecer.\")\n",
    "print('Quantidade\\tQualidade\\n5 amostras\\tAlta\\n3 amostras\\tBaixa')\n",
    "print(\"Caminho do arquivo: C:\\\\arquivos\\\\documento.csv\")\n",
    "print(\"Ouvi uma vez \\\"Os frutos do conhecimento são os mais doces e duradouros de todos.\\\"\")\n",
    "print('Minha professora uma vez disse \\'Estudar é a chave do sucesso.\\' ')"
   ]
  },
  {
   "cell_type": "code",
   "execution_count": 3,
   "metadata": {},
   "outputs": [
    {
     "name": "stdout",
     "output_type": "stream",
     "text": [
      "Help on built-in function print in module builtins:\n",
      "\n",
      "print(*args, sep=' ', end='\\n', file=None, flush=False)\n",
      "    Prints the values to a stream, or to sys.stdout by default.\n",
      "\n",
      "    sep\n",
      "      string inserted between values, default a space.\n",
      "    end\n",
      "      string appended after the last value, default a newline.\n",
      "    file\n",
      "      a file-like object (stream); defaults to the current sys.stdout.\n",
      "    flush\n",
      "      whether to forcibly flush the stream.\n",
      "\n"
     ]
    }
   ],
   "source": [
    "help(print)"
   ]
  },
  {
   "cell_type": "markdown",
   "metadata": {},
   "source": [
    "// Acessando informações de um objeto Python com ? e ??"
   ]
  },
  {
   "cell_type": "code",
   "execution_count": null,
   "metadata": {
    "vscode": {
     "languageId": "markdown"
    }
   },
   "outputs": [],
   "source": [
    "// Acessando informações de um objeto Python com ? e ??\n",
    "# For basic information and docstring, use single ?\n",
    "?print\n",
    "\n",
    "# For detailed source code and documentation, use double ??\n",
    "??print"
   ]
  },
  {
   "cell_type": "code",
   "execution_count": 4,
   "metadata": {
    "vscode": {
     "languageId": "markdown"
    }
   },
   "outputs": [
    {
     "name": "stdout",
     "output_type": "stream",
     "text": [
      "\u001b[31mSignature:\u001b[39m len(obj, /)\n",
      "\u001b[31mDocstring:\u001b[39m Return the number of items in a container.\n",
      "\u001b[31mType:\u001b[39m      builtin_function_or_method"
     ]
    }
   ],
   "source": [
    "?len"
   ]
  },
  {
   "cell_type": "code",
   "execution_count": 5,
   "metadata": {
    "vscode": {
     "languageId": "markdown"
    }
   },
   "outputs": [
    {
     "name": "stdout",
     "output_type": "stream",
     "text": [
      "\u001b[31mSignature:\u001b[39m len(obj, /)\n",
      "\u001b[31mDocstring:\u001b[39m Return the number of items in a container.\n",
      "\u001b[31mType:\u001b[39m      builtin_function_or_method"
     ]
    }
   ],
   "source": [
    "??len"
   ]
  },
  {
   "cell_type": "code",
   "execution_count": 6,
   "metadata": {
    "vscode": {
     "languageId": "markdown"
    }
   },
   "outputs": [
    {
     "name": "stdout",
     "output_type": "stream",
     "text": [
      "Object `for` not found.\n"
     ]
    }
   ],
   "source": [
    "??for"
   ]
  }
 ],
 "metadata": {
  "kernelspec": {
   "display_name": "Python 3",
   "language": "python",
   "name": "python3"
  },
  "language_info": {
   "codemirror_mode": {
    "name": "ipython",
    "version": 3
   },
   "file_extension": ".py",
   "mimetype": "text/x-python",
   "name": "python",
   "nbconvert_exporter": "python",
   "pygments_lexer": "ipython3",
   "version": "3.13.1"
  }
 },
 "nbformat": 4,
 "nbformat_minor": 2
}
