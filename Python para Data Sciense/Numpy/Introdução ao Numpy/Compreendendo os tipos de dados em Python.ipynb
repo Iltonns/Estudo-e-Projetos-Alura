{
 "cells": [
  {
   "cell_type": "code",
   "execution_count": 1,
   "metadata": {},
   "outputs": [
    {
     "name": "stdout",
     "output_type": "stream",
     "text": [
      "4950\n"
     ]
    }
   ],
   "source": [
    "# Código Python \n",
    "resultado  =  0 \n",
    "for  i  in range( 100 ): \n",
    "    resultado  +=  i\n",
    "print(resultado)\n",
    "# O resultado é 4950 porque o laço for soma todos os números de 0 até 99.\n",
    "# Isso equivale à soma dos 100 primeiros números inteiros: 0 + 1 + 2 + ... + 99.\n",
    "# A soma pode ser calculada pela fórmula n*(n-1)/2, onde n=100: 100*99/2 = 4950."
   ]
  },
  {
   "cell_type": "markdown",
   "metadata": {},
   "source": [
    "LISTA EM PYTHON"
   ]
  },
  {
   "cell_type": "code",
   "execution_count": 2,
   "metadata": {},
   "outputs": [
    {
     "name": "stdout",
     "output_type": "stream",
     "text": [
      "[0, 1, 2, 3, 4, 5, 6, 7, 8, 9]\n"
     ]
    },
    {
     "data": {
      "text/plain": [
       "list"
      ]
     },
     "execution_count": 2,
     "metadata": {},
     "output_type": "execute_result"
    }
   ],
   "source": [
    "lista = list(range(10))\n",
    "print(lista)\n",
    "type(lista)\n"
   ]
  },
  {
   "cell_type": "code",
   "execution_count": 4,
   "metadata": {},
   "outputs": [
    {
     "name": "stdout",
     "output_type": "stream",
     "text": [
      "['0', '1', '2', '3', '4', '5', '6', '7', '8', '9']\n"
     ]
    },
    {
     "data": {
      "text/plain": [
       "str"
      ]
     },
     "execution_count": 4,
     "metadata": {},
     "output_type": "execute_result"
    }
   ],
   "source": [
    "lista = [str(i) for i in range(10)]\n",
    "print(lista)\n",
    "type(lista[0])\n"
   ]
  },
  {
   "cell_type": "code",
   "execution_count": 5,
   "metadata": {},
   "outputs": [
    {
     "data": {
      "text/plain": [
       "[bool, str, float, int]"
      ]
     },
     "execution_count": 5,
     "metadata": {},
     "output_type": "execute_result"
    }
   ],
   "source": [
    "lista = [True, '2', 3.0, 4]\n",
    "[type(item) for item in lista]\n",
    "# Este código cria uma lista chamada 'lista' contendo quatro elementos de tipos diferentes: \n",
    "# um booleano (True), uma string ('2'), um float (3.0) e um inteiro (4).\n",
    "# Em seguida, a expressão [type(item) for item in lista] cria uma nova lista que contém o tipo de cada elemento da lista original.\n",
    "# O resultado será: [bool, str, float, int], mostrando os tipos de dados de cada item na lista.\n"
   ]
  },
  {
   "cell_type": "markdown",
   "metadata": {},
   "source": [
    "A vantagem da lista é a flexibilidade: como cada elemento da lista é uma estrutura completa contendo dados e informações de tipo, a lista pode ser preenchida com dados de qualquer tipo desejado. Arrays de tipo fixo no estilo NumPy não possuem essa flexibilidade, mas são muito mais eficientes para armazenar e manipular dados."
   ]
  },
  {
   "cell_type": "markdown",
   "metadata": {},
   "source": [
    "MATRIZES DE TIPO FIXO EM PYTHON"
   ]
  },
  {
   "cell_type": "markdown",
   "metadata": {},
   "source": [
    "O Python oferece diversas opções para armazenar dados em buffers de dados eficientes e de tipo fixo. O módulo integrado array(disponível desde o Python 3.3) pode ser usado para criar matrizes densas de um tipo uniforme:"
   ]
  },
  {
   "cell_type": "code",
   "execution_count": 6,
   "metadata": {},
   "outputs": [
    {
     "name": "stdout",
     "output_type": "stream",
     "text": [
      "array('i', [0, 1, 2, 3, 4, 5, 6, 7, 8, 9])\n"
     ]
    }
   ],
   "source": [
    "import array\n",
    "lista = list(range(10))\n",
    "A = array.array('i', lista)\n",
    "print(A)\n",
    "# Este código cria uma lista chamada 'lista' contendo os números de 0 a 9.\n",
    "# Em seguida, ele cria um array de tipo inteiro (representado pelo código 'i') a partir da lista.\n",
    "# O array resultante é armazenado na variável 'A'.\n",
    "# O print(A) exibe o conteúdo do array 'A', que é [0, 1, 2, 3, 4, 5, 6, 7, 8, 9].\n",
    "# O código 'array.array('i', lista)' cria um array de tipo inteiro a partir da lista 'lista'.\n"
   ]
  },
  {
   "cell_type": "code",
   "execution_count": null,
   "metadata": {},
   "outputs": [],
   "source": []
  },
  {
   "cell_type": "markdown",
   "metadata": {},
   "source": [
    "Criando Matrizes a partir de listas em Python"
   ]
  },
  {
   "cell_type": "code",
   "execution_count": 2,
   "metadata": {},
   "outputs": [
    {
     "data": {
      "text/plain": [
       "array([1, 4, 2, 5, 3])"
      ]
     },
     "execution_count": 2,
     "metadata": {},
     "output_type": "execute_result"
    }
   ],
   "source": [
    "import numpy as np\n",
    "\n",
    "# Matriz de inteiros\n",
    "np.array([1, 4, 2, 5, 3])\n",
    "# Este código cria um array NumPy a partir de uma lista de números inteiros.\n",
    "# O método np.array() é usado para converter a lista em um array NumPy.\n"
   ]
  },
  {
   "cell_type": "code",
   "execution_count": 3,
   "metadata": {},
   "outputs": [
    {
     "data": {
      "text/plain": [
       "matrix([[3.14, 4.  , 2.  , 3.  ]])"
      ]
     },
     "execution_count": 3,
     "metadata": {},
     "output_type": "execute_result"
    }
   ],
   "source": [
    "# Matriz de floats\n",
    "'''Lembre-se de que, ao contrário das listas do Python, o NumPy é limitado a matrizes que contêm todos o mesmo tipo. Se os tipos não corresponderem, o NumPy fará uma conversão ascendente, se possível'''\n",
    "\n",
    "np.matrix([3.14, 4, 2, 3])\n",
    "# Este código cria um array NumPy a partir de uma lista de números de ponto flutuante.\n",
    "# O método np.matrix() é usado para converter a lista em uma matriz NumPy.\n"
   ]
  },
  {
   "cell_type": "code",
   "execution_count": 4,
   "metadata": {},
   "outputs": [
    {
     "data": {
      "text/plain": [
       "array([1., 2., 3.])"
      ]
     },
     "execution_count": 4,
     "metadata": {},
     "output_type": "execute_result"
    }
   ],
   "source": [
    "'''Se quisermos definir explicitamente o tipo de dados do array resultante, podemos usar a dtypepalavra-chave:'''\n",
    "\n",
    "np.array([1, 2, 3], dtype=float)\n",
    "# Este código cria um array NumPy a partir de uma lista de números inteiros.\n",
    "# O método np.array() é usado para converter a lista em um array NumPy.\n",
    "# A palavra-chave dtype=float define que o tipo de dados do array resultante será float.\n",
    "\n",
    "\n",
    "\n"
   ]
  },
  {
   "cell_type": "code",
   "execution_count": null,
   "metadata": {},
   "outputs": [],
   "source": [
    "'''Por fim, diferentemente das listas do Python, os arrays NumPy podem ser explicitamente multidimensionais; aqui está uma maneira de inicializar um array multidimensional usando uma lista de listas:'''\n",
    "\n",
    "# listas aninhadas resultam em matrizes multidimensionais \n",
    "np.array([range(i, i + 3) for i in [2, 4, 6]])\n",
    "\n",
    "# Este código cria um array NumPy bidimensional (ou seja, uma matriz) a partir de uma lista de listas.\n",
    "# Cada sublista representa uma linha da matriz. O método np.array() converte essas listas aninhadas em um array multidimensional.\n",
    "# Assim, o resultado é uma matriz 2x3, onde:\n",
    "# [[1, 2, 3],\n",
    "#  [4, 5, 6]]\n"
   ]
  },
  {
   "cell_type": "markdown",
   "metadata": {},
   "source": [
    "CRIANDO MATRIZES DO ZERO"
   ]
  },
  {
   "cell_type": "markdown",
   "metadata": {},
   "source": [
    "Especialmente para matrizes maiores, é mais eficiente criá-las do zero usando rotinas integradas ao NumPy. Aqui estão alguns exemplos:"
   ]
  },
  {
   "cell_type": "code",
   "execution_count": 7,
   "metadata": {},
   "outputs": [
    {
     "data": {
      "text/plain": [
       "array([0, 0, 0, 0, 0, 0, 0, 0, 0, 0])"
      ]
     },
     "execution_count": 7,
     "metadata": {},
     "output_type": "execute_result"
    }
   ],
   "source": [
    "# Crie um array inteiro de comprimento 10 preenchido com zeros \n",
    "np.zeros ( 10 ,  dtype = int )"
   ]
  },
  {
   "cell_type": "code",
   "execution_count": 10,
   "metadata": {},
   "outputs": [
    {
     "data": {
      "text/plain": [
       "array([[1., 1., 1., 1., 1.],\n",
       "       [1., 1., 1., 1., 1.],\n",
       "       [1., 1., 1., 1., 1.]])"
      ]
     },
     "execution_count": 10,
     "metadata": {},
     "output_type": "execute_result"
    }
   ],
   "source": [
    "# Crie uma matriz de ponto flutuante 3x5 preenchida com uns \n",
    "np.ones (( 3 ,  5 ),  dtype = float )\n"
   ]
  },
  {
   "cell_type": "code",
   "execution_count": 11,
   "metadata": {},
   "outputs": [
    {
     "data": {
      "text/plain": [
       "array([[3.14, 3.14, 3.14, 3.14, 3.14],\n",
       "       [3.14, 3.14, 3.14, 3.14, 3.14],\n",
       "       [3.14, 3.14, 3.14, 3.14, 3.14]])"
      ]
     },
     "execution_count": 11,
     "metadata": {},
     "output_type": "execute_result"
    }
   ],
   "source": [
    "# Crie um array 3x5 preenchido com 3,14 \n",
    "np.full (( 3 ,  5 ),  3.14 )"
   ]
  },
  {
   "cell_type": "code",
   "execution_count": 12,
   "metadata": {},
   "outputs": [
    {
     "data": {
      "text/plain": [
       "array([ 0,  2,  4,  6,  8, 10, 12, 14, 16, 18])"
      ]
     },
     "execution_count": 12,
     "metadata": {},
     "output_type": "execute_result"
    }
   ],
   "source": [
    "# Crie uma matriz preenchida com uma sequência linear \n",
    "# Começando em 0, terminando em 20, incrementando em 2 \n",
    "# (isso é semelhante à função range() interna) \n",
    "np.arange ( 0 ,  20 ,  2 )"
   ]
  },
  {
   "cell_type": "code",
   "execution_count": 13,
   "metadata": {},
   "outputs": [
    {
     "data": {
      "text/plain": [
       "array([0.  , 0.25, 0.5 , 0.75, 1.  ])"
      ]
     },
     "execution_count": 13,
     "metadata": {},
     "output_type": "execute_result"
    }
   ],
   "source": [
    "# Crie uma matriz de cinco valores uniformemente espaçados entre 0 e 1 \n",
    "np.linspace ( 0 ,  1 ,  5 )"
   ]
  },
  {
   "cell_type": "code",
   "execution_count": 14,
   "metadata": {},
   "outputs": [
    {
     "data": {
      "text/plain": [
       "array([[0.04827223, 0.48155986, 0.02882782],\n",
       "       [0.43890717, 0.0786423 , 0.8228343 ],\n",
       "       [0.01654509, 0.66578026, 0.55326025]])"
      ]
     },
     "execution_count": 14,
     "metadata": {},
     "output_type": "execute_result"
    }
   ],
   "source": [
    "# Crie uma matriz 3x3 de valores aleatórios distribuídos uniformemente entre 0 e 1 \n",
    "np.random.random (( 3 ,  3 ))"
   ]
  },
  {
   "cell_type": "code",
   "execution_count": 17,
   "metadata": {},
   "outputs": [
    {
     "data": {
      "text/plain": [
       "array([[ 1.59302596, -0.90794608, -0.76131718],\n",
       "       [ 0.48840364,  0.42996349,  1.27225707],\n",
       "       [-1.2816517 , -0.29127101,  0.15852956]])"
      ]
     },
     "execution_count": 17,
     "metadata": {},
     "output_type": "execute_result"
    }
   ],
   "source": [
    "# Crie uma matriz 3x3 de valores aleatórios distribuídos normalmente \n",
    "# com média 0 e desvio padrão 1 \n",
    "np.random.normal ( 0 ,  1 ,  ( 3 ,  3 ))"
   ]
  },
  {
   "cell_type": "code",
   "execution_count": 18,
   "metadata": {},
   "outputs": [
    {
     "data": {
      "text/plain": [
       "array([[1, 6, 1],\n",
       "       [5, 2, 7],\n",
       "       [9, 2, 0]], dtype=int32)"
      ]
     },
     "execution_count": 18,
     "metadata": {},
     "output_type": "execute_result"
    }
   ],
   "source": [
    "# Crie uma matriz 3x3 de inteiros aleatórios no intervalo [0, 10) \n",
    "np.random.randint ( 0 ,  10 ,  ( 3 ,  3 ))"
   ]
  },
  {
   "cell_type": "code",
   "execution_count": 19,
   "metadata": {},
   "outputs": [
    {
     "data": {
      "text/plain": [
       "array([1., 2., 3.])"
      ]
     },
     "execution_count": 19,
     "metadata": {},
     "output_type": "execute_result"
    }
   ],
   "source": [
    "# Crie uma matriz não inicializada de três inteiros \n",
    "# Os valores serão o que já existir naquele local de memória \n",
    "np.empty( 3 )"
   ]
  },
  {
   "cell_type": "code",
   "execution_count": 20,
   "metadata": {},
   "outputs": [
    {
     "name": "stdout",
     "output_type": "stream",
     "text": [
      "Tempo da operação com a lista:  0.15294575691223145\n",
      "Tempo da operação com o array:  0.00566554069519043\n"
     ]
    }
   ],
   "source": [
    "import numpy as np\n",
    "import time\n",
    "\n",
    "# cria uma lista com 1000000 elementos\n",
    "lista = list(range(1000000))\n",
    "\n",
    "# transforma a lista em um array Numpy\n",
    "array = np.array(lista)\n",
    "\n",
    "# começa a cronometrar o tempo para a operação com a lista\n",
    "start_time = time.time()\n",
    "\n",
    "# realiza a operação de elevar ao quadrado cada elemento da lista\n",
    "lista_quadrado = [i**2 for i in lista]\n",
    "\n",
    "# para o cronômetro\n",
    "list_time = time.time() - start_time\n",
    "\n",
    "# começa a cronometrar o tempo para a operação com o array\n",
    "start_time = time.time()\n",
    "\n",
    "# realiza a operação de elevar ao quadrado cada elemento do array\n",
    "array_quadrado = array**2\n",
    "\n",
    "# para o cronômetro\n",
    "array_time = time.time() - start_time\n",
    "\n",
    "print(\"Tempo da operação com a lista: \", list_time)\n",
    "print(\"Tempo da operação com o array: \", array_time)"
   ]
  },
  {
   "cell_type": "markdown",
   "metadata": {},
   "source": [
    "Claro! Aqui estão os métodos do NumPy usados no documento Compreendendo os tipos de dados em Python.ipynb:\n",
    "\n",
    "numpy.array: Cria um array NumPy a partir de listas ou outras sequências. Permite especificar o tipo de dados com o argumento dtype e pode criar arrays multidimensionais a partir de listas aninhadas.\n",
    "\n",
    "numpy.matrix: Cria uma matriz NumPy bidimensional. É semelhante ao array, mas sempre retorna uma matriz 2D. (Obs: O uso de matrix é desencorajado em novos códigos, prefira array.)\n",
    "\n",
    "numpy.zeros: Cria um array preenchido com zeros. Você pode definir o tamanho e o tipo de dados do array.\n",
    "\n",
    "numpy.ones: Cria um array preenchido com uns. Também permite definir o formato e o tipo de dados.\n",
    "\n",
    "numpy.full: Cria um array preenchido com um valor constante especificado.\n",
    "\n",
    "numpy.arange: Gera um array com valores em uma sequência, semelhante à função range do Python, mas retorna um array NumPy.\n",
    "\n",
    "numpy.linspace: Gera um array com valores igualmente espaçados em um intervalo definido.\n",
    "\n",
    "numpy.random.random: Gera um array com valores aleatórios distribuídos uniformemente entre 0 e 1.\n",
    "\n",
    "numpy.random.normal: Gera um array com valores aleatórios seguindo uma distribuição normal (gaussiana), com média e desvio padrão definidos.\n",
    "\n",
    "numpy.random.randint: Gera um array de inteiros aleatórios em um intervalo especificado.\n",
    "\n",
    "numpy.empty: Cria um array sem inicializar os valores (os valores serão o que já existir na memória naquele local).\n",
    "\n",
    "Todos esses métodos são usados para criar e manipular arrays NumPy de diferentes formas e com diferentes tipos de dados. Se quiser exemplos de uso para algum deles, é só pedir!"
   ]
  },
  {
   "cell_type": "code",
   "execution_count": null,
   "metadata": {},
   "outputs": [],
   "source": []
  }
 ],
 "metadata": {
  "kernelspec": {
   "display_name": "Python 3",
   "language": "python",
   "name": "python3"
  },
  "language_info": {
   "codemirror_mode": {
    "name": "ipython",
    "version": 3
   },
   "file_extension": ".py",
   "mimetype": "text/x-python",
   "name": "python",
   "nbconvert_exporter": "python",
   "pygments_lexer": "ipython3",
   "version": "3.13.2"
  }
 },
 "nbformat": 4,
 "nbformat_minor": 2
}
