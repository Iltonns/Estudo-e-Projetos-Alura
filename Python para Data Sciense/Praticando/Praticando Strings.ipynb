{
 "cells": [
  {
   "cell_type": "code",
   "execution_count": null,
   "metadata": {},
   "outputs": [],
   "source": [
    "# Crie um código que solicite uma frase à pessoa usuária e imprima a mesma frase digitada mas com todas as letras maiúsculas.\n",
    "frase1 = str(input('Digite uma frase: ')).upper()\n",
    "print(frase1)\n",
    "\n"
   ]
  },
  {
   "cell_type": "code",
   "execution_count": null,
   "metadata": {},
   "outputs": [],
   "source": [
    "#Crie um código que solicite uma frase à pessoa usuária e imprima a mesma frase digitada mas com todas as letras minúsculas.\n",
    "frase2 = str(input('Digite uma frase: ')).lower()\n",
    "print(frase2)\n",
    "\n",
    "frase = \"Eleilton Santos Gatinho \".strip() #Removendo os espaços em branco\n",
    "print(frase)\n",
    "\n",
    "frase1 = str(input('Digite uma frase: ')).strip #Removendo os espaços em branco\n",
    "print(frase1)"
   ]
  },
  {
   "cell_type": "code",
   "execution_count": null,
   "metadata": {},
   "outputs": [],
   "source": [
    "#Crie um código que solicite uma frase à pessoa usuária e imprima a mesma frase com todas as vogais “e” trocadas pela letra “f”.\n",
    "frase = str(input('Digite uma frase: ')).replace('e', 'f'). replace('E', 'f')\n",
    "print(frase)\n",
    "\n"
   ]
  }
 ],
 "metadata": {
  "kernelspec": {
   "display_name": ".venv",
   "language": "python",
   "name": "python3"
  },
  "language_info": {
   "name": "python",
   "version": "3.13.2"
  }
 },
 "nbformat": 4,
 "nbformat_minor": 2
}
