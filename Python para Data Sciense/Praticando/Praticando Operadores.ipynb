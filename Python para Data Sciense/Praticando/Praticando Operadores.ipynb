{
 "cells": [
  {
   "cell_type": "code",
   "execution_count": null,
   "metadata": {},
   "outputs": [],
   "source": [
    "nome = str(input('Digite seu nome: '))\n",
    "print(f'Olá, {nome}''!')"
   ]
  },
  {
   "cell_type": "code",
   "execution_count": null,
   "metadata": {},
   "outputs": [],
   "source": [
    "# Crie um programa que solicite dois valores numéricos, um numerador e um denominador, e realize a divisão entre os dois valores. Deixe claro que o valor do denominador não pode ser 0.\n",
    " \n",
    "try:\n",
    "    numerador = int(input('Digite o numerador: '))\n",
    "    denominador = int(input('Digite o denominador diferente de 0: '))\n",
    "\n",
    "    while denominador == 0:\n",
    "        print(\"O denominador não pode ser 0. Tente novamente.\")\n",
    "        denominador = int(input('Digite o denominador diferente de 0: '))\n",
    "\n",
    "    resultado = numerador / denominador\n",
    "    print(resultado)\n",
    "\n",
    "except ValueError:\n",
    "    print('Digite um valor válido!') "
   ]
  },
  {
   "cell_type": "code",
   "execution_count": null,
   "metadata": {},
   "outputs": [],
   "source": [
    "# Crie um programa que solicite dois valores numéricos, um operador e uma potência, e realize a exponenciação entre esses dois valores.\n",
    "try:\n",
    "    # Solicita o primeiro valor numérico ao usuário\n",
    "    base = float(input(\"Digite o primeiro valor (base): \"))\n",
    "    \n",
    "    # Solicita o segundo valor numérico ao usuário\n",
    "    expoente = float(input(\"Digite o segundo valor (expoente): \"))\n",
    "    \n",
    "    # Solicita o operador ao usuário\n",
    "    operador = input(\"Digite o operador (use '**' para exponenciação): \")\n",
    "\n",
    "    # Verifica se o operador é válido para exponenciação\n",
    "    if operador == \"**\":\n",
    "        # Realiza a operação de exponenciação\n",
    "        resultado = base ** expoente\n",
    "        print(f\"O resultado de {base} elevado a {expoente} é: {resultado}\")\n",
    "    else:\n",
    "        # Caso o operador seja inválido, exibe uma mensagem de erro\n",
    "        print(\"Operador inválido! Use '**' para realizar a exponenciação.\")\n",
    "\n",
    "except ValueError:\n",
    "    # Trata erros de entrada inválida (valores não numéricos)\n",
    "    print(\"Erro: Por favor, insira valores numéricos válidos.\")"
   ]
  },
  {
   "cell_type": "code",
   "execution_count": null,
   "metadata": {},
   "outputs": [],
   "source": [
    " # Crie um programa que solicite dois valores numéricos, um numerador e um denominador e realize a divisão inteira entre os dois valores. Deixe claro que o valor do denominador não pode ser 0.\n",
    "try:\n",
    "    n_numerador = int(input('Digite um numerador:'))\n",
    "    n_denominador = int(input('Digite um denominador:'))\n",
    "\n",
    "    while n_denominador == 0:\n",
    "        print('O denominador não pode ser 0. Tente novamente.')\n",
    "        n_denominador = int(input('Digite um denominador:'))\n",
    "\n",
    "    r_resultado = n_numerador // n_denominador\n",
    "    print(r_resultado)\n",
    "except ValueError:\n",
    "\n",
    "    print( 'Digite um valor válido.')  "
   ]
  },
  {
   "cell_type": "code",
   "execution_count": null,
   "metadata": {},
   "outputs": [],
   "source": [
    "#Crie um programa que solicite dois valores numéricos, um numerador e um denominador, e retorne o resto da divisão entre os dois valores. Deixe claro que o valor do denominador não pode ser 0.   \n",
    "try:\n",
    "    n_numerador = int(input('Digite um numerador:'))\n",
    "    n_denominador = int(input('Digite um denominador:'))\n",
    "\n",
    "    while n_denominador == 0:\n",
    "        print('O denominador não pode ser 0. Tente novamente.')\n",
    "        n_denominador = int(input('Digite um denominador:'))\n",
    "\n",
    "    r_resultado = n_numerador % n_denominador\n",
    "    print(r_resultado)\n",
    "except ValueError:\n",
    "\n",
    "    print( 'Digite um valor válido.')     "
   ]
  },
  {
   "cell_type": "code",
   "execution_count": null,
   "metadata": {},
   "outputs": [],
   "source": [
    "#Crie um código que calcule e imprima a média ponderada dos números 5, 12, 20 e 15 com pesos respectivamente iguais a 1, 2, 3 e 4.\n",
    "Media_ponderada = (5 * 1 + 12 * 2 + 20 * 3 + 15 * 4 ) / (1 + 2 + 3 + 4)\n",
    "print(Media_ponderada)"
   ]
  }
 ],
 "metadata": {
  "kernelspec": {
   "display_name": ".venv",
   "language": "python",
   "name": "python3"
  },
  "language_info": {
   "name": "python",
   "version": "3.13.2"
  }
 },
 "nbformat": 4,
 "nbformat_minor": 2
}
