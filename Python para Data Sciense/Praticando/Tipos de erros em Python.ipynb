{
 "cells": [
  {
   "cell_type": "code",
   "execution_count": null,
   "id": "50cba897",
   "metadata": {},
   "outputs": [
    {
     "ename": "_IncompleteInputError",
     "evalue": "incomplete input (1225550915.py, line 1)",
     "output_type": "error",
     "traceback": [
      "\u001b[1;36m  Cell \u001b[1;32mIn[1], line 1\u001b[1;36m\u001b[0m\n\u001b[1;33m    print(10 / 2\u001b[0m\n\u001b[1;37m                ^\u001b[0m\n\u001b[1;31m_IncompleteInputError\u001b[0m\u001b[1;31m:\u001b[0m incomplete input\n"
     ]
    }
   ],
   "source": [
    "print(10 / 2\n",
    "      \n",
    "# IndexError  \n",
    "# Ocorre quando é detectado pelo parser (analisador) um erro na descrição do código. Normalmente uma seta aponta para a parte do código que gerou o erro, como uma espécie de dica onde o erro possa ter ocorrido.   "
   ]
  },
  {
   "cell_type": "code",
   "execution_count": null,
   "id": "b824998e",
   "metadata": {},
   "outputs": [
    {
     "ename": "NameError",
     "evalue": "name 'sqrt' is not defined",
     "output_type": "error",
     "traceback": [
      "\u001b[1;31m---------------------------------------------------------------------------\u001b[0m",
      "\u001b[1;31mNameError\u001b[0m                                 Traceback (most recent call last)",
      "Cell \u001b[1;32mIn[2], line 1\u001b[0m\n\u001b[1;32m----> 1\u001b[0m raiz \u001b[38;5;241m=\u001b[39m \u001b[43msqrt\u001b[49m(\u001b[38;5;241m100\u001b[39m)\n",
      "\u001b[1;31mNameError\u001b[0m: name 'sqrt' is not defined"
     ]
    }
   ],
   "source": [
    "raiz = sqrt(100)\n",
    "\n",
    "#NameError\n",
    "# Exceção lançada quando tentamos utilizar um nome de algum elemento que não está presente em nosso código.\n",
    "# Neste caso, o interpretador não consegue aplicar o método da raiz quadrada por não ter sido importado junto a biblioteca math."
   ]
  },
  {
   "cell_type": "code",
   "execution_count": null,
   "id": "e42fcc35",
   "metadata": {},
   "outputs": [
    {
     "ename": "TypeError",
     "evalue": "can only concatenate str (not \"int\") to str",
     "output_type": "error",
     "traceback": [
      "\u001b[1;31m---------------------------------------------------------------------------\u001b[0m",
      "\u001b[1;31mTypeError\u001b[0m                                 Traceback (most recent call last)",
      "Cell \u001b[1;32mIn[1], line 1\u001b[0m\n\u001b[1;32m----> 1\u001b[0m \u001b[38;5;124;43m\"\u001b[39;49m\u001b[38;5;124;43m1\u001b[39;49m\u001b[38;5;124;43m\"\u001b[39;49m\u001b[43m \u001b[49m\u001b[38;5;241;43m+\u001b[39;49m\u001b[43m \u001b[49m\u001b[38;5;241;43m1\u001b[39;49m\n",
      "\u001b[1;31mTypeError\u001b[0m: can only concatenate str (not \"int\") to str"
     ]
    }
   ],
   "source": [
    "\"1\" + 1\n",
    "\n",
    "# TypeError\n",
    "# Note que tentamos “somar” uma string com um número inteiro e isso gerou uma exceção em nosso código. Isso ocorreu por 2 razões: o operador de soma foi considerado de concatenação por iniciarmos utilizando uma string (nesse caso, o sinal de adição serve para concatenar strings) e um valor do tipo inteiro não consegue ser concatenado nesse tipo de operação."
   ]
  },
  {
   "cell_type": "code",
   "execution_count": null,
   "id": "87467fe6",
   "metadata": {},
   "outputs": [
    {
     "ename": "KeyError",
     "evalue": "'Amazonas'",
     "output_type": "error",
     "traceback": [
      "\u001b[1;31m---------------------------------------------------------------------------\u001b[0m",
      "\u001b[1;31mKeyError\u001b[0m                                  Traceback (most recent call last)",
      "Cell \u001b[1;32mIn[2], line 2\u001b[0m\n\u001b[0;32m      1\u001b[0m estados \u001b[38;5;241m=\u001b[39m {\u001b[38;5;124m'\u001b[39m\u001b[38;5;124mBahia\u001b[39m\u001b[38;5;124m'\u001b[39m: \u001b[38;5;241m1\u001b[39m, \u001b[38;5;124m'\u001b[39m\u001b[38;5;124mSão Paulo\u001b[39m\u001b[38;5;124m'\u001b[39m: \u001b[38;5;241m2\u001b[39m, \u001b[38;5;124m'\u001b[39m\u001b[38;5;124mGoiás\u001b[39m\u001b[38;5;124m'\u001b[39m: \u001b[38;5;241m3\u001b[39m}\n\u001b[1;32m----> 2\u001b[0m \u001b[43mestados\u001b[49m\u001b[43m[\u001b[49m\u001b[38;5;124;43m\"\u001b[39;49m\u001b[38;5;124;43mAmazonas\u001b[39;49m\u001b[38;5;124;43m\"\u001b[39;49m\u001b[43m]\u001b[49m\n",
      "\u001b[1;31mKeyError\u001b[0m: 'Amazonas'"
     ]
    }
   ],
   "source": [
    "estados = {'Bahia': 1, 'São Paulo': 2, 'Goiás': 3}\n",
    "estados[\"Amazonas\"]\n",
    "\n",
    "# KeyError\n",
    "# Exceção lançada quando tentamos acessar uma chave que não está no dicionário presente em nosso código.\n",
    "# Tentamos acessar os dados do Estado Amazonas que não está presente no dicionário, lançando assim a exceção."
   ]
  },
  {
   "cell_type": "code",
   "execution_count": null,
   "id": "5114ff71",
   "metadata": {},
   "outputs": [
    {
     "name": "stderr",
     "output_type": "stream",
     "text": [
      "C:\\Users\\eleilton.esg\\AppData\\Local\\Temp\\ipykernel_8856\\2755739505.py:4: RuntimeWarning: invalid value encountered in divide\n",
      "  a / a  # apresenta um warning\n"
     ]
    },
    {
     "data": {
      "text/plain": [
       "array([nan,  1.,  1.,  1.,  1.])"
      ]
     },
     "execution_count": 4,
     "metadata": {},
     "output_type": "execute_result"
    }
   ],
   "source": [
    "import numpy as np\n",
    "\n",
    "a = np.arange(5)\n",
    "a / a  # apresenta um warning\n",
    "\n",
    "# Warning\n",
    "# Exceção lançada em situações que precisamos alertar à pessoa usuária sobre algumas condições do código. Essas condições não necessariamente interrompem a execução do programa, mas podem lançar avisos sobre uso de módulos obsoletos, ou que possam ser depreciados em atualizações futuras ou também para alterações que podem reverberar sobre alguma parte do código.\n",
    "\n",
    "# Lembrando que, no caso dos Warnings eles podem ser ignorados ou tratados como exceções."
   ]
  },
  {
   "cell_type": "code",
   "execution_count": null,
   "id": "ffdbe5cc",
   "metadata": {},
   "outputs": [],
   "source": []
  }
 ],
 "metadata": {
  "kernelspec": {
   "display_name": "Python 3",
   "language": "python",
   "name": "python3"
  },
  "language_info": {
   "codemirror_mode": {
    "name": "ipython",
    "version": 3
   },
   "file_extension": ".py",
   "mimetype": "text/x-python",
   "name": "python",
   "nbconvert_exporter": "python",
   "pygments_lexer": "ipython3",
   "version": "3.13.2"
  }
 },
 "nbformat": 4,
 "nbformat_minor": 5
}
