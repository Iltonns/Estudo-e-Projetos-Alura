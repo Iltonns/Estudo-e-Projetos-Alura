{
 "cells": [
  {
   "cell_type": "code",
   "execution_count": null,
   "id": "fa2d0166",
   "metadata": {},
   "outputs": [],
   "source": [
    "# Escreva um código que lê a lista abaixo e faça:\n",
    "lista = [16, 14, 63, 65, 17, 99, 70, 11, 20, 48, 79, 32, 17, 89, 12, 25, 66]\n",
    "\n",
    "print(f'A lista contém {len(lista)} elementos.')\n",
    "print(f'O maior valor é {max(lista)}')\n",
    "print(f'O menor valor é {min(lista)}')\n",
    "print(f'A soma de todos os valores é {sum(lista)}')\n",
    "\n",
    "print(f'A lista possui {len(lista)} números em que o maior número é {max(lista)} e o menor número é {min(lista)}. A soma dos valores presentes nela é igual a {sum(lista)}')\n",
    "\n",
    "\"\"\"Análise de Lista de Números Inteiros\n",
    "\n",
    "Este código realiza uma análise básica de uma lista de números inteiros e apresenta as seguintes estatísticas:\n",
    "\n",
    "- Quantidade total de elementos na lista\n",
    "- Maior valor presente\n",
    "- Menor valor presente\n",
    "- Soma de todos os valores\n",
    "\n",
    "O código utiliza funções nativas do Python:\n",
    "- `len()`: conta o número de elementos\n",
    "- `max()`: encontra o maior valor\n",
    "- `min()`: encontra o menor valor\n",
    "- `sum()`: calcula a soma total\n",
    "\n",
    "Por fim, apresenta um resumo completo combinando todas estas informações em uma única mensagem.\"\"\"\n"
   ]
  },
  {
   "cell_type": "code",
   "execution_count": null,
   "id": "09277d24",
   "metadata": {},
   "outputs": [],
   "source": [
    "# Escreva uma função que gere a tabuada de um número inteiro de 1 a 10, de acordo com a escolha da pessoa usuária\n",
    "numero = int(input('Digite o numero a qual deseja ver a tabuada: '))\n",
    "\n",
    "def tabuada(x):\n",
    "    for i in range(1, 11):\n",
    "        print(f\"{x} x {i} = {x * i}\")\n",
    "\n",
    "tabuada(numero)        \n",
    "\n",
    "\"\"\"Gerador de Tabuada\n",
    "\n",
    "Esta função gera a tabuada de multiplicação para um número inteiro escolhido pelo usuário:\n",
    "\n",
    "- Recebe um número inteiro via input do usuário\n",
    "- Utiliza um loop for para multiplicar o número de 1 até 10\n",
    "- Imprime cada operação de multiplicação formatada\n",
    "\n",
    "Exemplo de saída para número 5:\n",
    "5 x 1 = 5\n",
    "5 x 2 = 10\n",
    "...e assim por diante até 10\n",
    "\n",
    "A função tabuada(x):\n",
    "- Parâmetro x: número inteiro para gerar a tabuada\n",
    "- Loop: itera de 1 a 10 usando range()\n",
    "- Saída: imprime cada multiplicação formatada\"\"\"\n"
   ]
  },
  {
   "cell_type": "code",
   "execution_count": 32,
   "id": "45568a46",
   "metadata": {},
   "outputs": [
    {
     "name": "stdout",
     "output_type": "stream",
     "text": [
      "Os múltiplos de 3 na lista são: [24, 99]\n"
     ]
    }
   ],
   "source": [
    "# Crie a função que leia a lista abaixo e retorne uma nova lista com os múltiplos de 3\n",
    "[97, 80, 94, 88, 80, 1, 16, 53, 62, 32, 24, 99]\n",
    "\n",
    "def multiplos_tres(lista):\n",
    "    return [num for num in lista if num % 3 == 0]\n",
    "\n",
    "mult_3 = multiplos_tres([97, 80, 94, 88, 80, 1, 16, 53, 62, 32, 24, 99])\n",
    "print(f\"Os múltiplos de 3 na lista são: {mult_3}\")"
   ]
  },
  {
   "cell_type": "code",
   "execution_count": 46,
   "id": "0f18f40d",
   "metadata": {},
   "outputs": [
    {
     "name": "stdout",
     "output_type": "stream",
     "text": [
      "[1, 4, 9, 16, 25, 36, 49, 64, 81, 100]\n"
     ]
    }
   ],
   "source": [
    "# Crie uma lista dos quadrados dos números abaixo. Lembre-se de utilizar as funções lambda e map() para calcular o quadrado de cada elemento da lista.\n",
    "\n",
    "lista = [1, 2, 3, 4, 5, 6, 7, 8, 9, 10]\n",
    "\n",
    "quadrado = map(lambda x: x ** 2, lista)\n",
    "\n",
    "quadrado = list(quadrado)\n",
    "print(quadrado)\n",
    "\n"
   ]
  },
  {
   "cell_type": "code",
   "execution_count": null,
   "id": "fb7334ff",
   "metadata": {},
   "outputs": [
    {
     "name": "stdout",
     "output_type": "stream",
     "text": [
      "Nota da manobra 2.00.\n"
     ]
    }
   ],
   "source": [
    "\"\"\"Você foi contratado(a) como cientista de dados de uma associação de skate. Para analisar as notas recebidas de skatistas em algumas competições ao longo do ano, você precisa criar um código que calcula a pontuação dos(as) atletas. Para isso, o seu código deve receber 5 notas digitadas pelas pessoas juradas.\n",
    "\n",
    "Para calcular a pontuação de um(a) skatista, você precisa eliminar a maior e a menor pontuação dentre as 5 notas e tirar a média das 3 notas que sobraram. Retorne a média para apresentar o texto:\n",
    "\n",
    "\"Nota da manobra: [media]\"\"\"\n",
    "\n",
    "\"\"\"nota_1 = int(input('Digite a primeira nota do skatista: '))\n",
    "nota_2 = int(input('Digite a segunda nota do skatista: '))\n",
    "nota_3 = int(input('Digite a terceira nota do skatista: '))\n",
    "nota_4 = int(input('Digite a quarta nota do skatista: '))\n",
    "nota_5 = int(input('Digite a quinta nota do skatista: '))\n",
    "\n",
    "\n",
    "notas = [nota_1, nota_2, nota_3, nota_4, nota_5]\n",
    "\n",
    "notas.remove(max(notas))\n",
    "notas.remove(min(notas))\n",
    "media = sum(notas) / len(notas)\n",
    "\n",
    "print(f'Nota da manobra {media:.2f}.')  \"\"\"      \n",
    "\n",
    "# Cria uma lista vazia para armazenar as 5 notas do skatista\n",
    "notas_skatista = []\n",
    "\n",
    "# Solicita ao usuário que insira as 5 notas uma a uma\n",
    "for i in range(5):\n",
    "    # Lê cada nota (convertida para inteiro) e adiciona à lista\n",
    "    nota = int(input(f'Digite a {i+1}ª nota do skatista: '))\n",
    "    notas_skatista.append(nota)\n",
    "\n",
    "# Remove a maior nota para eliminar a influência do valor máximo\n",
    "notas_skatista.remove(max(notas_skatista))\n",
    "\n",
    "# Remove a menor nota para eliminar a influência do valor mínimo\n",
    "notas_skatista.remove(min(notas_skatista))\n",
    "\n",
    "# Calcula a média das 3 notas restantes\n",
    "media = sum(notas_skatista) / len(notas_skatista)\n",
    "\n",
    "# Exibe a média calculada formatada com duas casas decimais\n",
    "print(f'Nota da manobra {media:.2f}.')\n"
   ]
  },
  {
   "cell_type": "code",
   "execution_count": null,
   "id": "a3a210e4",
   "metadata": {},
   "outputs": [
    {
     "name": "stdout",
     "output_type": "stream",
     "text": [
      "Os múltiplos de 3 são: [24, 99]\n"
     ]
    }
   ],
   "source": [
    "# Crie a função que leia a lista abaixo e retorne uma nova lista com os múltiplos de 3\n",
    "lista = [97, 80, 94, 88, 80, 1, 16, 53, 62, 32, 24, 99]\n",
    "\n",
    "\n",
    "# Função que retorna múltiplos de 3 de uma lista\n",
    "def elemento(lista):\n",
    "        # Usa list comprehension para filtrar os números\n",
    "        # Inclui apenas números que quando divididos por 3 têm resto 0\n",
    "        return [num for num in lista if num % 3 == 0]\n",
    "\n",
    "    # Aplica a função à lista e armazena o resultado\n",
    "nova_lista = elemento(lista)\n",
    "\n",
    "    # Imprime a lista de múltiplos de 3\n",
    "print(f\"Os múltiplos de 3 são: {nova_lista}\")"
   ]
  },
  {
   "cell_type": "code",
   "execution_count": null,
   "id": "34b9c654",
   "metadata": {},
   "outputs": [
    {
     "name": "stdout",
     "output_type": "stream",
     "text": [
      "[1, 4, 9, 16, 25, 36, 49, 64, 81, 100]\n"
     ]
    }
   ],
   "source": [
    "# Crie uma lista dos quadrados dos números da seguinte lista [1, 2, 3, 4, 5, 6, 7, 8, 9, 10]. Lembre-se de utilizar as funções lambda e map() para calcular o quadrado de cada elemento da lista.\n",
    "\n",
    "lista = [1, 2, 3, 4, 5, 6, 7, 8, 9, 10]\n",
    "\n",
    "nova_lista = map(lambda x: x ** 2, lista)\n",
    "\n",
    "nova_lista = list(nova_lista)\n",
    "\n",
    "print(nova_lista)\n",
    "\n",
    "\n",
    "\"\"\"\n",
    "Este código:\n",
    "1. Cria uma lista com números de 1 a 10\n",
    "2. Usa a função map() com uma função lambda para calcular o quadrado de cada número\n",
    "3. A função lambda x: x ** 2 recebe um número x e retorna x ao quadrado\n",
    "4. Converte o objeto map resultante em uma lista\n",
    "5. Imprime a nova lista contendo os quadrados dos números originais\n",
    "\"\"\""
   ]
  },
  {
   "cell_type": "code",
   "execution_count": 13,
   "id": "ccdb447c",
   "metadata": {},
   "outputs": [
    {
     "name": "stdout",
     "output_type": "stream",
     "text": [
      "['joão SILVA', 'MaRia souza', 'JOSÉ Tavares']\n",
      "['João Silva', 'Maria Souza', 'José Tavares']\n"
     ]
    }
   ],
   "source": [
    "# Você recebeu uma demanda para tratar 2 listas com os nomes e sobrenomes de cada estudante concatenando-as para apresentar seus nomes completos na forma Nome Sobrenome\n",
    "\n",
    "nomes = [\"joão\", \"MaRia\", \"JOSÉ\"]\n",
    "sobrenomes = [\"SILVA\", \"souza\", \"Tavares\"]\n",
    "\n",
    "resultado = list(map(lambda nomes, sobrenomes: nomes + \" \"+ sobrenomes, nomes, sobrenomes))\n",
    "print(resultado)\n",
    "\n",
    "\"\"\"\n",
    "Este código combina duas listas (nomes e sobrenomes) para criar nomes completos:\n",
    "\n",
    "1. Temos duas listas de entrada:\n",
    "    - nomes: contém os primeiros nomes\n",
    "    - sobrenomes: contém os sobrenomes correspondentes\n",
    "\n",
    "2. Utilizamos a função map() que:\n",
    "    - Aplica uma função a cada elemento das listas\n",
    "    - Processa os elementos correspondentes das duas listas simultaneamente\n",
    "\n",
    "3. A função lambda usada:\n",
    "    - Recebe dois parâmetros (nome e sobrenome)\n",
    "    - Concatena-os com um espaço entre eles\n",
    "    - Retorna a string concatenada\n",
    "\n",
    "4. O resultado final é convertido para lista e armazenado na variável 'resultado'\n",
    "    contendo os nomes completos formatados\n",
    "\"\"\"\n",
    "\n",
    "nomes = [\"joão\", \"MaRia\", \"JOSÉ\"]\n",
    "sobrenomes = [\"SILVA\", \"souza\", \"Tavares\"]\n",
    "\n",
    "# Lista de nomes completos formatados\n",
    "nomes_completos = [f\"{nome.capitalize()} {sobrenome.capitalize()}\" for nome, sobrenome in zip(nomes, sobrenomes)]\n",
    "\n",
    "print(nomes_completos)\n"
   ]
  },
  {
   "cell_type": "code",
   "execution_count": 25,
   "id": "cc3c0aa7",
   "metadata": {},
   "outputs": [
    {
     "name": "stdout",
     "output_type": "stream",
     "text": [
      "A pontuação do time foi de 7 pontos e seu aproveitamento foi de 46.67%\n"
     ]
    }
   ],
   "source": [
    "'''Escreva uma função chamada calcula_pontos que recebe como parâmetros duas listas de números inteiros, representando os gols marcados e sofridos pelo time em cada partida do campeonato. A função deve retornar a pontuação do time e o aproveitamento em percentual, levando em consideração que a vitória vale 3 pontos, o empate vale 1 ponto e a derrota 0 pontos.'''\n",
    "\n",
    "def calcula_pontos(gols_marcados, gols_sofridos):\n",
    "    pontos = 0\n",
    "    # Percorre os gols marcados e sofridos simultaneamente\n",
    "    for marcados, sofridos in zip(gols_marcados, gols_sofridos):\n",
    "        if marcados > sofridos:\n",
    "            pontos += 3  # Vitória: soma 3 pontos\n",
    "        elif marcados == sofridos:\n",
    "            pontos += 1  # Empate: soma 1 ponto\n",
    "        # Derrota não soma pontos (marcados < sofridos)\n",
    "    \n",
    "    # Calcula o total de pontos possíveis (todas vitórias)\n",
    "    total_pontos_possiveis = len(gols_marcados) * 3\n",
    "    # Calcula o aproveitamento em percentual\n",
    "    aproveitamento = (pontos / total_pontos_possiveis) * 100\n",
    "    \n",
    "    return pontos, round(aproveitamento, 2)  # Arredonda para 2 casas decimais\n",
    "\n",
    "# Dados de exemplo\n",
    "gols_marcados = [2, 1, 3, 1, 0]\n",
    "gols_sofridos = [1, 2, 2, 1, 3]\n",
    "\n",
    "# Chamada da função e exibição do resultado\n",
    "pontos, aprov = calcula_pontos(gols_marcados, gols_sofridos)\n",
    "print(f\"A pontuação do time foi de {pontos} pontos e seu aproveitamento foi de {aprov}%\")"
   ]
  },
  {
   "cell_type": "code",
   "execution_count": null,
   "id": "d2c544d9",
   "metadata": {},
   "outputs": [],
   "source": [
    "'''Você recebeu o desafio de criar um código que calcula os gastos de uma viagem para um das quatro cidades partindo de Recife, sendo elas: Salvador, Fortaleza, Natal e Aracaju.\n",
    "\n",
    "O custo da diária do hotel é de 150 reais em todas elas e o consumo de gasolina na viagem de carro é de 14 km/l, sendo que o valor da gasolina é de 5 reais o litro. O gastos com passeios e alimentação a se fazer em cada uma delas por dia seria de [200, 400, 250, 300], respectivamente.\n",
    "\n",
    "Sabendo que as distâncias entre Recife e cada uma das cidades é de aproximadamente [850, 800, 300, 550] km, crie três funções nas quais: a 1ª função calcule os gastos com hotel (gasto_hotel), a 2ª calcule os gastos com a gasolina (gasto_gasolina) e a 3ª os gastos com passeio e alimentação (gasto_passeio).\n",
    "\n",
    "Para testar, simule uma viagem de 3 dias para Salvador partindo de Recife. Considere a viagem de ida e volta de carro.'''\n",
    "\n",
    "def gasto_hotel(dias):\n",
    "    return dias * 150\n",
    "\n",
    "def gasto_gasolina(distancia, km_l, preco_gasolina):\n",
    "    # Multiplicamos por 2 para considerar ida e volta\n",
    "    return (distancia * 2 * preco_gasolina) / km_l\n",
    "\n",
    "def gasto_passeio(dias, custo_diario):\n",
    "    return dias * custo_diario\n",
    "\n",
    "#Calculando para 3 dias em Salvador\n",
    "dias = 3\n",
    "total_hotel = gasto_hotel(dias)\n",
    "total_gasolina = gasto_gasolina(850, 14, 5)  # usando distancia_recife_salvador\n",
    "total_passeio = gasto_passeio(dias, 200)  # valor para Salvador\n",
    "\n",
    "total_viagem = total_hotel + total_gasolina + total_passeio\n",
    "\n",
    "print(f\"Gastos com hotel: R$ {total_hotel:.2f}\")\n",
    "print(f\"Gastos com gasolina: R$ {total_gasolina:.2f}\")\n",
    "print(f\"Gastos com passeios e alimentação: R$ {total_passeio:.2f}\")\n",
    "print(f\"Total da viagem: R$ {total_viagem:.2f}\")"
   ]
  },
  {
   "cell_type": "code",
   "execution_count": null,
   "id": "05149cd0",
   "metadata": {},
   "outputs": [
    {
     "name": "stdout",
     "output_type": "stream",
     "text": [
      "As palavras que contém 5 letras na frase são: ['MUITO']\n"
     ]
    }
   ],
   "source": [
    "\"\"\"import string\n",
    "\n",
    "frase = input(\"Digite uma frase qualquer: \").lower()\n",
    "\n",
    "# Divide a frase em palavras\n",
    "palavras = frase.split()\n",
    "\n",
    "# Filtra palavras com 5 letras\n",
    "# palavras_5_letras = list(filter(lambda palavra: len(palavra.strip(\".,!?;:\")) == 5, palavras))\n",
    "palavras_5_letras = [\n",
    "    palavra.strip(string.punctuation)\n",
    "    for palavra in palavras\n",
    "    if len(palavra.strip(string.punctuation)) == 5\n",
    "]\n",
    "\n",
    "if palavras_5_letras:  # Se a lista não estiver vazia\n",
    "    print(f'As palavras que contém 5 letras na frase são: {palavras_5_letras}')\n",
    "else:\n",
    "    print('Não foram encontradas palavras com 5 letras na frase!')\"\"\"\n",
    "\n",
    "\n",
    "# Requisitando uma frase e separando-a pelos espaços. Usando replace para trocar\n",
    "# pontuações por espaço.\n",
    "frase = input(\"Digite uma frase: \")\n",
    "frase = frase.replace(',',' ').replace('.',' ').replace('!',' ').replace('?',' ').split()\n",
    "\n",
    "# Filtrando a frase no formato de lista, passando para a lista tamanho\n",
    "# apenas as palavras com 5 ou mais caracteres e imprimindo-a na tela\n",
    "tamanho = list(filter(lambda x: len(x) >= 5, frase))\n",
    "print(tamanho)\n",
    "\n"
   ]
  },
  {
   "cell_type": "code",
   "execution_count": 15,
   "id": "d1d66f2b",
   "metadata": {},
   "outputs": [
    {
     "name": "stdout",
     "output_type": "stream",
     "text": [
      "[24, 99]\n"
     ]
    }
   ],
   "source": [
    "# Lista gerada\n",
    "lista = [97, 80, 94, 88, 80, 1, 16, 53, 62, 32, 24, 99]\n",
    "\n",
    "# declarando a lista de multiplos de 3 \n",
    "mult_3 = []\n",
    "# função para gerar uma lista dos múltiplos de 3 a partir de uma lista\n",
    "def multiplo_3(lista: list) -> list:\n",
    "  for i in range(len(lista)):\n",
    "    # condição para um número ser múltiplo de 3\n",
    "    if lista[i] % 3 == 0:\n",
    "      mult_3.append(lista[i])\n",
    "  return mult_3\n",
    "\n",
    "# retornando a lista gerada para a variável mult_3\n",
    "mult_3 = multiplo_3(lista)\n",
    "print(mult_3)"
   ]
  },
  {
   "cell_type": "code",
   "execution_count": null,
   "id": "6bc8e7b8",
   "metadata": {},
   "outputs": [],
   "source": [
    "dias = int(input(\"Quantas diárias? \"))\n",
    "cidade = input(\"Qual a cidade? [Salvador, Fortaleza, Natal ou Aracaju]: \")\n",
    "distancias = [850, 800, 300, 550]\n",
    "passeio = [200, 400, 250, 300]\n",
    "km_l = 14\n",
    "gasolina = 5\n",
    "\n",
    "def gasto_hotel(dias):\n",
    "    return 150 * dias\n",
    "\n",
    "def gasto_gasolina(cidade):\n",
    "    if cidade == \"Salvador\":\n",
    "        return (2 * distancias[0] * gasolina) / km_l \n",
    "    elif cidade == \"Fortaleza\":\n",
    "        return (2 * distancias[1] * gasolina) / km_l \n",
    "    elif cidade == \"Natal\":\n",
    "        return (2 * distancias[2] * gasolina) / km_l \n",
    "    elif cidade == \"Aracaju\":\n",
    "        return (2 * distancias[3] * gasolina) / km_l \n",
    "\n",
    "def gasto_passeio(cidade, dias):\n",
    "    if cidade==\"Salvador\":\n",
    "        return passeio[0] * dias\n",
    "    elif cidade==\"Fortaleza\":\n",
    "        return passeio[1] * dias\n",
    "    elif cidade==\"Natal\":\n",
    "        return passeio[2] * dias \n",
    "    elif cidade==\"Aracaju\":\n",
    "        return passeio[3] * dias \n",
    "\n",
    "gastos = gasto_hotel(dias) + gasto_gasolina(cidade) + gasto_passeio(cidade, dias)\n",
    "print(f\"Com base nos gastos definidos, uma viagem de {dias} dias para {cidade} saindo de Recife custaria {round(gastos, 2)} reais\")"
   ]
  }
 ],
 "metadata": {
  "kernelspec": {
   "display_name": "base",
   "language": "python",
   "name": "python3"
  },
  "language_info": {
   "codemirror_mode": {
    "name": "ipython",
    "version": 3
   },
   "file_extension": ".py",
   "mimetype": "text/x-python",
   "name": "python",
   "nbconvert_exporter": "python",
   "pygments_lexer": "ipython3",
   "version": "3.12.7"
  }
 },
 "nbformat": 4,
 "nbformat_minor": 5
}
