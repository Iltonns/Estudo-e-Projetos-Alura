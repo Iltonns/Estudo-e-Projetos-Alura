{
 "cells": [
  {
   "cell_type": "code",
   "execution_count": 19,
   "id": "a51f58a4",
   "metadata": {},
   "outputs": [
    {
     "name": "stdout",
     "output_type": "stream",
     "text": [
      "Erro: Entrada inválida. Certifique-se de digitar apenas números.\n",
      "Detalhes do erro: could not convert string to float: 't'\n",
      "Programa finalizado.\n"
     ]
    }
   ],
   "source": [
    "\"\"\"Faça um programa que solicite à pessoa usuária digitar dois números float e calcular a divisão entre esses números. O código deve conter um tratamento de erro, indicando o tipo de erro que foi gerado caso a divisão não seja possível de realizar.\n",
    "\n",
    "Teste o programa com o segundo valor numérico do input igual a 0. Também teste utilizando caracteres textuais no input para checar os tipos de erro que ocorrem.\"\"\"\n",
    "\n",
    "try:\n",
    "    # Solicita entradas e converte para float\n",
    "    n1 = float(input('Digite o primeiro número: '))\n",
    "    n2 = float(input('Digite o segundo número: '))\n",
    "    \n",
    "    # Realiza a divisão\n",
    "    resultado = n1 / n2\n",
    "\n",
    "except ValueError as e:\n",
    "    # Captura erro ao converter para float\n",
    "    print('Erro: Entrada inválida. Certifique-se de digitar apenas números.')\n",
    "    print(f'Detalhes do erro: {e}')\n",
    "\n",
    "except ZeroDivisionError as e:\n",
    "    # Captura erro de divisão por zero\n",
    "    print('Erro: Não é possível dividir por zero.')\n",
    "    print(f'Detalhes do erro: {e}')\n",
    "\n",
    "else:\n",
    "    # Exibe o resultado caso não ocorra erro\n",
    "    print(f'Resultado da divisão: {resultado}')\n",
    "\n",
    "finally:\n",
    "    # Executa sempre, com ou sem erro\n",
    "    print('Programa finalizado.')\n",
    "\n",
    "\n"
   ]
  },
  {
   "cell_type": "code",
   "execution_count": 25,
   "id": "b65fcd03",
   "metadata": {},
   "outputs": [
    {
     "name": "stdout",
     "output_type": "stream",
     "text": [
      "Nome não encontrado!\n",
      "A consulta foi encerrada!\n"
     ]
    }
   ],
   "source": [
    "\"\"\" Faça um programa que solicite à pessoa usuária digitar um texto que será uma chave a ser pesquisada no seguinte dicionário: idades = {'Júlia': 16, 'Carol': 23, 'Alberto': 19, 'Roberta': 17}, armazenando o resultado do valor em uma variável. O código deve conter um tratamento de erro KeyError, imprimindo a informação 'Nome não encontrado', caso ocorra o erro; e imprimir o valor caso não ocorra nenhum.\n",
    "\n",
    "Teste o programa com um nome presente em uma das chaves do dicionário e com um que não esteja no dicionário para verificar a mensagem de erro.\"\"\"\n",
    "\n",
    "try:\n",
    "    idades = {'Júlia': 16, 'Carol': 23, 'Alberto': 19, 'Roberta': 17}\n",
    "\n",
    "    nome = input('Digite o nome da pessoa que deseja informações: ')\n",
    "    resultado = idades[nome]\n",
    "\n",
    "except KeyError:\n",
    "    print('Nome não encontrado!')\n",
    "\n",
    "else:\n",
    "    print(resultado)\n",
    "\n",
    "finally:\n",
    "    print('A consulta foi encerrada!')        \n",
    "    "
   ]
  },
  {
   "cell_type": "code",
   "execution_count": 2,
   "id": "33977d67",
   "metadata": {},
   "outputs": [
    {
     "name": "stdout",
     "output_type": "stream",
     "text": [
      "Fim da execução da função\n",
      "[8.0, 2.0, 4.0, 6.0, 10.0]\n",
      "Erro de valor: could not convert string to float: 'dois'\n",
      "Fim da execução da função\n",
      "None\n"
     ]
    }
   ],
   "source": [
    "\"\"\" Crie uma função que recebe uma lista como parâmetro e converta todos os valores da lista para float. A função deve conter um tratamento de erro indicando o tipo de erro gerado e retornar a lista caso não tenha ocorrido nenhum erro. Por fim, deve ter a cláusula finally para imprimir o texto: 'Fim da execução da função'.\"\"\"\n",
    "\n",
    "\n",
    "def converter_para_float(lista: list) -> list:\n",
    "    try:\n",
    "        # Tenta converter todos os elementos da lista para float\n",
    "        conversao = [float(i) for i in lista]\n",
    "        return conversao\n",
    "    except ValueError as e:\n",
    "        # Trata erro de conversão (ex: string não numérica)\n",
    "        print(f\"Erro de valor: {e}\")\n",
    "    except TypeError as e:\n",
    "        # Trata erro caso um tipo não convertível (ex: dict, None, etc)\n",
    "        print(f\"Erro de tipo: {e}\")\n",
    "    finally:\n",
    "        # Executado sempre\n",
    "        print('Fim da execução da função')\n",
    "\n",
    "# Teste com lista válida\n",
    "lista = [8, 2, 4, 6, 10]\n",
    "resultado = converter_para_float(lista)\n",
    "print(resultado)\n",
    "        \n",
    "# Teste com valor inválido\n",
    "lista = [1, \"dois\", 3]\n",
    "resultado = converter_para_float(lista)\n",
    "print(resultado)        \n"
   ]
  },
  {
   "cell_type": "code",
   "execution_count": 3,
   "id": "3f6d2984",
   "metadata": {},
   "outputs": [
    {
     "name": "stdout",
     "output_type": "stream",
     "text": [
      "Execução da função finalizada.\n",
      "[(4, -4, 0), (6, 6, 12), (7, 8, 15), (9, 7, 16), (10, 9, 19)]\n",
      "Erro de índice: A quantidade de elementos em cada lista é diferente.\n",
      "Execução da função finalizada.\n",
      "Erro de tipo: can only concatenate str (not \"int\") to str\n",
      "Execução da função finalizada.\n"
     ]
    }
   ],
   "source": [
    "\"\"\"Crie uma função que recebe duas listas como parâmetros e agrupe os elementos um a um das listas, formando uma lista de tuplas de 3 elementos, no qual o primeiro e segundo elemento da tupla são os valores na posição i das listas e o terceiro elemento é a soma dos valores na posição i das listas.\n",
    "\n",
    "A função deve conter um tratamento de erro indicando o tipo de erro gerado e retornar como resultado a lista de tuplas. Caso as listas enviadas como parâmetro tenham tamanhos diferentes, a função deve retornar um IndexError com a frase: 'A quantidade de elementos em cada lista é diferente.' Dados para testar a função:\"\"\"\n",
    "\n",
    "def agrupar_elementos(lista1, lista2):\n",
    "    try:\n",
    "        # Verifica se as listas têm o mesmo tamanho\n",
    "        if len(lista1) != len(lista2):\n",
    "            raise IndexError('A quantidade de elementos em cada lista é diferente.')\n",
    "\n",
    "        # Agrupa os valores e calcula a soma\n",
    "        resultado = [(lista1[i], lista2[i], lista1[i] + lista2[i]) for i in range(len(lista1))]\n",
    "        return resultado\n",
    "\n",
    "    except IndexError as e:\n",
    "        # Trata erro de tamanho diferente das listas\n",
    "        print(f'Erro de índice: {e}')\n",
    "\n",
    "    except TypeError as e:\n",
    "        # Trata erro de soma entre tipos incompatíveis\n",
    "        print(f'Erro de tipo: {e}')\n",
    "\n",
    "    finally:\n",
    "        print('Execução da função finalizada.')\n",
    "\n",
    "       \n",
    "\n",
    "# Teste com listas válidas\n",
    "lista1 = [4, 6, 7, 9, 10]\n",
    "lista2 = [-4, 6, 8, 7, 9]\n",
    "resultado = agrupar_elementos(lista1, lista2)\n",
    "print(resultado)\n",
    "\n",
    "# Teste com listas de tamanhos diferentes\n",
    "lista1 = [1, 2, 3]\n",
    "lista2 = [4, 5]\n",
    "resultado = agrupar_elementos(lista1, lista2)\n",
    "\n",
    "# Teste com tipos misturados\n",
    "lista1 = [1, 2, \"três\"]\n",
    "lista2 = [4, 5, 6]\n",
    "resultado = agrupar_elementos(lista1, lista2)\n"
   ]
  },
  {
   "cell_type": "code",
   "execution_count": 5,
   "id": "9c8403aa",
   "metadata": {},
   "outputs": [
    {
     "name": "stdout",
     "output_type": "stream",
     "text": [
      "[5, 3, 3]\n",
      "A alternativa E não é uma opção de alternativa válida\n",
      "None\n"
     ]
    }
   ],
   "source": [
    "\"\"\"5. Como desafio, você recebeu a tarefa de desenvolver um código que contabiliza as pontuações de estudantes de uma instituição de ensino de acordo com suas respostas num teste. Este código deve ser testado para um exemplo de 3 estudantes com uma lista de listas em que cada lista possui as respostas de 5 questões objetivas de cada estudante. Cada questão vale um ponto e as alternativas possíveis são A, B, C ou D.\n",
    "\n",
    "Caso alguma alternativa em um dos testes não esteja entre as alternativas possíveis, você deve lançar um ValueError com a mensagem \"A alternativa [alternativa] não é uma opção de alternativa válida\". O cálculo das 3 notas só será realizado mediante as entradas com as alternativas A, B, C ou D em todos os testes. Se não for lançada a exceção, será exibida uma lista com as notas em cada teste.\"\"\"\n",
    "\n",
    "gabarito = ['D', 'A', 'B', 'C', 'A']\n",
    "\n",
    "# Criando a função que recebe a lista de listas com as notas dos estudantes\n",
    "def corretor(testes: list):\n",
    "  pontuacoes = [] # criando a lista que receberá as pontuações caso a exceção não seja lançada\n",
    "  try:\n",
    "    for teste in testes:\n",
    "      nota = 0 # variável que acumula a nota de cada estudante\n",
    "      for i in range(len(teste)):\n",
    "        if teste[i] not in ['A', 'B', 'C', 'D']: # Verificamos se temos uma alternativa valida\n",
    "          raise ValueError(f'A alternativa {teste[i]} não é uma opção de alternativa válida')\n",
    "        elif teste[i] == gabarito[i]: # Verificamos se as respostas são iguais e adicionamos à nota\n",
    "          nota += 1\n",
    "      pontuacoes.append(nota) # adicionamos a nota do(a) estudante na lista de pontuações\n",
    "  except Exception as e:\n",
    "    print(e)\n",
    "  else:\n",
    "    return pontuacoes # retornando a lista de pontuações se não lançarmos a exceção\n",
    "\n",
    "# Testando no exemplo que não lança exceção\n",
    "testes_sem_ex = [['D', 'A', 'B', 'C', 'A'], ['C', 'A', 'A', 'C', 'A'], ['D', 'B', 'A', 'C', 'A']]\n",
    "print(corretor(testes_sem_ex))\n",
    "\n",
    "\n",
    "# Testando no exemplo que lança exceção\n",
    "testes_com_ex = [['D', 'A', 'B', 'C', 'A'], ['C', 'A', 'A', 'E', 'A'], ['D', 'B', 'A', 'C', 'A']]\n",
    "print(corretor(testes_com_ex))"
   ]
  },
  {
   "cell_type": "code",
   "execution_count": 8,
   "id": "0e1acf0c",
   "metadata": {},
   "outputs": [
    {
     "name": "stdout",
     "output_type": "stream",
     "text": [
      "Texto já tratado!\n",
      "O texto apresenta pontuações na palavra \"poderosa,\".\n"
     ]
    }
   ],
   "source": [
    "\"\"\"Você foi contratado(a) como uma pessoa cientista de dados para auxiliar um laboratório que faz experimentos sobre o comportamento de uma cultura de fungos. O laboratório precisa avaliar constantemente a razão (divisão) entre os dados de pressão e temperatura do ambiente controlado recolhidos durante a experimentação para definir a melhor condição para os testes.\n",
    "\n",
    "Para cumprir com a demanda, você precisa criar uma função divide_colunas que recebe os dados das colunas de pressão e temperatura (que vem no formato de listas) e gerar uma nova coluna com o resultado da divisão. Os parâmetros da função são as duas listas e você deve tratar dentro dela ao menos 2 tipos de exceções:\n",
    "\n",
    "Verificar se as listas têm o mesmo tamanho (ValueError)\n",
    "Verificar se existe alguma divisão por zero (ZeroDivisionError)\n",
    "Para testar a função, vamos realizar a divisão entre duas listas de dados coletados no experimento, com os valores de pressão e temperatura do ambiente controlado.\"\"\"\n",
    "\n",
    "# criando a função que recebe a lista de palavras\n",
    "def avalia_texto(texto: list):\n",
    "    for palavra in texto:\n",
    "        if ',' in palavra or '.' in palavra or '!' in palavra or '?' in palavra:\n",
    "            raise ValueError(f'O texto apresenta pontuações na palavra \"{palavra}\".')\n",
    "    return \"Texto já tratado!\" # retornando a verificação se não lançada a exceção\n",
    "\n",
    "# Testando no exemplo que não lança exceção\n",
    "lista_tratada = ['Python', 'é', 'uma', 'linguagem', 'de', 'programação', 'poderosa', 'versátil',\n",
    "                  'e', 'fácil', 'de', 'aprender', 'utilizada', 'em', 'diversos', 'campos', 'desde',\n",
    "                  'análise', 'de', 'dados', 'até', 'inteligência', 'artificial']\n",
    "\n",
    "try:\n",
    "  avaliacao = avalia_texto(lista_tratada)\n",
    "except Exception as e:\n",
    "  print(e)\n",
    "else:\n",
    "  print(avaliacao) \n",
    "\n",
    "\n",
    "# Testando no exemplo que lança exceção\n",
    "lista_nao_tratada = ['Python', 'é', 'uma', 'linguagem', 'de', 'programação', 'poderosa,', 'versátil',\n",
    "                  'e', 'fácil,', 'de', 'aprender', 'utilizada', 'em', 'diversos', 'campos,', 'desde',\n",
    "                  'análise', 'de', 'dados', 'até', 'inteligência', 'artificial!']\n",
    "\n",
    "try:\n",
    "  avaliacao = avalia_texto(lista_nao_tratada)\n",
    "except Exception as e:\n",
    "  print(e)\n",
    "else:\n",
    "  print(avaliacao)  "
   ]
  },
  {
   "cell_type": "code",
   "execution_count": null,
   "id": "7173a243",
   "metadata": {},
   "outputs": [],
   "source": [
    "\"\"\"7. Você foi contratado(a) como uma pessoa cientista de dados para auxiliar um laboratório que faz experimentos sobre o comportamento de uma cultura de fungos. O laboratório precisa avaliar constantemente a razão (divisão) entre os dados de pressão e temperatura do ambiente controlado recolhidos durante a experimentação para definir a melhor condição para os testes.\n",
    "\n",
    "Para cumprir com a demanda, você precisa criar uma função divide_colunas que recebe os dados das colunas de pressão e temperatura (que vem no formato de listas) e gerar uma nova coluna com o resultado da divisão. Os parâmetros da função são as duas listas e você deve tratar dentro dela ao menos 2 tipos de exceções:\n",
    "\n",
    "Verificar se as listas têm o mesmo tamanho (ValueError)\n",
    "Verificar se existe alguma divisão por zero (ZeroDivisionError)\n",
    "Para testar a função, vamos realizar a divisão entre duas listas de dados coletados no experimento, com os valores de pressão e temperatura do ambiente controlado.\"\"\"\n",
    "\n",
    "# criando a função que recebe as duas listas e a operação a ser realizada\n",
    "def divide_colunas(lista_1: list, lista_2: list) -> list:\n",
    "  # try-except que verifica se é possível calcular a divisão e lança exceção se as listas tem tamanhos diferentes\n",
    "  # ou se temos alguma divisão por zero em um dos cálculos entre os números das listas\n",
    "  try:\n",
    "    if len(lista_1) != len(lista_2): # Verificando se as listas tem o mesmo tamanho, se não lança uma exceção\n",
    "      raise ValueError(\"As listas precisam ter o mesmo tamanho\")\n",
    "\n",
    "    # A função zip pareia os elementos das listas e uma lista é gerada por meio da razão entre os pares\n",
    "    resultado = [round(a / b, 2) for a, b in zip(lista_1, lista_2)] \n",
    "  except ValueError as e:\n",
    "    print(e)\n",
    "  except ZeroDivisionError as e:\n",
    "    print(f\"{e}: A 2ª lista não pode possuir um valor igual a 0\")\n",
    "  else:\n",
    "    return resultado\n",
    "  \n",
    "# Testando no exemplo que não lança exceção\n",
    "pressoes = [100, 120, 140, 160, 180]\n",
    "temperaturas = [20, 25, 30, 35, 40]\n",
    "\n",
    "divide_colunas(pressoes, temperaturas)\n",
    "\n",
    "# Testando no exemplo que lança exceção (ZeroDivisionError)\n",
    "pressoes = [60, 120, 140, 160, 180]\n",
    "temperaturas = [0, 25, 30, 35, 40]\n",
    "\n",
    "divide_colunas(pressoes, temperaturas)\n",
    "\n",
    "# Testando no exemplo que lança exceção (ValueError)\n",
    "pressoes = [100, 120, 140, 160]\n",
    "temperaturas = [20, 25, 30, 35, 40]\n",
    "\n",
    "divide_colunas(pressoes, temperaturas)"
   ]
  }
 ],
 "metadata": {
  "kernelspec": {
   "display_name": "Python 3",
   "language": "python",
   "name": "python3"
  },
  "language_info": {
   "codemirror_mode": {
    "name": "ipython",
    "version": 3
   },
   "file_extension": ".py",
   "mimetype": "text/x-python",
   "name": "python",
   "nbconvert_exporter": "python",
   "pygments_lexer": "ipython3",
   "version": "3.13.2"
  }
 },
 "nbformat": 4,
 "nbformat_minor": 5
}
