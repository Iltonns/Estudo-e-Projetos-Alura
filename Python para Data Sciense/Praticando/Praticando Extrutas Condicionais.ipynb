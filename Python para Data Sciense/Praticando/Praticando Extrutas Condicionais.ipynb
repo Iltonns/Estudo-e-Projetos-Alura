{
 "cells": [
  {
   "cell_type": "code",
   "execution_count": null,
   "metadata": {},
   "outputs": [],
   "source": [
    "n1 = int(input('Digite o primeiro numero: '))\n",
    "n2 = int(input('Digite o segundo numero: '))\n",
    "\n",
    "if n1 > n2:\n",
    "    print(f'O numero {n1} é maior que numero {n2}!')\n",
    "else:\n",
    "    print(f'O numero {n2} é maior que numero {n1}!')"
   ]
  },
  {
   "cell_type": "code",
   "execution_count": null,
   "metadata": {},
   "outputs": [],
   "source": [
    "percentual = int(input('Digite o percentual da produção desse mês: '))\n",
    "\n",
    "\n",
    "if percentual > 0:\n",
    "    print('Houve um crescimento na produção.') \n",
    "elif percentual < 0:\n",
    "    print('Houve um decrescimento na produção.')      \n",
    "else:\n",
    "    print('Houve uma queda na produção.')"
   ]
  },
  {
   "cell_type": "code",
   "execution_count": null,
   "metadata": {},
   "outputs": [],
   "source": [
    "letra = str(input('Digite uma letra:')).lower()\n",
    "\n",
    "if letra in {'a', 'e', 'i', 'o', 'u'}:\n",
    "    print(f\"'{letra}' é uma vogal!\")\n",
    "else:\n",
    "    print(f\"'{letra}' é uma consoante!\")"
   ]
  },
  {
   "cell_type": "code",
   "execution_count": 1,
   "metadata": {},
   "outputs": [
    {
     "name": "stdout",
     "output_type": "stream",
     "text": [
      "O maior valor é: 26000.0\n",
      "O menor valor é: 21000.0\n"
     ]
    }
   ],
   "source": [
    "#Escreva um programa que leia valores médios de preços de um modelo de carro por 3 anos consecutivos e exiba o valor mais alto e mais baixo entre esses três anos.\n",
    "# Solicita os valores do Onix para os anos de 2023, 2024 e 2025\n",
    "valor_ônix_23 = float(input('Digite o valor do Onix no ano de 2023: '))\n",
    "valor_ônix_24 = float(input('Digite o valor do Onix no ano de 2024: '))\n",
    "valor_ônix_25 = float(input('Digite o valor do Onix no ano de 2025: '))\n",
    "\n",
    "# Cria uma lista com os valores e identifica o maior e o menor valor\n",
    "valores = [valor_ônix_23, valor_ônix_24, valor_ônix_25]\n",
    "maior_valor = max(valores)\n",
    "menor_valor = min(valores)\n",
    "\n",
    "# Exibe o maior e o menor valor\n",
    "print(f\"O maior valor é: {maior_valor}\")\n",
    "print(f\"O menor valor é: {menor_valor}\") "
   ]
  },
  {
   "cell_type": "code",
   "execution_count": null,
   "metadata": {},
   "outputs": [],
   "source": [
    "# Escreva um programa que pergunte sobre o preço de três produtos e indique qual é o produto mais barato para comprar.\n",
    "preço_1 = float(input('Digite o primeiro preço: '))\n",
    "preço_2 = float(input('Digite o segundo preço: '))\n",
    "preo_3 = float(input('Digite o terceiro preço: '))\n",
    "\n",
    "menor_preço = [preço_1, preço_2, preo_3]\n",
    "menor_valor = min(menor_preço)\n",
    "\n",
    "print(f'O menor preço para se comprar é {menor_valor}')"
   ]
  },
  {
   "cell_type": "code",
   "execution_count": null,
   "metadata": {},
   "outputs": [],
   "source": [
    "#Escreva um programa que leia três números e os exiba em ordem decrescente.\n",
    "n1 = int(input('Digite o primeiro numero: '))\n",
    "n2 = int(input('Digite o segundo  numero: '))\n",
    "n3 = int(input('Digite o terceiro numero: '))\n",
    "\n",
    "lista = [n1, n2, n3]\n",
    "lista.sort(reverse=True)\n",
    "print(lista)"
   ]
  },
  {
   "cell_type": "code",
   "execution_count": 2,
   "metadata": {},
   "outputs": [
    {
     "name": "stdout",
     "output_type": "stream",
     "text": [
      "Bom dia!\n"
     ]
    }
   ],
   "source": [
    "#Escreva um programa que pergunte em qual turno a pessoa usuária estuda (\"manhã\", \"tarde\" ou \"noite\") e exiba a mensagem \"Bom Dia!\", \"Boa Tarde!\", \"Boa \n",
    "while True:\n",
    "    turno = input('Em qual turno você trabalha (Manhã, Tarde, Noite): ').strip().lower()\n",
    "    \n",
    "    # Verifica se o turno foi digitado corretamente (comparando com versões em minúsculo)\n",
    "    if turno not in ['manhã', 'manha', 'tarde', 'noite']:\n",
    "        print(\"Erro: Você digitou o turno de forma incorreta. Certifique-se de usar 'Manhã', 'Tarde' ou 'Noite'.\")\n",
    "    else:\n",
    "        # Sai do loop se o valor for válido\n",
    "        break\n",
    "\n",
    "# Exibe a mensagem correspondente ao turno\n",
    "if turno in ['manhã', 'manha']:\n",
    "    print('Bom dia!')\n",
    "elif turno == 'tarde':\n",
    "    print('Boa tarde!')\n",
    "else:  # noite\n",
    "    print('Boa noite!')"
   ]
  },
  {
   "cell_type": "code",
   "execution_count": null,
   "metadata": {},
   "outputs": [],
   "source": [
    "# Solicita os números e a operação desejada\n",
    "n1 = float(input('Digite o primeiro número: '))\n",
    "n2 = float(input('Digite o segundo número: '))\n",
    "\n",
    "operação = str(input('Qual operação matemática você quer realizar (adição, subtração, divisão ou multiplicação): ')).lower().strip()\n",
    "\n",
    "# Realiza a operação matemática\n",
    "if operação == 'adição':\n",
    "    resultado = n1 + n2\n",
    "    print(f'O resultado da adição é {resultado}')\n",
    "elif operação == 'subtração':\n",
    "    resultado = n1 - n2\n",
    "    print(f'O resultado da subtração é {resultado}')\n",
    "elif operação == 'divisão':\n",
    "    resultado = n1 / n2\n",
    "    print(f'O resultado da divisão é {resultado}')\n",
    "elif operação == 'multiplicação':\n",
    "    resultado = n1 * n2\n",
    "    print(f'O resultado da multiplicação é {resultado}')\n",
    "else:\n",
    "    print('Operação inválida!')\n",
    "    exit()\n",
    "\n",
    "# Verifica se o resultado é inteiro ou decimal\n",
    "if resultado.is_integer():\n",
    "    print('O resultado é um número inteiro.')\n",
    "    resultado = int(resultado)  # Converte para inteiro para verificar paridade\n",
    "else:\n",
    "    print('O resultado é um número decimal.')\n",
    "\n",
    "# Verifica se o resultado é positivo ou negativo\n",
    "if resultado > 0:\n",
    "    print('O resultado é positivo.')\n",
    "elif resultado < 0:\n",
    "    print('O resultado é negativo.')\n",
    "else:\n",
    "    print('O resultado é zero.')\n",
    "\n",
    "# Verifica se o resultado é par ou ímpar (apenas para números inteiros)\n",
    "if isinstance(resultado, int):\n",
    "    if resultado % 2 == 0:\n",
    "        print('O resultado é um número par.')\n",
    "    else:\n",
    "        print('O resultado é um número ímpar.')\n"
   ]
  }
 ],
 "metadata": {
  "kernelspec": {
   "display_name": ".venv",
   "language": "python",
   "name": "python3"
  },
  "language_info": {
   "codemirror_mode": {
    "name": "ipython",
    "version": 3
   },
   "file_extension": ".py",
   "mimetype": "text/x-python",
   "name": "python",
   "nbconvert_exporter": "python",
   "pygments_lexer": "ipython3",
   "version": "3.13.2"
  }
 },
 "nbformat": 4,
 "nbformat_minor": 2
}
