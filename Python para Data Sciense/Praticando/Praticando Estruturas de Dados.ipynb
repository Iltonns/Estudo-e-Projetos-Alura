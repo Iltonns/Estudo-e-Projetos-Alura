{
 "cells": [
  {
   "cell_type": "code",
   "execution_count": null,
   "metadata": {},
   "outputs": [],
   "source": [
    "#  Faça um programa que tenha a seguinte lista contendo os valores de gastos de uma empresa de papel [2172.54, 3701.35, 3518.09, 3456.61, 3249.38, 2840.82, 3891.45, 3075.26, 2317.64, 3219.08]. Com esses valores, faça um programa que calcule a média de gastos. Dica: use as funções built-in sum() e len().\n",
    "lista_valores = [2172.54, 3701.35, 3518.09, 3456.61, 3249.38, 2840.82, 3891.45, 3075.26, 2317.64, 3219.08]\n",
    "\n",
    "# Calcula a média de gastos\n",
    "media_gastos = sum(lista_valores) / len(lista_valores)\n",
    "print(f\"A média de gastos é: {media_gastos:.2f}\")\n",
    "\n",
    "# Conta as compras acima de 3000 reais\n",
    "compras_acima_3000 = [valor for valor in lista_valores if valor > 3000]\n",
    "quantidade_acima_3000 = len(compras_acima_3000)\n",
    "\n",
    "# Calcula a porcentagem de compras acima de 3000 reais\n",
    "porcentagem_acima_3000 = (quantidade_acima_3000 / len(lista_valores)) * 100\n",
    "\n",
    "# Exibe os resultados\n",
    "print(f\"Quantidade de compras acima de 3000 reais: {quantidade_acima_3000}\")\n",
    "print(f\"Porcentagem de compras acima de 3000 reais: {porcentagem_acima_3000:.2f}%\")"
   ]
  },
  {
   "cell_type": "code",
   "execution_count": null,
   "metadata": {},
   "outputs": [],
   "source": [
    "# Faça um código que colete em uma lista 5 números inteiros quaisquer e imprima a lista. Exemplo: [1,4,7,2,4].\n",
    "# Coleta 5 números inteiros do usuário e armazena em uma lista\n",
    "# Lista que irá armazenar os 5 números inteiros\n",
    "lista_numeros = []\n",
    "\n",
    "# Criamos um laço que vai iterar 5 vezes para receber os 5 números\n",
    "for i in range(0, 5):\n",
    "  # Coletamos o valor e inserimos na lista por 5 vezes\n",
    "  numero = int(input('Digite um número inteiro: '))\n",
    "  lista_numeros.append(numero)\n",
    "#Resultado\n",
    "print(f'Lista de números inseridos: {lista_numeros}')"
   ]
  },
  {
   "cell_type": "code",
   "execution_count": null,
   "metadata": {},
   "outputs": [],
   "source": [
    "#Colete novamente 5 inteiros e imprima a lista em ordem inversa à enviada.  \n",
    "# Lista que irá armazenar os 5 números inteiros\n",
    "lista_numeros = []\n",
    "\n",
    "# Criamos um laço que vai iterar 5 vezes para receber os 5 números\n",
    "for i in range(0, 5):\n",
    "  # Coletamos o valor e inserimos na lista por 5 vezes\n",
    "  numero = int(input('Digite um número inteiro: '))\n",
    "  lista_numeros.append(numero)\n",
    "# Usamos da lógica de partição para imprimir o resultado\n",
    "print(f'Lista de números invertida: {lista_numeros[::-1]}')"
   ]
  },
  {
   "cell_type": "code",
   "execution_count": null,
   "metadata": {},
   "outputs": [],
   "source": [
    "# Desenvolva um programa que informa a nota de um(a) aluno(a) de acordo com suas respostas. Ele deve pedir a resposta desse(a) aluno(a) para cada questão e é preciso verificar se a resposta foi igual ao gabarito. Cada questão vale um ponto e existem as alternativas A, B, C ou D.\n",
    "# Inicializamos os dados\n",
    "respostas = [] # Lista para receber as respostas\n",
    "# Lista de gabaritos\n",
    "gabarito = ['D', 'A', 'C', 'B', 'A', 'D', 'C', 'C', 'A', 'B']\n",
    "nota = 0 # Irá acumular a nota total\n",
    "\n",
    "# Recebemos as respostas do aluno\n",
    "for i in range(0, 10):\n",
    "  respostas.append(input(f'Insira a resposta da questão {i + 1}: ').upper())\n",
    "\n",
    "# Verificamos se as respostas são iguais e adicionamos à nota\n",
    "for i in range(0,10):\n",
    "  if respostas[i] == gabarito[i]:\n",
    "    nota += 1\n",
    "\n",
    "# Exibindo nota final\n",
    "print(f'Nota final: {nota}')"
   ]
  },
  {
   "cell_type": "code",
   "execution_count": null,
   "metadata": {},
   "outputs": [],
   "source": [
    "#Para esse problema precisamos verificar se todos os números, abaixo do especificado pela pessoa usuária, são ou não divisíveis por outros valores além deles mesmos. Para fazer isso, podemos agrupar um laço dentro de outro. Usamos um laço para percorrer os números inteiros de 2 ao número inserido. Para cada número, outro laço é usado para testar se ele é divisível por números menores do que ele mesmo. Se o número não for divisível por nenhum desses números, ele é considerado um número primo. Essa estrutura pode ser observada abaixo:\n",
    "# Coletamos o números\n",
    "numero = int(input('Digite um número inteiro: '))\n",
    "# Lista para receber os números primos\n",
    "lista_primos = []\n",
    "# Laço que vai rodar por todos os números abaixo do número digitado\n",
    "for num in range(2, numero):\n",
    "  # Primo é uma bandeira, ela permite sabermos se o valor analisado é ou não primo\n",
    "  primo = True \n",
    "  # Testamos se todos os números abaixo do especificado no primeiro laço podem\n",
    "  # gerar uma divisão exata\n",
    "  for teste_divisíveis in range(2, num):\n",
    "    if num % teste_divisíveis == 0:\n",
    "      # Caso seja divisível por algum número entendemos que \n",
    "      # o num não é primo e finalizamos o laço interno com break\n",
    "      primo = False\n",
    "      break\n",
    "  # A condição se torna o resultado booleno de primo: False, ignoramos o condicional\n",
    "  # True, executamos o bloco do if\n",
    "  if primo:\n",
    "    lista_primos.append(num)\n",
    "# Resultado\n",
    "print(f'Lista de números primos: {lista_primos}')"
   ]
  },
  {
   "cell_type": "code",
   "execution_count": null,
   "metadata": {},
   "outputs": [],
   "source": [
    "# Uma empresa de e-commerce está interessada em analisar as vendas dos seus produtos. Os dados das vendas foram armazenados em um dicionário\n",
    "\n",
    "# Dicionário de vendas\n",
    "dados_vendas = {'Produto A': 300, 'Produto B': 80, 'Produto C': 60, 'Produto D': 200, 'Produto E': 250, 'Produto F': 30}\n",
    "\n",
    "# Inicializamos as variáveis\n",
    "total_vendas = 0 # Irá somar todos as vendas\n",
    "produto_mais_vendido = '' # Irá armazenar o nome do produto mais vendido\n",
    "unidades_produto_mais_vendido = 0 # Irá armazenar a maior quantidade vendas\n",
    "\n",
    "# Percorremos os valores de chaves e elementos do dicionário\n",
    "for produto in dados_vendas.keys():\n",
    "  # Somamos o total de vendas \n",
    "  total_vendas += dados_vendas[produto]\n",
    "  # Verificamos se valor de venda atual desing (dados_vendas[produto]) é maior que o valor armazenado em unidades_produto_mais_vendido\n",
    "  # Cada vez que dados_vendas[produto] superar o valor em unidades_produto_mais_vendido, \n",
    "  # a variável unidades_produto_mais_vendido vai ser igual à dados_vendas[produto], atribuindo um novo valor\n",
    "  # De forma similar, produto_mais_vendido também é substituído pelo produto atual\n",
    "  if dados_vendas[produto] > unidades_produto_mais_vendido:\n",
    "    unidades_produto_mais_vendido = dados_vendas[produto]\n",
    "    produto_mais_vendido = produto\n",
    "# Resultados\n",
    "print(f'Total de vendas é {total_vendas}')\n",
    "print(f'{produto_mais_vendido} é o mais vendido')"
   ]
  }
 ],
 "metadata": {
  "kernelspec": {
   "display_name": ".venv",
   "language": "python",
   "name": "python3"
  },
  "language_info": {
   "name": "python",
   "version": "3.13.2"
  }
 },
 "nbformat": 4,
 "nbformat_minor": 2
}
