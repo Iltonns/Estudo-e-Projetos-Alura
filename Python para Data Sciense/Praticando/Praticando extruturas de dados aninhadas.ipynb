{
 "cells": [
  {
   "cell_type": "code",
   "execution_count": null,
   "id": "c0311d2a",
   "metadata": {},
   "outputs": [
    {
     "name": "stdout",
     "output_type": "stream",
     "text": [
      "[24, 10, 16]\n"
     ]
    }
   ],
   "source": [
    "# Crie um código para imprimir a soma dos elementos de cada uma das listas contidas na seguinte lista:\n",
    "lista_de_listas = [[4,6,5,9], [1,0,7,2], [3,4,1,8]]\n",
    "\n",
    "def calculo_elementos(lista: list[0]) -> float:\n",
    "\n",
    "    calculo = sum(lista)\n",
    "    return calculo\n",
    "\n",
    "soma_dos_elementos = [calculo_elementos(lista) for lista in lista_de_listas]\n",
    "print(soma_dos_elementos)\n",
    "\n",
    "# Este código calcula a soma dos elementos em cada sublista dentro de lista_de_listas\n",
    "# O código consiste em duas partes:\n",
    "\n",
    "# 1. Uma função calculo_elementos que recebe uma lista como entrada e retorna a soma\n",
    "#    - Usa a função sum() do Python para somar todos os números na lista de entrada\n",
    "\n",
    "# 2. Uma list comprehension que aplica a função para cada sublista\n",
    "#    - Itera sobre lista_de_listas\n",
    "#    - Chama calculo_elementos para cada lista interna\n",
    "#    - Cria uma nova lista com as somas\n",
    "\n",
    "# Exemplo de saída: [24, 10, 16]\n",
    "# Porque: [4+6+5+9=24, 1+0+7+2=10, 3+4+1+8=16]"
   ]
  },
  {
   "cell_type": "code",
   "execution_count": null,
   "id": "1d36aec0",
   "metadata": {},
   "outputs": [
    {
     "name": "stdout",
     "output_type": "stream",
     "text": [
      "[81, 67, 83]\n"
     ]
    }
   ],
   "source": [
    "# Crie um código para gerar uma lista que armazena o terceiro elemento de cada tupla contida na seguinte lista de tuplas:\n",
    "lista_de_tuplas = [('Pedro', 1.74, 81), ('Júlia', 1.65, 67), ('Otávio', 1.81, 83)]\n",
    "\n",
    "lista = [elemento[2] for elemento in lista_de_tuplas]\n",
    "print(lista)\n",
    "\n",
    "# Este código extrai os pesos (terceiro elemento) de uma lista de tuplas\n",
    "# que contém informações sobre pessoas (nome, altura, peso)\n",
    "\n",
    "# A lista original lista_de_tuplas contém tuplas com 3 elementos:\n",
    "# - Primeiro elemento: nome da pessoa\n",
    "# - Segundo elemento: altura em metros\n",
    "# - Terceiro elemento: peso em kg\n",
    "\n",
    "# Usando list comprehension, o código:\n",
    "# 1. Itera sobre cada tupla em lista_de_tuplas\n",
    "# 2. Acessa o terceiro elemento (índice 2) de cada tupla\n",
    "# 3. Cria uma nova lista apenas com os pesos\n",
    "\n",
    "# O resultado será [81, 67, 83]\n",
    "# Representando os pesos de Pedro, Júlia e Otávio respectivamente"
   ]
  },
  {
   "cell_type": "code",
   "execution_count": null,
   "id": "0099dd40",
   "metadata": {},
   "outputs": [
    {
     "name": "stdout",
     "output_type": "stream",
     "text": [
      "[(0, 'Pedro'), (1, 'Júlia'), (2, 'Otávio'), (3, 'Eduardo')]\n"
     ]
    }
   ],
   "source": [
    "# A partir da lista: lista = ['Pedro', 'Júlia', 'Otávio', 'Eduardo'], crie um código para gerar uma lista de tuplas em que cada tupla tenha o primeiro elemento como a posição do nome na lista original e o segundo elemento sendo o próprio nome.\n",
    "\n",
    "lista = ['Pedro', 'Júlia', 'Otávio', 'Eduardo']\n",
    "\n",
    "lista_de_tupla = [(i, lista[i]) for i in range(len(lista))]\n",
    "print(lista_de_tupla)\n",
    "\n",
    "# Este código cria uma lista de tuplas onde cada tupla contém dois elementos:\n",
    "# 1. A posição (índice) do nome na lista original\n",
    "# 2. O nome correspondente àquela posição\n",
    "\n",
    "# Usando list comprehension, o código:\n",
    "# 1. Itera sobre os índices da lista usando range(len(lista))\n",
    "# 2. Para cada índice i, cria uma tupla (i, lista[i])\n",
    "# 3. Armazena todas as tuplas em lista_de_tupla\n",
    "\n",
    "# O resultado será [(0,'Pedro'), (1,'Júlia'), (2,'Otávio'), (3,'Eduardo')]\n",
    "# Onde o primeiro elemento de cada tupla é o índice (0 a 3)\n",
    "# E o segundo elemento é o nome correspondente da lista original"
   ]
  },
  {
   "cell_type": "code",
   "execution_count": null,
   "id": "bdd64a3c",
   "metadata": {},
   "outputs": [
    {
     "name": "stdout",
     "output_type": "stream",
     "text": [
      "[1760, 1400, 1908]\n"
     ]
    }
   ],
   "source": [
    "# Crie uma lista usando o list comprehension que armazena somente o valor numérico de cada tupla caso o primeiro elemento seja 'Apartamento', a partir da seguinte lista de tuplas:\n",
    "aluguel = [('Apartamento', 1760), ('Apartamento', 1400), ('Casa', 2158), ('Apartamento', 1908), ('Casa', 1100)]\n",
    "valor_numerico = [elemento[1] for elemento in aluguel if elemento[0] == 'Apartamento']\n",
    "print(valor_numerico) \n",
    "\n",
    "# Este código filtra uma lista de tuplas de aluguéis e extrai apenas os valores\n",
    "# dos aluguéis de apartamentos\n",
    "\n",
    "# A lista original 'aluguel' contém tuplas com 2 elementos:\n",
    "# - Primeiro elemento: tipo do imóvel ('Apartamento' ou 'Casa')\n",
    "# - Segundo elemento: valor do aluguel\n",
    "\n",
    "# Usando list comprehension, o código:\n",
    "# 1. Itera sobre cada tupla em 'aluguel'\n",
    "# 2. Verifica se o primeiro elemento (elemento[0]) é 'Apartamento'\n",
    "# 3. Se for apartamento, inclui o valor (elemento[1]) na nova lista\n",
    "\n",
    "# O resultado será [1760, 1400, 1908]\n",
    "# Representando apenas os valores dos aluguéis de apartamentos"
   ]
  },
  {
   "cell_type": "code",
   "execution_count": 1,
   "id": "900c9650",
   "metadata": {},
   "outputs": [
    {
     "name": "stdout",
     "output_type": "stream",
     "text": [
      "{'Jan': 860, 'Fev': 490, 'Mar': 1010, 'Abr': 780, 'Mai': 900, 'Jun': 630, 'Jul': 590, 'Ago': 770, 'Set': 620, 'Out': 560, 'Nov': 840, 'Dez': 360}\n"
     ]
    }
   ],
   "source": [
    "# Crie um dicionário usando o dict comprehension em que as chaves estão na lista meses = ['Jan', 'Fev', 'Mar', 'Abr', 'Mai', 'Jun', 'Jul', 'Ago', 'Set', 'Out', 'Nov', 'Dez'] e os valores estão em despesa = [860, 490, 1010, 780, 900, 630, 590, 770, 620, 560, 840, 360].\n",
    "\n",
    "meses = ['Jan', 'Fev', 'Mar', 'Abr', 'Mai', 'Jun', 'Jul', 'Ago', 'Set', 'Out', 'Nov', 'Dez']\n",
    "despesa = [860, 490, 1010, 780, 900, 630, 590, 770, 620, 560, 840, 360]\n",
    "\n",
    "dicionario = {mes: valor for mes, valor in zip(meses, despesa)}\n",
    "print(dicionario)\n",
    "\n",
    "# Este código cria um dicionário que mapeia meses às suas respectivas despesas\n",
    "\n",
    "# São utilizadas duas listas:\n",
    "# - meses: contém as abreviações dos meses ('Jan' a 'Dez')\n",
    "# - despesa: contém os valores das despesas para cada mês\n",
    "\n",
    "# Usando dict comprehension com zip(), o código:\n",
    "# 1. zip(meses, despesa) combina as duas listas, pareando cada mês com sua despesa\n",
    "# 2. Para cada par (mes, valor), cria uma entrada no dicionário onde:\n",
    "#    - A chave é o mês (mes)\n",
    "#    - O valor é a despesa correspondente (valor)\n",
    "\n",
    "# O resultado será um dicionário como:\n",
    "# {'Jan': 860, 'Fev': 490, 'Mar': 1010, ...}\n",
    "# Onde cada mês está associado ao seu valor de despesa\n"
   ]
  },
  {
   "cell_type": "code",
   "execution_count": 18,
   "id": "da0cf8b0",
   "metadata": {},
   "outputs": [
    {
     "name": "stdout",
     "output_type": "stream",
     "text": [
      "[('2022', 8883), ('2022', 7688), ('2022', 9544), ('2022', 8190)]\n"
     ]
    }
   ],
   "source": [
    "\"\"\"Uma loja possui um banco de dados com a informação de venda de cada representante e de cada ano e precisa filtrar somente os dados do ano 2022 com venda maior do que 6000. A loja forneceu uma amostra contendo apenas as colunas com os anos e os valores de venda para que você ajude a realizar a filtragem dos dados a partir de um código: Crie uma lista usando list comprehension para filtrar os valores de 2022 e que sejam maiores que 6000.\"\"\"\n",
    "\n",
    "vendas = [('2023', 4093), ('2021', 4320), ('2021', 5959), ('2022', 8883), ('2023', 9859), ('2022', 5141), ('2022', 7688), ('2022', 9544), ('2023', 4794), ('2021', 7178), ('2022', 3030), ('2021', 7471), ('2022', 4226), ('2022', 8190), ('2021', 9680), ('2022', 5616)]\n",
    "\n",
    "lista = [elemento for elemento in vendas if elemento[0] == '2022' and elemento[1] > 6000]\n",
    "print(lista)\n",
    "\n",
    "# O código atual está incorreto, pois:\n",
    "# 1. Está retornando apenas o ano ('2022') ao invés dos valores de venda\n",
    "# 2. Não está mostrando todas as informações relevantes (ano e valor)\n",
    "\n",
    "# Código corrigido:\n",
    "#lista_corrigida = [elemento for elemento in vendas if elemento[0] == '2022' and elemento[1] > 6000]\n",
    "#print(\"\\nCódigo corrigido mostrando tuplas completas:\")\n",
    "#print(lista_corrigida)\n",
    "\n",
    "# Se quiser apenas os valores de venda:\n",
    "#valores_2022 = [elemento[1] for elemento in vendas if elemento[0] == '2022' and elemento[1] > 6000]\n",
    "#print(\"\\nApenas valores de venda maiores que 6000 em 2022:\")\n",
    "#print(valores_2022)\n",
    "\n",
    "# O resultado mostrará:\n",
    "# [(2022, 8883), (2022, 7688), (2022, 9544), (2022, 8190)]\n",
    "# Ou apenas os valores: [8883, 7688, 9544, 8190]\"\"\"\n"
   ]
  },
  {
   "cell_type": "code",
   "execution_count": 31,
   "id": "de0b880a",
   "metadata": {},
   "outputs": [
    {
     "name": "stdout",
     "output_type": "stream",
     "text": [
      "[(129, 'Diabetes'), (82, 'Normal'), (60, 'Hipoglicemia'), (97, 'Normal'), (101, 'Alterada'), (65, 'Hipoglicemia'), (62, 'Hipoglicemia'), (167, 'Diabetes'), (87, 'Normal'), (53, 'Hipoglicemia'), (58, 'Hipoglicemia'), (92, 'Normal'), (66, 'Hipoglicemia'), (120, 'Alterada'), (109, 'Alterada'), (62, 'Hipoglicemia'), (86, 'Normal'), (96, 'Normal'), (103, 'Alterada'), (88, 'Normal'), (155, 'Diabetes'), (52, 'Hipoglicemia'), (89, 'Normal'), (73, 'Normal')]\n"
     ]
    }
   ],
   "source": [
    "\"\"\"Uma clínica analisa dados de pacientes e armazena o valor numérico da glicose em um banco de dados e gostaria de rotular os dados da seguinte maneira:\n",
    "\n",
    "Glicose igual ou inferior a 70: 'Hipoglicemia'\n",
    "Glicose entre 70 a 99: 'Normal'\n",
    "Glicose entre 100 e 125: 'Alterada'\n",
    "Glicose superior a 125: 'Diabetes'\n",
    "\n",
    "A clínica disponibilizou parte dos valores e sua tarefa é criar uma lista de tuplas usando list comprehension contendo o rótulo e o valor da glicemia em cada tupla.\"\"\"\n",
    "\n",
    "glicemia = [129, 82, 60, 97, 101, 65, 62, 167, 87, 53, 58, 92, 66, 120, 109, 62, 86, 96, 103, 88, 155, 52, 89, 73]\n",
    "\n",
    "\n",
    "situação = ['Hipoglicemia' if glicose <= 70 \n",
    "            else 'Normal' if glicose <= 99\n",
    "            else 'Alterada' if glicose <= 125 \n",
    "            else 'Diabetes' \n",
    "            for glicose in glicemia]\n",
    "\n",
    "valor_glicose = [i for i in zip(glicemia, situação)]\n",
    "print(valor_glicose)\n",
    "\n",
    "\n",
    "# Explicação do código:\n",
    "\n",
    "# 1. Lista glicemia: contém os valores numéricos de glicose dos pacientes\n",
    "# glicemia = [129, 82, 60, ...]\n",
    "\n",
    "# 2. List comprehension com condicionais aninhados para classificar cada valor:\n",
    "# situação = ['Hipoglicemia' if glicose <= 70 \n",
    "#            else 'Normal' if glicose <= 99\n",
    "#            else 'Alterada' if glicose <= 125 \n",
    "#            else 'Diabetes' \n",
    "#            for glicose in glicemia]\n",
    "# - Verifica cada valor de glicose e atribui uma classificação baseada nos intervalos\n",
    "# - Usa múltiplos if/else em linha para criar as condições\n",
    "# - Percorre a lista glicemia com for glicose in glicemia\n",
    "\n",
    "# 3. Criação das tuplas usando zip():\n",
    "# glicose = [i for i in zip(glicemia, situação)]\n",
    "# - zip() combina as duas listas elemento a elemento\n",
    "# - Cria tuplas com (valor_glicose, classificação)\n",
    "# - List comprehension converte o objeto zip em lista de tuplas\n",
    "\n",
    "# 4. O resultado final é uma lista de tuplas onde:\n",
    "# - Primeiro elemento: valor numérico da glicose\n",
    "# - Segundo elemento: classificação correspondente\n",
    "# Exemplo: [(129, 'Diabetes'), (82, 'Normal'), (60, 'Hipoglicemia'),...]\n"
   ]
  },
  {
   "cell_type": "code",
   "execution_count": null,
   "id": "779d83db",
   "metadata": {},
   "outputs": [
    {
     "name": "stdout",
     "output_type": "stream",
     "text": [
      "[('id', 'quantidade', 'preco', 'total'), (0, 15, 93.0, 1395.0), (1, 12, 102.0, 1224.0), (2, 1, 18.0, 18.0), (3, 15, 41.0, 615.0), (4, 2, 122.0, 244.0), (5, 11, 14.0, 154.0), (6, 2, 71.0, 142.0), (7, 12, 48.0, 576.0), (8, 2, 14.0, 28.0), (9, 4, 144.0, 576.0)]\n"
     ]
    }
   ],
   "source": [
    "# O e-commerce precisa estruturar esses dados em uma tabela contendo o valor total da venda, que é obtida multiplicando a quantidade pelo preço unitário. Além disso, a tabela precisa conter um cabeçalho indicando as colunas: 'id', 'quantidade', 'preco' e 'total'.\n",
    "\n",
    "# Crie uma lista de tuplas em que cada tupla tenha id, quantidade, preço e valor total, na qual a primeira tupla é o cabeçalho da tabela.\n",
    "\n",
    "id = [0, 1, 2, 3, 4, 5, 6, 7, 8, 9]\n",
    "quantidade = [15, 12, 1, 15, 2, 11, 2, 12, 2, 4]\n",
    "preco = [93.0, 102.0, 18.0, 41.0, 122.0, 14.0, 71.0, 48.0, 14.0, 144.0]\n",
    "\n",
    "\n",
    "tabela = [(\"id\", \"quantidade\", \"preco\", \"total\")] + [(id[i], quantidade[i], preco[i], quantidade[i] * preco[i]) for i in range(len(id))]\n",
    "print(tabela)\n",
    "\n",
    "# Explicação da construção da tabela:\n",
    "# 1. Primeira parte: [(\"id\", \"quantidade\", \"preco\", \"total\")]\n",
    "#    - Cria uma lista com uma única tupla que serve como cabeçalho\n",
    "#    - Contém os nomes das colunas como strings\n",
    "\n",
    "# 2. Segunda parte: [(id[i], quantidade[i], preco[i], quantidade[i] * preco[i]) for i in range(len(id))]\n",
    "#    - Uma list comprehension que cria tuplas para cada linha de dados\n",
    "#    - Para cada índice i, cria uma tupla com:\n",
    "#      * id[i]: identificador do produto\n",
    "#      * quantidade[i]: quantidade vendida\n",
    "#      * preco[i]: preço unitário\n",
    "#      * quantidade[i] * preco[i]: calcula o valor total\n",
    "\n",
    "# 3. O operador + concatena o cabeçalho com as linhas de dados\n",
    "#    - Resulta em uma única lista onde a primeira tupla é o cabeçalho\n",
    "#    - Seguida por tuplas com os dados e cálculos de cada venda"
   ]
  },
  {
   "cell_type": "code",
   "execution_count": 13,
   "id": "f19a1095",
   "metadata": {},
   "outputs": [
    {
     "name": "stdout",
     "output_type": "stream",
     "text": [
      "{'ES': 6, 'SP': 8, 'RJ': 2, 'MG': 7}\n"
     ]
    }
   ],
   "source": [
    "# A partir da coluna com a informação dos Estados, crie um dicionário usando dict comprehension com a chave sendo o nome de um Estado e o valor sendo a contagem de vezes em que o Estado aparece na lista.\n",
    "\n",
    "estados = ['SP', 'ES', 'MG', 'MG', 'SP', 'MG', 'ES', 'ES', 'ES', 'SP', 'SP', 'MG', 'ES', 'SP', 'RJ', 'MG', 'RJ', 'SP', 'MG', 'SP', 'ES', 'SP', 'MG']\n",
    "\n",
    "\n",
    "# Correção: criar dicionário que conta ocorrências de cada estado\n",
    "dicionario = {estado: estados.count(estado) for estado in set(estados)}\n",
    "print(dicionario)"
   ]
  },
  {
   "cell_type": "code",
   "execution_count": 15,
   "id": "42e68f7e",
   "metadata": {},
   "outputs": [
    {
     "name": "stdout",
     "output_type": "stream",
     "text": [
      "[[8, 9, 7, 12, 8, 14], [16, 10, 7, 11, 9, 12, 7, 10], [13, 9], [9, 6, 4, 8, 5, 10, 12]]\n",
      "{'ES': [8, 9, 7, 12, 8, 14], 'SP': [16, 10, 7, 11, 9, 12, 7, 10], 'RJ': [13, 9], 'MG': [9, 6, 4, 8, 5, 10, 12]}\n",
      "{'ES': 58, 'SP': 82, 'RJ': 22, 'MG': 54}\n"
     ]
    }
   ],
   "source": [
    "funcionarios = [\n",
    "    ('SP', 16), ('ES', 8), ('MG', 9), ('MG', 6), ('SP', 10), ('MG', 4), \n",
    "    ('ES', 9), ('ES', 7), ('ES', 12), ('SP', 7), ('SP', 11), ('MG', 8), \n",
    "    ('ES', 8), ('SP', 9), ('RJ', 13), ('MG', 5), ('RJ', 9), ('SP', 12), \n",
    "    ('MG', 10), ('SP', 7), ('ES', 14), ('SP', 10), ('MG', 12)\n",
    "]\n",
    "\n",
    "\"\"\"# Dicionário para listas de colaboradores por estado\n",
    "colaboradores_por_estado = {}\n",
    "\n",
    "# Dicionário para soma total de colaboradores por estado\n",
    "soma_por_estado = {}\n",
    "\n",
    "for estado, qtd in funcionarios:\n",
    "    # Atualiza a lista\n",
    "    if estado not in colaboradores_por_estado:\n",
    "        colaboradores_por_estado[estado] = []\n",
    "    colaboradores_por_estado[estado].append(qtd)\n",
    "    \n",
    "    # Atualiza a soma\n",
    "    if estado not in soma_por_estado:\n",
    "        soma_por_estado[estado] = 0\n",
    "    soma_por_estado[estado] += qtd\n",
    "\n",
    "print(\"Colaboradores por estado (listas):\")\n",
    "print(colaboradores_por_estado)\n",
    "\n",
    "print(\"\\nSoma de colaboradores por estado:\")\n",
    "print(soma_por_estado)\"\"\"\n",
    "\n",
    "\n",
    "\n",
    "# Armazenando os estados sem repetição de valor\n",
    "estados_unicos = list(set([tupla[0] for tupla in funcionarios]))\n",
    "\n",
    "# Criando uma lista de listas com valores de funcionários de cada estado\n",
    "lista_de_listas = []\n",
    "for estado in estados_unicos:\n",
    "    lista = [tupla[1] for tupla in funcionarios if tupla[0] == estado]\n",
    "    lista_de_listas.append(lista)\n",
    "print(lista_de_listas)\n",
    "\n",
    "# Criando um dicionário com dados agrupados de funcionário por estado\n",
    "agrupamento_por_estado = {estados_unicos[i]: lista_de_listas[i] for i in range(len(estados_unicos))}\n",
    "print(agrupamento_por_estado)\n",
    "\n",
    "# Criando um dicionário com a soma de funcionários por estado\n",
    "soma_por_estado = {estados_unicos[i]: sum(lista_de_listas[i]) for i in range(len(estados_unicos))}\n",
    "print(soma_por_estado)\n"
   ]
  }
 ],
 "metadata": {
  "kernelspec": {
   "display_name": "Python 3",
   "language": "python",
   "name": "python3"
  },
  "language_info": {
   "codemirror_mode": {
    "name": "ipython",
    "version": 3
   },
   "file_extension": ".py",
   "mimetype": "text/x-python",
   "name": "python",
   "nbconvert_exporter": "python",
   "pygments_lexer": "ipython3",
   "version": "3.13.1"
  }
 },
 "nbformat": 4,
 "nbformat_minor": 5
}
