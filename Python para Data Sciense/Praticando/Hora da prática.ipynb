{
 "cells": [
  {
   "cell_type": "code",
   "execution_count": null,
   "id": "75d01e9f",
   "metadata": {},
   "outputs": [],
   "source": [
    "! pip install matplotlib"
   ]
  },
  {
   "cell_type": "code",
   "execution_count": 5,
   "id": "67ab351d",
   "metadata": {},
   "outputs": [
    {
     "name": "stdout",
     "output_type": "stream",
     "text": [
      "^C\n"
     ]
    }
   ],
   "source": [
    "\n",
    "! pip install matplotlib==3.7.1"
   ]
  },
  {
   "cell_type": "code",
   "execution_count": 2,
   "id": "d27df1a2",
   "metadata": {},
   "outputs": [
    {
     "name": "stdout",
     "output_type": "stream",
     "text": [
      "Requirement already satisfied: numpy in c:\\users\\eleilton.esg\\onedrive - uniasselvi\\alura\\python para data sciense\\.venv\\lib\\site-packages (2.2.4)\n"
     ]
    }
   ],
   "source": [
    "! pip install numpy"
   ]
  },
  {
   "cell_type": "code",
   "execution_count": 3,
   "id": "f1c56c29",
   "metadata": {},
   "outputs": [],
   "source": [
    "import numpy as np"
   ]
  },
  {
   "cell_type": "code",
   "execution_count": 4,
   "id": "897f2c1c",
   "metadata": {},
   "outputs": [
    {
     "name": "stdout",
     "output_type": "stream",
     "text": [
      "Help on method choice in module random:\n",
      "\n",
      "choice(seq) method of random.Random instance\n",
      "    Choose a random element from a non-empty sequence.\n",
      "\n"
     ]
    },
    {
     "data": {
      "text/plain": [
       "77"
      ]
     },
     "execution_count": 4,
     "metadata": {},
     "output_type": "execute_result"
    }
   ],
   "source": [
    "# Crie um programa que leia a seguinte lista de números e escolha um número desta aleatoriamente.\n",
    "lista = [8, 12, 54, 23, 43, 1, 90, 87, 105, 77]\n",
    "from random import choice\n",
    "help(choice)\n",
    "\n",
    "numero_aleatório = choice(lista)\n",
    "\n",
    "numero_aleatório\n"
   ]
  },
  {
   "cell_type": "code",
   "execution_count": 5,
   "id": "d565a6b3",
   "metadata": {},
   "outputs": [
    {
     "name": "stdout",
     "output_type": "stream",
     "text": [
      "O numero sorteado é 41.\n"
     ]
    }
   ],
   "source": [
    "# Crie um programa que sorteia, aleatoriamente, um número inteiro positivo menor que 100.\n",
    "from random import randrange\n",
    "\n",
    "numero_sorteado = randrange(0, 100)\n",
    "print(f'O numero sorteado é {numero_sorteado}.')"
   ]
  },
  {
   "cell_type": "code",
   "execution_count": 6,
   "id": "a9704405",
   "metadata": {},
   "outputs": [
    {
     "name": "stdout",
     "output_type": "stream",
     "text": [
      "O número 4 eleven a 4 é igual a 256.0 .\n"
     ]
    }
   ],
   "source": [
    "# Crie um programa que solicite à pessoa usuária digitar dois números inteiros e calcular a potência do 1º número elevado ao 2º.\n",
    "n1 = int(input('Digite o primeiro número: '))\n",
    "n2 = int(input('Digite o segundo número: '))\n",
    "\n",
    "from math import pow\n",
    "\n",
    "print(f'O número {n1} eleven a {n2} é igual a', pow(n1, n2),'.')\n",
    "\n"
   ]
  },
  {
   "cell_type": "code",
   "execution_count": null,
   "id": "61c80b9f",
   "metadata": {},
   "outputs": [
    {
     "name": "stdout",
     "output_type": "stream",
     "text": [
      "O numero sorteado é 54.\n"
     ]
    }
   ],
   "source": [
    "# Um programa deve ser escrito para sortear uma pessoa seguidora de uma rede social para ganhar um prêmio. A lista de participantes é numerada e devemos escolher aleatoriamente um número de acordo com a quantidade de participantes. Peça à pessoa usuária para fornecer o número de participantes do sorteio e devolva para ela o número sorteado.\n",
    "\n",
    "numero_sorteio = int(input('Digite a quantidade de numeros que irão para o sorteio: '))\n",
    "\n",
    "numero_sorteado = randrange(numero_sorteio)\n",
    "\n",
    "print(f'O numero sorteado é {numero_sorteado}.')\n",
    "\n",
    "\n"
   ]
  },
  {
   "cell_type": "code",
   "execution_count": 5,
   "id": "ef4dfeaa",
   "metadata": {},
   "outputs": [
    {
     "name": "stdout",
     "output_type": "stream",
     "text": [
      "Olá, Eleilton! Seu token é 7772.\n"
     ]
    }
   ],
   "source": [
    "# Você recebeu uma demanda para gerar números de token para acessar o aplicativo de uma empresa. O token precisa ser par e variar de 1000 até 9998. Escreva um código que solicita à pessoa usuária o seu nome e exibe uma mensagem junto a esse token gerado aleatoriamente.\n",
    "\n",
    "nome = str(input('Digite seu nome: '))\n",
    "# Gerar um token par entre 1000 e 9998\n",
    "token = randrange(1000, 9998, 2)\n",
    "\n",
    "print(f'Olá, {nome}! Seu token é {token}.')\n",
    "\n",
    "# O método randrange() é uma função da biblioteca random que gera números aleatórios inteiros dentro de um intervalo especificado\n",
    "# Sua sintaxe é: randrange(start, stop, step)\n",
    "# - start: número inicial do intervalo (inclusivo)\n",
    "# - stop: número final do intervalo (exclusivo) \n",
    "# - step: incremento entre os números (opcional, padrão é 1)\n",
    "# \n",
    "# Por exemplo:\n",
    "# randrange(0, 100) -> gera número entre 0 e 99\n",
    "# randrange(1000, 9998, 2) -> gera número par entre 1000 e 9996\n",
    "# randrange(10) -> equivalente a randrange(0, 10) -> gera número entre 0 e 9\n",
    "\n",
    "\n",
    "\n",
    "\n",
    "\n"
   ]
  },
  {
   "cell_type": "code",
   "execution_count": 9,
   "id": "34000adb",
   "metadata": {},
   "outputs": [
    {
     "name": "stdout",
     "output_type": "stream",
     "text": [
      "A salada que o cliente irá receber será feita pelas seguintes frutas: ['melancia', 'banana', 'abacaxi'].\n"
     ]
    }
   ],
   "source": [
    "# Para diversificar e atrair novos(as) clientes, uma lanchonete criou um item misterioso em seu cardápio chamado \"salada de frutas surpresa\". Neste item, são escolhidas aleatoriamente 3 frutas de uma lista de 12 para compor a salada de frutas da pessoa cliente. Crie o código que faça essa seleção aleatória de acordo com a lista abaixo:\n",
    "\n",
    "frutas = [\"maçã\", \"banana\", \"uva\", \"pêra\", \n",
    "          \"manga\", \"coco\", \"melancia\", \"mamão\",\n",
    "          \"laranja\", \"abacaxi\", \"kiwi\", \"ameixa\"]\n",
    "\n",
    "\n",
    "from random import sample\n",
    "frutas_sorteadas = sample(frutas, 3)\n",
    "\n",
    "print(f'A salada que o cliente irá receber será feita pelas seguintes frutas: {frutas_sorteadas}.')\n",
    "\n",
    "\n",
    "# O método sample() é uma função da biblioteca random que retorna uma lista com elementos únicos selecionados aleatoriamente de uma sequência\n",
    "# Sua sintaxe é: sample(sequence, k)\n",
    "# - sequence: sequência de onde serão selecionados os elementos (lista, tupla, string, etc)\n",
    "# - k: número de elementos a serem selecionados\n",
    "#\n",
    "# Por exemplo:\n",
    "# sample([1,2,3,4,5], 3) -> retorna uma lista com 3 números diferentes entre 1 e 5\n",
    "# sample('python', 2) -> retorna uma lista com 2 caracteres diferentes da palavra 'python'\n",
    "# sample(range(100), 5) -> retorna uma lista com 5 números diferentes entre 0 e 99\n",
    "\n"
   ]
  },
  {
   "cell_type": "code",
   "execution_count": 11,
   "id": "19ffc77c",
   "metadata": {},
   "outputs": [
    {
     "name": "stdout",
     "output_type": "stream",
     "text": [
      "[1.4142135623730951, 2.8284271247461903, 3.872983346207417, 4.795831523312719, 9.539392014169456, 10.583005244258363, 16.0]\n",
      "\n",
      "Números que têm raiz quadrada inteira: [256]\n",
      "Suas respectivas raízes: [16]\n"
     ]
    }
   ],
   "source": [
    "# Você recebeu um desafio de calcular a raiz quadrada de uma lista de números, identificando quais resultaram em um número inteiro. A lista é a seguinte:\n",
    "\n",
    "numeros = [2, 8, 15, 23, 91, 112, 256]\n",
    "\n",
    "from math import sqrt\n",
    "\n",
    "raiz_quadrada = [sqrt(numero) for numero in numeros]\n",
    "\n",
    "print(raiz_quadrada)\n",
    "\n",
    "# Verificando quais raízes quadradas são números inteiros\n",
    "raizes_inteiras = [numero for numero in numeros if sqrt(numero).is_integer()]\n",
    "\n",
    "print(f'\\nNúmeros que têm raiz quadrada inteira: {raizes_inteiras}')\n",
    "print(f'Suas respectivas raízes: {[int(sqrt(x)) for x in raizes_inteiras]}')\n",
    "\n",
    "\n",
    "\n",
    "\n",
    "\n",
    "# Explicação do código:\n",
    "\n",
    "# 1. Primeiro, importamos a função sqrt (raiz quadrada) do módulo math\n",
    "# from math import sqrt\n",
    "\n",
    "# 2. Criamos uma lista com os números que queremos calcular a raiz quadrada\n",
    "# numeros = [2, 8, 15, 23, 91, 112, 256]\n",
    "\n",
    "# 3. Usando list comprehension, calculamos a raiz quadrada de cada número da lista\n",
    "# [sqrt(numero) for numero in numeros]\n",
    "# - Para cada número na lista 'numeros', calculamos sua raiz quadrada\n",
    "# - O resultado é uma nova lista com todas as raízes, incluindo decimais\n",
    "\n",
    "# 4. Para encontrar apenas os números com raiz quadrada inteira:\n",
    "# [numero for numero in numeros if sqrt(numero).is_integer()]\n",
    "# - Para cada número na lista 'numeros'\n",
    "# - Verificamos se sua raiz quadrada é um número inteiro usando .is_integer()\n",
    "# - Se for inteiro, o número original é incluído na nova lista\n",
    "\n",
    "# 5. Por fim, mostramos as raízes inteiras:\n",
    "# [int(sqrt(x)) for x in raizes_inteiras]\n",
    "# - Para cada número que tem raiz quadrada inteira\n",
    "# - Calculamos sua raiz e convertemos para inteiro\n",
    "# - Criamos uma lista com esses valores\n",
    "\n",
    "# Neste caso, os números 2, 8, 15, 23, 91, 112, 256 foram analisados\n",
    "# Apenas 256 (raiz 16) e 16 (raiz 4) têm raiz quadrada inteira\n",
    "\n"
   ]
  },
  {
   "cell_type": "code",
   "execution_count": 4,
   "id": "e87bc2a5",
   "metadata": {},
   "outputs": [
    {
     "name": "stdout",
     "output_type": "stream",
     "text": [
      "O valor total a ser pago é de R$ 314.16\n"
     ]
    }
   ],
   "source": [
    "# Faça um programa para uma loja que vende grama para jardins. Essa loja trabalha com jardins circulares e o preço do metro quadrado da grama é de R$ 25,00. Peça à pessoa usuária o raio da área circular e devolva o valor em reais do quanto precisará pagar.\n",
    "\n",
    "# Dica: use a variável pi e o método pow() da biblioteca math. O cálculo da área de um círculo é de: A = π*r^2 (lê-se pi vezes raio ao quadrado).\n",
    "\n",
    "pi = 3.14159\n",
    "\n",
    "raio = float(input('Digite o raio da área circular em metros: '))\n",
    "\n",
    "area = pi * pow(raio, 2)\n",
    "\n",
    "print(f'O valor total a ser pago é de R$ {area * 25:.2f}')\n",
    "\n",
    "\n",
    "# Explicação do código:\n",
    "\n",
    "# 1. Definimos o valor de pi como constante\n",
    "# pi = 3.14159\n",
    "\n",
    "# 2. Solicitamos ao usuário que digite o raio da área circular e convertemos para float\n",
    "# raio = float(input('Digite o raio da área circular em metros: '))\n",
    "\n",
    "# 3. Calculamos a área do círculo usando a fórmula A = π*r^2\n",
    "# - pi: constante matemática definida anteriormente\n",
    "# - pow(raio, 2): eleva o raio ao quadrado usando a função pow()\n",
    "# area = pi * pow(raio, 2)\n",
    "\n",
    "# 4. Exibimos o resultado final\n",
    "# - Multiplicamos a área por 25 (preço do m²)\n",
    "# - Formatamos para 2 casas decimais com :.2f\n",
    "# - Usamos f-string para interpolar as variáveis\n",
    "# print(f'O valor total a ser pago é de R$ {area * 25:.2f}')\n",
    "\n",
    "\n",
    "# A função pow() é uma função matemática que permite calcular a potência de um número\n",
    "# Ela recebe dois parâmetros:\n",
    "# - base: o número que será elevado\n",
    "# - expoente: a potência que queremos calcular\n",
    "\n",
    "# Por exemplo:\n",
    "# pow(2, 3) = 8  # 2 elevado a 3 (2³)\n",
    "# pow(5, 2) = 25 # 5 elevado a 2 (5²)\n",
    "# pow(3, 4) = 81 # 3 elevado a 4 (3⁴)\n",
    "\n",
    "# No nosso código acima, usamos pow(raio, 2) para calcular o raio ao quadrado\n",
    "# É equivalente a escrever raio * raio ou raio ** 2\n",
    "\n",
    "# A função pow() é muito útil quando precisamos:\n",
    "# - Calcular potências com expoentes maiores\n",
    "# - Deixar o código mais legível\n",
    "# - Realizar cálculos matemáticos mais complexos\n",
    "\n",
    "# Ela faz parte das funções built-in do Python, então não precisa ser importada\n",
    "\n",
    "\n"
   ]
  },
  {
   "cell_type": "code",
   "execution_count": 6,
   "id": "1e18b46f",
   "metadata": {},
   "outputs": [
    {
     "name": "stdout",
     "output_type": "stream",
     "text": [
      "O quadrado de 2 é 4\n"
     ]
    }
   ],
   "source": [
    "numero = int(input('Digite um número: '))\n",
    "\n",
    "potencia = pow(numero, 2)\n",
    "\n",
    "print(f'O quadrado de {numero} é {potencia}')\n",
    "\n",
    "\n",
    "\n",
    "\n"
   ]
  },
  {
   "cell_type": "code",
   "execution_count": null,
   "id": "7763c414",
   "metadata": {},
   "outputs": [
    {
     "name": "stdout",
     "output_type": "stream",
     "text": [
      "Sorteio de números\n"
     ]
    },
    {
     "name": "stdout",
     "output_type": "stream",
     "text": [
      "O número sorteado é 59.\n"
     ]
    }
   ],
   "source": [
    "# Sorteio de numeros impares\n",
    "from random import randrange\n",
    "\n",
    "print('Sorteio de números')\n",
    "\n",
    "numero = int(input('Quantos numeros irão para o sorteio: '))\n",
    "\n",
    "numero_sorteado = randrange(numero)\n",
    "while numero_sorteado % 2 == 0:  # Enquanto o número for par\n",
    "    numero_sorteado = randrange(numero)  # Sorteia novamente\n",
    "\n",
    "print(f'O número sorteado é {numero_sorteado}.')\n",
    "\n"
   ]
  },
  {
   "cell_type": "code",
   "execution_count": 14,
   "id": "0afff64f",
   "metadata": {},
   "outputs": [
    {
     "name": "stdout",
     "output_type": "stream",
     "text": [
      "Sorteio de números\n",
      "O número sorteado é 42.\n"
     ]
    }
   ],
   "source": [
    "# Sorteio de numeros pares\n",
    "from random import randrange\n",
    "\n",
    "print('Sorteio de números')\n",
    "\n",
    "numero = int(input('Quantos numeros irão para o sorteio: '))\n",
    "\n",
    "numero_sorteado = randrange(numero)\n",
    "while numero_sorteado % 2 == 1:  # Enquanto o número for impar\n",
    "    numero_sorteado = randrange(numero)  # Sorteia novamente\n",
    "\n",
    "print(f'O número sorteado é {numero_sorteado}.')"
   ]
  },
  {
   "cell_type": "code",
   "execution_count": 4,
   "id": "11af97f1",
   "metadata": {},
   "outputs": [
    {
     "name": "stdout",
     "output_type": "stream",
     "text": [
      "O numero 54 é Par!\n"
     ]
    }
   ],
   "source": [
    "numero = int(input('Digite um número: '))\n",
    "if numero % 2 == 0:\n",
    "    print(f'O numero {numero} é Par!')\n",
    "else:\n",
    "    print(f'O numero {numero} é Impar!')    "
   ]
  },
  {
   "cell_type": "code",
   "execution_count": 13,
   "id": "be493663",
   "metadata": {},
   "outputs": [
    {
     "name": "stdout",
     "output_type": "stream",
     "text": [
      "Stephanie\n",
      "Francinete\n"
     ]
    }
   ],
   "source": [
    "nomes = {\n",
    "    'nome': 'Eleilton', \n",
    "    'namorada': 'Stephanie', \n",
    "    'mãe': 'Francinete',\n",
    "    'irmão_1': 'Elson', \n",
    "    'irmão_2': 'Velton',\n",
    "    'irmão_3': 'Nilton',\n",
    "    'sobrinho_1': 'Enzo',\n",
    "    'sobrinho_2': 'Henrique'\n",
    "}\n",
    "nome = nomes['namorada']\n",
    "nome_1 = nomes.get('mãe')\n",
    "print(nome)\n",
    "print(nome_1)"
   ]
  },
  {
   "cell_type": "markdown",
   "id": "825c0ba5",
   "metadata": {},
   "source": [
    "Em Python, existem três estruturas de dados principais para coleções:\n",
    "Dicionários (dict): Usam pares chave-valor e são definidos com chaves {} e pares chave: valor\n",
    "Conjuntos (set): Armazenam apenas valores únicos e são definidos com chaves {}\n",
    "Listas (list): Armazenam valores ordenados e são definidas com colchetes []"
   ]
  },
  {
   "cell_type": "code",
   "execution_count": null,
   "id": "662bd177",
   "metadata": {},
   "outputs": [
    {
     "name": "stdout",
     "output_type": "stream",
     "text": [
      "A soma dos numeros é 61\n",
      "O maior numero é 8\n",
      "O menor numero é 1\n",
      "A media dos numeros é 3.81\n"
     ]
    }
   ],
   "source": [
    "'''Exercício com Lista e Estrutura de repetição'''\n",
    "\n",
    "# # Crie um programa que:\n",
    "# 1. Solicite ao usuário digitar 5 números\n",
    "# 2. Armazene esses números em uma lista\n",
    "# 3. Calcule e mostre:\n",
    "#    - A soma de todos os números\n",
    "#    - O maior número\n",
    "#    - O menor número\n",
    "#    - A média dos números\n",
    "\n",
    "for numero in range(5):\n",
    "    numeros = int(input('Digite 5 números diferentes: '))\n",
    "    lista.append(numeros)\n",
    "\n",
    "print(f'A soma dos numeros é {sum(lista)}')\n",
    "print(f'O maior numero é {max(lista)}')\n",
    "print(f'O menor numero é {min(lista)}')\n",
    "print(f'A media dos numeros é {sum(lista) / len(lista):.2f}')\n",
    "\n",
    "\n"
   ]
  },
  {
   "cell_type": "code",
   "execution_count": 24,
   "id": "b5799ce2",
   "metadata": {},
   "outputs": [
    {
     "name": "stdout",
     "output_type": "stream",
     "text": [
      "{'nome': 'Produto', 'preço': 10.0, 'quantidade': 10}\n",
      "{'nome': 'Produto', 'preço': 15.0, 'quantidade': 20}\n",
      "O valor total em estoque é 300.00\n"
     ]
    }
   ],
   "source": [
    "'''Exercício com Dicionário'''\n",
    "\n",
    "# Crie um programa que:\n",
    "# 1. Crie um dicionário com informações de um produto:\n",
    "#    - nome\n",
    "#    - preço\n",
    "#    - quantidade em estoque\n",
    "# 2. Permita ao usuário:\n",
    "#    - Ver todas as informações do produto\n",
    "#    - Atualizar o preço\n",
    "#    - Atualizar a quantidade em estoque\n",
    "#    - Ver o valor total em estoque (preço * quantidade)\n",
    "\n",
    "produto = {\n",
    "    'nome': 'Produto',\n",
    "    'preço': 10.0,\n",
    "    'quantidade': 10\n",
    "}\n",
    "\n",
    "print(produto)\n",
    "\n",
    "produto['preço'] = 15.0\n",
    "produto['quantidade'] = 20\n",
    "print(produto)\n",
    "print(f'O valor total em estoque é {produto[\"preço\"] * produto[\"quantidade\"]:.2f}')\n",
    "\n",
    "\n",
    "\n",
    "\n",
    "\n"
   ]
  },
  {
   "cell_type": "code",
   "execution_count": 44,
   "id": "7607ab50",
   "metadata": {},
   "outputs": [
    {
     "name": "stdout",
     "output_type": "stream",
     "text": [
      "A pessoa mais velha é Francinete\n",
      "A pessoa mais nova é Henrique\n",
      "A média das idades é 24.75\n",
      "A cidade mais frequente é São Luís\n",
      "A pessoa mais velha é Francinete\n",
      "A pessoa mais nova é Henrique\n",
      "A média das idades é 24.75\n",
      "A cidade mais frequente é São Luís\n"
     ]
    }
   ],
   "source": [
    "nomes = [{'nome': 'Eleilton', 'idade': 32, 'cidade': 'Florianópolis'}, {'nome': 'Stephanie', 'idade': 25, 'cidade': 'Cururupu'}, {'nome': 'Francinete', 'idade': 50, 'cidade': 'São Luís'}, {'nome': 'Elson', 'idade': 28, 'cidade': 'São Luís'}, {'nome': 'Velton', 'idade': 28, 'cidade': 'São Luís'}, {'nome': 'Nilton', 'idade': 31, 'cidade': 'São luís'}, {'nome': 'Enzo', 'idade': 3, 'cidade': 'São Luís'}, {'nome': 'Henrique', 'idade': 1, 'cidade': 'São Luís'}]\n",
    "\n",
    "\n",
    "        \n",
    "# Encontrar pessoa mais velha\n",
    "idade_max = max(pessoa['idade'] for pessoa in nomes)\n",
    "pessoa_mais_velha = next(pessoa['nome'] for pessoa in nomes if pessoa['idade'] == idade_max)\n",
    "\n",
    "# Encontrar pessoa mais nova \n",
    "idade_min = min(pessoa['idade'] for pessoa in nomes)\n",
    "pessoa_mais_nova = next(pessoa['nome'] for pessoa in nomes if pessoa['idade'] == idade_min)\n",
    "\n",
    "# Calcular média de idades\n",
    "media_idades = sum(pessoa['idade'] for pessoa in nomes) / len(nomes)\n",
    "\n",
    "# Encontrar cidade mais frequente\n",
    "cidades = [pessoa['cidade'] for pessoa in nomes]\n",
    "cidade_mais_frequente = max(set(cidades), key=cidades.count)\n",
    "\n",
    "# Imprimir resultados\n",
    "print(f'A pessoa mais velha é {pessoa_mais_velha}')\n",
    "print(f'A pessoa mais nova é {pessoa_mais_nova}') \n",
    "print(f'A média das idades é {media_idades:.2f}')\n",
    "print(f'A cidade mais frequente é {cidade_mais_frequente}')\n",
    "\n",
    "# Versão simplificada\n",
    "\n",
    "# Encontrar pessoa mais velha e mais nova\n",
    "mais_velha = nomes[0]  # Começa assumindo primeira pessoa\n",
    "mais_nova = nomes[0]\n",
    "\n",
    "for pessoa in nomes:\n",
    "    if pessoa['idade'] > mais_velha['idade']:\n",
    "        mais_velha = pessoa\n",
    "    if pessoa['idade'] < mais_nova['idade']:\n",
    "        mais_nova = pessoa\n",
    "\n",
    "# Calcular média de idades\n",
    "soma_idades = 0\n",
    "for pessoa in nomes:\n",
    "    soma_idades += pessoa['idade']\n",
    "media = soma_idades / len(nomes)\n",
    "\n",
    "# Encontrar cidade mais frequente\n",
    "contagem_cidades = {}\n",
    "for pessoa in nomes:\n",
    "    cidade = pessoa['cidade']\n",
    "    if cidade in contagem_cidades:\n",
    "        contagem_cidades[cidade] += 1\n",
    "    else:\n",
    "        contagem_cidades[cidade] = 1\n",
    "\n",
    "cidade_mais_comum = ''\n",
    "max_contagem = 0\n",
    "for cidade, contagem in contagem_cidades.items():\n",
    "    if contagem > max_contagem:\n",
    "        cidade_mais_comum = cidade\n",
    "        max_contagem = contagem\n",
    "\n",
    "# Imprimir resultados\n",
    "print(f'A pessoa mais velha é {mais_velha[\"nome\"]}')\n",
    "print(f'A pessoa mais nova é {mais_nova[\"nome\"]}')\n",
    "print(f'A média das idades é {media:.2f}')\n",
    "print(f'A cidade mais frequente é {cidade_mais_comum}')\n"
   ]
  },
  {
   "cell_type": "code",
   "execution_count": 1,
   "id": "f61a977f",
   "metadata": {},
   "outputs": [
    {
     "name": "stdout",
     "output_type": "stream",
     "text": [
      "Foram digitados 5 numeros\n",
      "A soma dos numeros digitados é 20\n",
      "São pares: 3\n",
      "São impares: 2\n"
     ]
    }
   ],
   "source": [
    "numeros = []\n",
    "numero = int(input('Digite um numero inteiro qualquer ou 0 para sair: '))\n",
    "\n",
    "while numero != 0:\n",
    "    numeros.append(numero)\n",
    "    numero = int(input('Digite um numero inteiro qualquer ou 0 para sair: '))\n",
    "    \n",
    "\n",
    "print(f'Foram digitados {len(numeros)} numeros')\n",
    "print(f'A soma dos numeros digitados é {sum(numeros)}')\n",
    "print(f'São pares: {len([numero for numero in numeros if numero % 2 == 0])}')\n",
    "print(f'São impares: {len([numero for numero in numeros if numero % 2 == 1])}')\n"
   ]
  },
  {
   "cell_type": "code",
   "execution_count": 30,
   "id": "3c6e075a",
   "metadata": {},
   "outputs": [
    {
     "name": "stdout",
     "output_type": "stream",
     "text": [
      "Lista com todos os produtos: dict_keys(['arroz', 'feijão', 'macarrão', 'leite', 'pão', 'café', 'açúcar', 'óleo', 'sal', 'farinha'])\n",
      "O produto carne foi adicionado a lista de compras.\n",
      "O produto sal foi removido da lista de compras.\n",
      "O total das compras é R$ 109.13\n",
      "Compra finalizada!\n"
     ]
    }
   ],
   "source": [
    "produtos = {\n",
    "    'arroz': 22.90,\n",
    "    'feijão': 8.50,\n",
    "    'macarrão': 4.80,\n",
    "    'leite': 5.99,\n",
    "    'pão': 7.50,\n",
    "    'café': 12.90,\n",
    "    'açúcar': 4.99,\n",
    "    'óleo': 9.80,\n",
    "    'sal': 2.50,\n",
    "    'farinha': 6.75\n",
    "}\n",
    "\n",
    "produto = produtos.keys()\n",
    "print(f'Lista com todos os produtos: {produto}')\n",
    "adicionar_produto = produtos.update({'carne': 25.00})\n",
    "print(f'O produto carne foi adicionado a lista de compras.')\n",
    "remover_produtos = produtos.pop('sal')\n",
    "print(f'O produto sal foi removido da lista de compras.')\n",
    "total_compras = sum(produtos.values())\n",
    "print(f'O total das compras é R$ {total_compras:.2f}')\n",
    "print('Compra finalizada!')\n",
    "\n",
    "# Dicionário 'produtos':\n",
    "# - .keys(): retorna as chaves do dicionário\n",
    "# - .update(): adiciona novo par chave-valor ao dicionário\n",
    "# - .pop(): remove e retorna um item do dicionário pela chave\n",
    "# - .values(): retorna os valores do dicionário\n",
    "# - sum(): soma todos os valores retornados por .values()\n"
   ]
  },
  {
   "cell_type": "code",
   "execution_count": 53,
   "id": "50a80a3f",
   "metadata": {},
   "outputs": [
    {
     "name": "stdout",
     "output_type": "stream",
     "text": [
      "Lista de numeros: [1, 23, 45, 50, 74, 89, 22, 35, 86, 10]\n",
      "Lista de numeros em ordem crescente: [1, 10, 22, 23, 35, 45, 50, 74, 86, 89]\n",
      "Lista de numeros em ordem decrescente: [89, 86, 74, 50, 45, 35, 23, 22, 10, 1]\n",
      "Os números primos usando o método simplificado são: [89, 23]\n"
     ]
    }
   ],
   "source": [
    "numeros = [1, 23, 45, 50, 74, 89, 22, 35, 86, 10]\n",
    "\n",
    "print(f'Lista de numeros: {numeros}')\n",
    "ordem_crescente = numeros.sort()\n",
    "print(f'Lista de numeros em ordem crescente: {numeros}')\n",
    "ordem_decrescente = numeros.sort(reverse=True)\n",
    "print(f'Lista de numeros em ordem decrescente: {numeros}')\n",
    "\n",
    "\n",
    "# Função mais simples para verificar se um número é primo\n",
    "def eh_primo_simples(n):\n",
    "    # Números menores que 2 não são primos\n",
    "    if n < 2:\n",
    "        return False\n",
    "    # 2 é o único número par que é primo\n",
    "    if n == 2:\n",
    "        return True\n",
    "    # Se for par e diferente de 2, não é primo\n",
    "    if n % 2 == 0:\n",
    "        return False\n",
    "    # Testa apenas números ímpares até a raiz quadrada\n",
    "    for i in range(3, int(n**0.5) + 1, 2):\n",
    "        if n % i == 0:\n",
    "            return False\n",
    "    return True\n",
    "\n",
    "# Testando a nova função com a mesma lista\n",
    "numeros_primos_simples = [numero for numero in numeros if eh_primo_simples(numero)]\n",
    "print(f'Os números primos usando o método simplificado são: {numeros_primos_simples}')\n",
    "\n",
    "# Resumo das funções e métodos utilizados:\n",
    "\n",
    "\n",
    "# Lista 'numeros':\n",
    "# - .sort(): ordena a lista in-place em ordem crescente\n",
    "# - .sort(reverse=True): ordena a lista in-place em ordem decrescente\n",
    "\n",
    "# Função personalizada:\n",
    "# - eh_primo_simples(): verifica se um número é primo usando um algoritmo otimizado\n",
    "#   - Usa operadores matemáticos (%, **) \n",
    "#   - Usa estruturas de controle (if, for)\n",
    "#   - Retorna um booleano (True/False)\n",
    "\n",
    "# List comprehension:\n",
    "# - [numero for numero in numeros if eh_primo_simples(numero)]\n",
    "#   Cria uma nova lista aplicando a função eh_primo_simples em cada número da lista original\n"
   ]
  }
 ],
 "metadata": {
  "kernelspec": {
   "display_name": ".venv",
   "language": "python",
   "name": "python3"
  },
  "language_info": {
   "codemirror_mode": {
    "name": "ipython",
    "version": 3
   },
   "file_extension": ".py",
   "mimetype": "text/x-python",
   "name": "python",
   "nbconvert_exporter": "python",
   "pygments_lexer": "ipython3",
   "version": "3.13.2"
  }
 },
 "nbformat": 4,
 "nbformat_minor": 5
}
