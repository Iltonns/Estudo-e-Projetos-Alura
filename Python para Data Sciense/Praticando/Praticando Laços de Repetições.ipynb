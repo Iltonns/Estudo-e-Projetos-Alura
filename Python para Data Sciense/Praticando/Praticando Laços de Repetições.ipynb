{
 "cells": [
  {
   "cell_type": "code",
   "execution_count": null,
   "metadata": {},
   "outputs": [],
   "source": [
    "\n",
    "for numero_inteiro in range(1, 20):\n",
    "    print(numero_inteiro)"
   ]
  },
  {
   "cell_type": "code",
   "execution_count": null,
   "metadata": {},
   "outputs": [],
   "source": [
    "# Para tratar uma quantidade de 15 dados de avaliações de pessoas usuárias de um serviço da empresa, precisamos verificar se as notas são válidas. Então, escreva um programa que vai receber a nota de 0 a 5 de todos os dados e verificar se é um valor válido. Caso seja inserido uma nota acima de 5 ou abaixo de 0, repita até que a pessoa usuária insira um valor válido.\n",
    "\n",
    "nota = 1\n",
    "while nota <= 15:\n",
    "    nota_avaliação = int(input(f'Digite a sua nota de avaliação (Ente 0 e 5): '))\n",
    "    if 0 <= nota_avaliação <= 5:\n",
    "       nota += 1\n",
    "    else:\n",
    "        print('Valor inválido! Digite um valor válido.')"
   ]
  },
  {
   "cell_type": "code",
   "execution_count": null,
   "metadata": {},
   "outputs": [],
   "source": [
    "#  Desenvolva um programa que leia um conjunto indeterminado de temperaturas em Celsius e informe a média delas. A leitura deve ser encerrada ao ser enviado o valor -273°C.   \n",
    "\n",
    "# Desenvolva um programa que leia um conjunto indeterminado de temperaturas em Celsius\n",
    "# e informe a média delas. A leitura deve ser encerrada ao ser enviado o valor -273°C.\n",
    "\n",
    "temperaturas = []  # Lista para armazenar as temperaturas\n",
    "while True:\n",
    "    temperatura_atual = int(input('Digite a temperatura atual em °C (ou -273 para encerrar): '))\n",
    "    if temperatura_atual == -273:  # Condição de parada\n",
    "        break\n",
    "    temperaturas.append(temperatura_atual)  # Adiciona a temperatura à lista\n",
    "\n",
    "if temperaturas:  # Verifica se há temperaturas para calcular a média\n",
    "    media = sum(temperaturas) / len(temperaturas)\n",
    "    print(f'A temperatura média é de: {media:.2f} °C')\n",
    "else:\n",
    "    print('Nenhuma temperatura foi registrada.')\n"
   ]
  },
  {
   "cell_type": "code",
   "execution_count": null,
   "metadata": {},
   "outputs": [],
   "source": [
    "# Escreva um programa que calcule o fatorial de um número inteiro fornecido pela pessoa usuária. Lembrando que o fatorial de um número inteiro é a multiplicação desse número por todos os seus antecessores até o número 1. Por exemplo, o fatorial de 5 é 5 x 4 x 3 x 2 x 1 = 120.\n",
    "\n",
    "import math\n",
    "\n",
    "numero = int(input('Digite qualquer número inteiro: '))\n",
    "fatorial = math.factorial(numero)\n",
    "print(f'O fatorial de {numero} é {fatorial}!')"
   ]
  },
  {
   "cell_type": "code",
   "execution_count": null,
   "metadata": {},
   "outputs": [],
   "source": [
    "#  Escreva um programa que gere a tabuada de um número inteiro de 1 a 10, de acordo com a escolha da pessoa usuária.\n",
    "\n",
    "numero = int(input('Digite o número para ver sua tabuada: '))\n",
    "print(f'Tabuada do número {numero}:')\n",
    "for i in range(1, 11):  # Gera os números de 1 a 10\n",
    "    resultado = numero * i  # Multiplica o número escolhido pelo contador\n",
    "    print(f'{numero} x {i} = {resultado}')"
   ]
  },
  {
   "cell_type": "code",
   "execution_count": null,
   "metadata": {},
   "outputs": [],
   "source": [
    "\"\"\" Em uma eleição para gerência em uma empresa com 20 pessoas colaboradoras, existem quatro candidatos(as). Escreva um programa que calcule o(a) vencedor(a) da eleição. A votação ocorreu da seguinte maneira:\n",
    "\n",
    "Cada colaborador(a) votou em uma das quatro pessoas candidatas (que representamos pelos números 1, 2, 3 e 4).\n",
    "Também foram contabilizados os votos nulos (representados pelo número 5) e os votos em branco (representados pelo número 6).\n",
    "Ao final da votação, o programa deve exibir o número total de votos para cada candidato(a), os nulos e os votos em branco. Além disso, deve calcular e exibir a porcentagem de votos nulos em relação ao total de votos e a porcentagem de votos em branco em relação ao total de votos. \"\"\"\n",
    "\n",
    "votos_candidado_1 = 0\n",
    "votos_candidado_2 = 0\n",
    "votos_candidado_3 = 0\n",
    "votos_candidado_4 = 0\n",
    "votos_nulos = 0\n",
    "votos_brancos = 0\n",
    "\n",
    "for voto in range(20):\n",
    "    voto = int(input('Digite o número do seu candidato (1, 2, 3, 4 nulo(5), branco(6)): '))\n",
    "    if voto == 1:\n",
    "        votos_candidado_1 += 1\n",
    "    elif voto == 2:\n",
    "        votos_candidado_2 += 1\n",
    "    elif voto == 3:\n",
    "        votos_candidado_3 += 1\n",
    "    elif voto == 4:\n",
    "        votos_candidado_4 += 1\n",
    "    elif voto == 5:\n",
    "        votos_nulos += 1\n",
    "    elif voto == 6:\n",
    "        votos_brancos += 1\n",
    "    else:\n",
    "        print(\"Voto inválido! Tente novamente.\")\n",
    "\n",
    "porcentagem_nulos = (votos_nulos / 20) * 100\n",
    "porcentagem_brancos = (votos_brancos / 20) * 100        \n",
    "\n",
    "print(f'O candidato 1 teve {votos_candidado_1} votos!')\n",
    "print(f'O candidato 2 teve {votos_candidado_2} votos!')\n",
    "print(f'O candidato 3 teve {votos_candidado_3} votos!')\n",
    "print(f'O candidato 4 teve {votos_candidado_4} votos!')\n",
    "print(f'Houve {votos_nulos} votos nulos!')\n",
    "print(f'Houve {votos_brancos} votos em branco!')\n",
    "print(f'Porcentagem de votos nulos: {porcentagem_nulos:.2f}%')\n",
    "print(f'Porcentagem de votos em branco: {porcentagem_brancos:.2f}%')\n",
    "\n"
   ]
  }
 ],
 "metadata": {
  "kernelspec": {
   "display_name": ".venv",
   "language": "python",
   "name": "python3"
  },
  "language_info": {
   "name": "python",
   "version": "3.13.2"
  }
 },
 "nbformat": 4,
 "nbformat_minor": 2
}
